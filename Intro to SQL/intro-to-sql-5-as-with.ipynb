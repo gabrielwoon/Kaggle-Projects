{
 "cells": [
  {
   "cell_type": "markdown",
   "id": "1cb5048b",
   "metadata": {
    "papermill": {
     "duration": 0.008008,
     "end_time": "2022-12-13T16:41:03.844198",
     "exception": false,
     "start_time": "2022-12-13T16:41:03.836190",
     "status": "completed"
    },
    "tags": []
   },
   "source": [
    "**This notebook is an exercise in the [SQL](https://www.kaggle.com/learn/intro-to-sql) course.  You can reference the tutorial at [this link](https://www.kaggle.com/dansbecker/as-with).**\n",
    "\n",
    "---\n"
   ]
  },
  {
   "cell_type": "markdown",
   "id": "6ad0f222",
   "metadata": {
    "papermill": {
     "duration": 0.007618,
     "end_time": "2022-12-13T16:41:03.858582",
     "exception": false,
     "start_time": "2022-12-13T16:41:03.850964",
     "status": "completed"
    },
    "tags": []
   },
   "source": [
    "# Introduction\n",
    "\n",
    "You are getting to the point where you can own an analysis from beginning to end. So you'll do more data exploration in this exercise than you've done before.  Before you get started, run the following set-up code as usual. "
   ]
  },
  {
   "cell_type": "code",
   "execution_count": 1,
   "id": "8cd0ff11",
   "metadata": {
    "execution": {
     "iopub.execute_input": "2022-12-13T16:41:03.877057Z",
     "iopub.status.busy": "2022-12-13T16:41:03.875713Z",
     "iopub.status.idle": "2022-12-13T16:41:07.269792Z",
     "shell.execute_reply": "2022-12-13T16:41:07.267919Z"
    },
    "papermill": {
     "duration": 3.406461,
     "end_time": "2022-12-13T16:41:07.272894",
     "exception": false,
     "start_time": "2022-12-13T16:41:03.866433",
     "status": "completed"
    },
    "tags": []
   },
   "outputs": [
    {
     "name": "stdout",
     "output_type": "stream",
     "text": [
      "Using Kaggle's public dataset BigQuery integration.\n"
     ]
    },
    {
     "name": "stderr",
     "output_type": "stream",
     "text": [
      "/opt/conda/lib/python3.7/site-packages/google/cloud/bigquery/client.py:440: UserWarning: Cannot create BigQuery Storage client, the dependency google-cloud-bigquery-storage is not installed.\n",
      "  \"Cannot create BigQuery Storage client, the dependency \"\n"
     ]
    },
    {
     "name": "stdout",
     "output_type": "stream",
     "text": [
      "Setup Complete\n"
     ]
    }
   ],
   "source": [
    "# Set up feedback system\n",
    "from learntools.core import binder\n",
    "binder.bind(globals())\n",
    "from learntools.sql.ex5 import *\n",
    "print(\"Setup Complete\")"
   ]
  },
  {
   "cell_type": "markdown",
   "id": "540de4ce",
   "metadata": {
    "papermill": {
     "duration": 0.006628,
     "end_time": "2022-12-13T16:41:07.286693",
     "exception": false,
     "start_time": "2022-12-13T16:41:07.280065",
     "status": "completed"
    },
    "tags": []
   },
   "source": [
    "You'll work with a dataset about taxi trips in the city of Chicago. Run the cell below to fetch the `chicago_taxi_trips` dataset."
   ]
  },
  {
   "cell_type": "code",
   "execution_count": 2,
   "id": "f185ef30",
   "metadata": {
    "execution": {
     "iopub.execute_input": "2022-12-13T16:41:07.302130Z",
     "iopub.status.busy": "2022-12-13T16:41:07.301697Z",
     "iopub.status.idle": "2022-12-13T16:41:07.682470Z",
     "shell.execute_reply": "2022-12-13T16:41:07.681030Z"
    },
    "papermill": {
     "duration": 0.391753,
     "end_time": "2022-12-13T16:41:07.685125",
     "exception": false,
     "start_time": "2022-12-13T16:41:07.293372",
     "status": "completed"
    },
    "tags": []
   },
   "outputs": [
    {
     "name": "stdout",
     "output_type": "stream",
     "text": [
      "Using Kaggle's public dataset BigQuery integration.\n"
     ]
    }
   ],
   "source": [
    "from google.cloud import bigquery\n",
    "\n",
    "# Create a \"Client\" object\n",
    "client = bigquery.Client()\n",
    "\n",
    "# Construct a reference to the \"chicago_taxi_trips\" dataset\n",
    "dataset_ref = client.dataset(\"chicago_taxi_trips\", project=\"bigquery-public-data\")\n",
    "\n",
    "# API request - fetch the dataset\n",
    "dataset = client.get_dataset(dataset_ref)"
   ]
  },
  {
   "cell_type": "markdown",
   "id": "d5232a02",
   "metadata": {
    "papermill": {
     "duration": 0.006509,
     "end_time": "2022-12-13T16:41:07.699016",
     "exception": false,
     "start_time": "2022-12-13T16:41:07.692507",
     "status": "completed"
    },
    "tags": []
   },
   "source": [
    "# Exercises\n",
    "\n",
    "You are curious how much slower traffic moves when traffic volume is high. This involves a few steps.\n",
    "\n",
    "### 1) Find the data\n",
    "Before you can access the data, you need to find the table name with the data.\n",
    "\n",
    "*Hint*: Tab completion is helpful whenever you can't remember a command. Type `client.` and then hit the tab key. Don't forget the period before hitting tab."
   ]
  },
  {
   "cell_type": "code",
   "execution_count": 3,
   "id": "204329ea",
   "metadata": {
    "execution": {
     "iopub.execute_input": "2022-12-13T16:41:07.716093Z",
     "iopub.status.busy": "2022-12-13T16:41:07.715691Z",
     "iopub.status.idle": "2022-12-13T16:41:07.977552Z",
     "shell.execute_reply": "2022-12-13T16:41:07.975471Z"
    },
    "papermill": {
     "duration": 0.274522,
     "end_time": "2022-12-13T16:41:07.980879",
     "exception": false,
     "start_time": "2022-12-13T16:41:07.706357",
     "status": "completed"
    },
    "tags": []
   },
   "outputs": [
    {
     "name": "stdout",
     "output_type": "stream",
     "text": [
      "taxi_trips\n"
     ]
    }
   ],
   "source": [
    "# Your code here to find the table name\n",
    "tables = list(client.list_tables(dataset))\n",
    "\n",
    "for table in tables:  \n",
    "    print(table.table_id)"
   ]
  },
  {
   "cell_type": "code",
   "execution_count": 4,
   "id": "45a53498",
   "metadata": {
    "execution": {
     "iopub.execute_input": "2022-12-13T16:41:07.998865Z",
     "iopub.status.busy": "2022-12-13T16:41:07.998425Z",
     "iopub.status.idle": "2022-12-13T16:41:08.011491Z",
     "shell.execute_reply": "2022-12-13T16:41:08.009914Z"
    },
    "papermill": {
     "duration": 0.024739,
     "end_time": "2022-12-13T16:41:08.014176",
     "exception": false,
     "start_time": "2022-12-13T16:41:07.989437",
     "status": "completed"
    },
    "tags": []
   },
   "outputs": [
    {
     "data": {
      "application/javascript": [
       "parent.postMessage({\"jupyterEvent\": \"custom.exercise_interaction\", \"data\": {\"outcomeType\": 1, \"valueTowardsCompletion\": 0.16666666666666666, \"interactionType\": 1, \"questionType\": 1, \"questionId\": \"1_GetTableName\", \"learnToolsVersion\": \"0.3.4\", \"failureMessage\": \"\", \"exceptionClass\": \"\", \"trace\": \"\"}}, \"*\")"
      ],
      "text/plain": [
       "<IPython.core.display.Javascript object>"
      ]
     },
     "metadata": {},
     "output_type": "display_data"
    },
    {
     "data": {
      "text/markdown": [
       "<span style=\"color:#33cc33\">Correct</span>"
      ],
      "text/plain": [
       "Correct"
      ]
     },
     "metadata": {},
     "output_type": "display_data"
    }
   ],
   "source": [
    "# Write the table name as a string below\n",
    "table_name = 'taxi_trips'\n",
    "\n",
    "# Check your answer\n",
    "q_1.check()"
   ]
  },
  {
   "cell_type": "markdown",
   "id": "08c0dff4",
   "metadata": {
    "papermill": {
     "duration": 0.006647,
     "end_time": "2022-12-13T16:41:08.028011",
     "exception": false,
     "start_time": "2022-12-13T16:41:08.021364",
     "status": "completed"
    },
    "tags": []
   },
   "source": [
    "For the solution, uncomment the line below."
   ]
  },
  {
   "cell_type": "code",
   "execution_count": 5,
   "id": "7470e656",
   "metadata": {
    "execution": {
     "iopub.execute_input": "2022-12-13T16:41:08.044771Z",
     "iopub.status.busy": "2022-12-13T16:41:08.044370Z",
     "iopub.status.idle": "2022-12-13T16:41:08.054063Z",
     "shell.execute_reply": "2022-12-13T16:41:08.052902Z"
    },
    "papermill": {
     "duration": 0.021107,
     "end_time": "2022-12-13T16:41:08.056381",
     "exception": false,
     "start_time": "2022-12-13T16:41:08.035274",
     "status": "completed"
    },
    "tags": []
   },
   "outputs": [
    {
     "data": {
      "application/javascript": [
       "parent.postMessage({\"jupyterEvent\": \"custom.exercise_interaction\", \"data\": {\"interactionType\": 3, \"questionType\": 1, \"questionId\": \"1_GetTableName\", \"learnToolsVersion\": \"0.3.4\", \"valueTowardsCompletion\": 0.0, \"failureMessage\": \"\", \"exceptionClass\": \"\", \"trace\": \"\", \"outcomeType\": 4}}, \"*\")"
      ],
      "text/plain": [
       "<IPython.core.display.Javascript object>"
      ]
     },
     "metadata": {},
     "output_type": "display_data"
    },
    {
     "data": {
      "text/markdown": [
       "<span style=\"color:#33cc99\">Solution:</span> \n",
       "```python\n",
       "\n",
       "# List all the tables in the dataset\n",
       "tables = list(client.list_tables(dataset))\n",
       "\n",
       "# Print names of all tables in the dataset (there is only one!)\n",
       "for table in tables:  \n",
       "    print(table.table_id)\n",
       "\n",
       "table_name = 'taxi_trips'\n",
       "    \n",
       "```"
      ],
      "text/plain": [
       "Solution: \n",
       "```python\n",
       "\n",
       "# List all the tables in the dataset\n",
       "tables = list(client.list_tables(dataset))\n",
       "\n",
       "# Print names of all tables in the dataset (there is only one!)\n",
       "for table in tables:  \n",
       "    print(table.table_id)\n",
       "\n",
       "table_name = 'taxi_trips'\n",
       "    \n",
       "```"
      ]
     },
     "metadata": {},
     "output_type": "display_data"
    }
   ],
   "source": [
    "q_1.solution()"
   ]
  },
  {
   "cell_type": "markdown",
   "id": "55a188dd",
   "metadata": {
    "papermill": {
     "duration": 0.006969,
     "end_time": "2022-12-13T16:41:08.071379",
     "exception": false,
     "start_time": "2022-12-13T16:41:08.064410",
     "status": "completed"
    },
    "tags": []
   },
   "source": [
    "### 2) Peek at the data\n",
    "\n",
    "Use the next code cell to peek at the top few rows of the data. Inspect the data and see if any issues with data quality are immediately obvious. "
   ]
  },
  {
   "cell_type": "code",
   "execution_count": 6,
   "id": "3782c3f6",
   "metadata": {
    "execution": {
     "iopub.execute_input": "2022-12-13T16:41:08.088860Z",
     "iopub.status.busy": "2022-12-13T16:41:08.088431Z",
     "iopub.status.idle": "2022-12-13T16:41:09.616080Z",
     "shell.execute_reply": "2022-12-13T16:41:09.614568Z"
    },
    "papermill": {
     "duration": 1.540201,
     "end_time": "2022-12-13T16:41:09.619305",
     "exception": false,
     "start_time": "2022-12-13T16:41:08.079104",
     "status": "completed"
    },
    "tags": []
   },
   "outputs": [
    {
     "name": "stderr",
     "output_type": "stream",
     "text": [
      "/opt/conda/lib/python3.7/site-packages/ipykernel_launcher.py:6: UserWarning: Cannot use bqstorage_client if max_results is set, reverting to fetching data with the tabledata.list endpoint.\n",
      "  \n"
     ]
    },
    {
     "data": {
      "text/html": [
       "<div>\n",
       "<style scoped>\n",
       "    .dataframe tbody tr th:only-of-type {\n",
       "        vertical-align: middle;\n",
       "    }\n",
       "\n",
       "    .dataframe tbody tr th {\n",
       "        vertical-align: top;\n",
       "    }\n",
       "\n",
       "    .dataframe thead th {\n",
       "        text-align: right;\n",
       "    }\n",
       "</style>\n",
       "<table border=\"1\" class=\"dataframe\">\n",
       "  <thead>\n",
       "    <tr style=\"text-align: right;\">\n",
       "      <th></th>\n",
       "      <th>unique_key</th>\n",
       "      <th>taxi_id</th>\n",
       "      <th>trip_start_timestamp</th>\n",
       "      <th>trip_end_timestamp</th>\n",
       "      <th>trip_seconds</th>\n",
       "      <th>trip_miles</th>\n",
       "      <th>pickup_census_tract</th>\n",
       "      <th>dropoff_census_tract</th>\n",
       "      <th>pickup_community_area</th>\n",
       "      <th>dropoff_community_area</th>\n",
       "      <th>...</th>\n",
       "      <th>extras</th>\n",
       "      <th>trip_total</th>\n",
       "      <th>payment_type</th>\n",
       "      <th>company</th>\n",
       "      <th>pickup_latitude</th>\n",
       "      <th>pickup_longitude</th>\n",
       "      <th>pickup_location</th>\n",
       "      <th>dropoff_latitude</th>\n",
       "      <th>dropoff_longitude</th>\n",
       "      <th>dropoff_location</th>\n",
       "    </tr>\n",
       "  </thead>\n",
       "  <tbody>\n",
       "    <tr>\n",
       "      <th>0</th>\n",
       "      <td>af6765169abd3a4d4273cadc331cec06c561df08</td>\n",
       "      <td>271cde2c4b4cc7b38a86c7e9b1543474230949e7fa5925...</td>\n",
       "      <td>2013-07-07 01:15:00+00:00</td>\n",
       "      <td>2013-07-07 01:15:00+00:00</td>\n",
       "      <td>0</td>\n",
       "      <td>0.1</td>\n",
       "      <td>NaN</td>\n",
       "      <td>NaN</td>\n",
       "      <td>7</td>\n",
       "      <td>7</td>\n",
       "      <td>...</td>\n",
       "      <td>0.0</td>\n",
       "      <td>3.45</td>\n",
       "      <td>Cash</td>\n",
       "      <td>None</td>\n",
       "      <td>41.922686</td>\n",
       "      <td>-87.649489</td>\n",
       "      <td>POINT (-87.6494887289 41.9226862843)</td>\n",
       "      <td>41.922686</td>\n",
       "      <td>-87.649489</td>\n",
       "      <td>POINT (-87.6494887289 41.9226862843)</td>\n",
       "    </tr>\n",
       "    <tr>\n",
       "      <th>1</th>\n",
       "      <td>25fa321d5c22728eea8df33ec676da2b1af940bc</td>\n",
       "      <td>c0ac5f25d3a2d15b6af35c3d9c5af43688189a9b9352eb...</td>\n",
       "      <td>2013-08-18 14:00:00+00:00</td>\n",
       "      <td>2013-08-18 14:00:00+00:00</td>\n",
       "      <td>180</td>\n",
       "      <td>0.2</td>\n",
       "      <td>1.703108e+10</td>\n",
       "      <td>1.703108e+10</td>\n",
       "      <td>8</td>\n",
       "      <td>8</td>\n",
       "      <td>...</td>\n",
       "      <td>0.0</td>\n",
       "      <td>4.25</td>\n",
       "      <td>Cash</td>\n",
       "      <td>None</td>\n",
       "      <td>41.892508</td>\n",
       "      <td>-87.626215</td>\n",
       "      <td>POINT (-87.6262149064 41.8925077809)</td>\n",
       "      <td>41.892508</td>\n",
       "      <td>-87.626215</td>\n",
       "      <td>POINT (-87.6262149064 41.8925077809)</td>\n",
       "    </tr>\n",
       "    <tr>\n",
       "      <th>2</th>\n",
       "      <td>cb0239ab3f8094dd1f59c24cea6fb04828dd96f9</td>\n",
       "      <td>92a268bbd40ab9939136f48ebcc1aa86dacb1f53b2fb17...</td>\n",
       "      <td>2013-07-10 11:30:00+00:00</td>\n",
       "      <td>2013-07-10 11:45:00+00:00</td>\n",
       "      <td>840</td>\n",
       "      <td>2.5</td>\n",
       "      <td>1.703128e+10</td>\n",
       "      <td>1.703133e+10</td>\n",
       "      <td>28</td>\n",
       "      <td>33</td>\n",
       "      <td>...</td>\n",
       "      <td>1.0</td>\n",
       "      <td>10.65</td>\n",
       "      <td>Cash</td>\n",
       "      <td>None</td>\n",
       "      <td>41.879255</td>\n",
       "      <td>-87.642649</td>\n",
       "      <td>POINT (-87.642648998 41.8792550844)</td>\n",
       "      <td>41.859350</td>\n",
       "      <td>-87.617358</td>\n",
       "      <td>POINT (-87.6173580061 41.859349715)</td>\n",
       "    </tr>\n",
       "    <tr>\n",
       "      <th>3</th>\n",
       "      <td>05355404e7cf69c2240f998944d71eea102bb910</td>\n",
       "      <td>10ea6a4868a3c8225255617c20b0e0b1f2a56b550efbb9...</td>\n",
       "      <td>2013-07-14 21:30:00+00:00</td>\n",
       "      <td>2013-07-14 21:30:00+00:00</td>\n",
       "      <td>300</td>\n",
       "      <td>0.8</td>\n",
       "      <td>1.703108e+10</td>\n",
       "      <td>1.703184e+10</td>\n",
       "      <td>8</td>\n",
       "      <td>24</td>\n",
       "      <td>...</td>\n",
       "      <td>1.0</td>\n",
       "      <td>8.45</td>\n",
       "      <td>Credit Card</td>\n",
       "      <td>None</td>\n",
       "      <td>41.892073</td>\n",
       "      <td>-87.628874</td>\n",
       "      <td>POINT (-87.6288741572 41.8920726347)</td>\n",
       "      <td>41.898306</td>\n",
       "      <td>-87.653614</td>\n",
       "      <td>POINT (-87.6536139825 41.8983058696)</td>\n",
       "    </tr>\n",
       "    <tr>\n",
       "      <th>4</th>\n",
       "      <td>bc90b3c63d8c29578a4ff3a5282c2954b88128b7</td>\n",
       "      <td>264b8aad6a6da00fe55c46c42a3d63fdafca5fa951fcbb...</td>\n",
       "      <td>2013-07-05 14:00:00+00:00</td>\n",
       "      <td>2013-07-05 14:00:00+00:00</td>\n",
       "      <td>480</td>\n",
       "      <td>1.7</td>\n",
       "      <td>1.703132e+10</td>\n",
       "      <td>1.703133e+10</td>\n",
       "      <td>32</td>\n",
       "      <td>33</td>\n",
       "      <td>...</td>\n",
       "      <td>2.0</td>\n",
       "      <td>11.45</td>\n",
       "      <td>Credit Card</td>\n",
       "      <td>None</td>\n",
       "      <td>41.877406</td>\n",
       "      <td>-87.621972</td>\n",
       "      <td>POINT (-87.6219716519 41.8774061234)</td>\n",
       "      <td>41.859350</td>\n",
       "      <td>-87.617358</td>\n",
       "      <td>POINT (-87.6173580061 41.859349715)</td>\n",
       "    </tr>\n",
       "  </tbody>\n",
       "</table>\n",
       "<p>5 rows × 23 columns</p>\n",
       "</div>"
      ],
      "text/plain": [
       "                                 unique_key  \\\n",
       "0  af6765169abd3a4d4273cadc331cec06c561df08   \n",
       "1  25fa321d5c22728eea8df33ec676da2b1af940bc   \n",
       "2  cb0239ab3f8094dd1f59c24cea6fb04828dd96f9   \n",
       "3  05355404e7cf69c2240f998944d71eea102bb910   \n",
       "4  bc90b3c63d8c29578a4ff3a5282c2954b88128b7   \n",
       "\n",
       "                                             taxi_id  \\\n",
       "0  271cde2c4b4cc7b38a86c7e9b1543474230949e7fa5925...   \n",
       "1  c0ac5f25d3a2d15b6af35c3d9c5af43688189a9b9352eb...   \n",
       "2  92a268bbd40ab9939136f48ebcc1aa86dacb1f53b2fb17...   \n",
       "3  10ea6a4868a3c8225255617c20b0e0b1f2a56b550efbb9...   \n",
       "4  264b8aad6a6da00fe55c46c42a3d63fdafca5fa951fcbb...   \n",
       "\n",
       "       trip_start_timestamp        trip_end_timestamp  trip_seconds  \\\n",
       "0 2013-07-07 01:15:00+00:00 2013-07-07 01:15:00+00:00             0   \n",
       "1 2013-08-18 14:00:00+00:00 2013-08-18 14:00:00+00:00           180   \n",
       "2 2013-07-10 11:30:00+00:00 2013-07-10 11:45:00+00:00           840   \n",
       "3 2013-07-14 21:30:00+00:00 2013-07-14 21:30:00+00:00           300   \n",
       "4 2013-07-05 14:00:00+00:00 2013-07-05 14:00:00+00:00           480   \n",
       "\n",
       "   trip_miles  pickup_census_tract  dropoff_census_tract  \\\n",
       "0         0.1                  NaN                   NaN   \n",
       "1         0.2         1.703108e+10          1.703108e+10   \n",
       "2         2.5         1.703128e+10          1.703133e+10   \n",
       "3         0.8         1.703108e+10          1.703184e+10   \n",
       "4         1.7         1.703132e+10          1.703133e+10   \n",
       "\n",
       "   pickup_community_area  dropoff_community_area  ...  extras  trip_total  \\\n",
       "0                      7                       7  ...     0.0        3.45   \n",
       "1                      8                       8  ...     0.0        4.25   \n",
       "2                     28                      33  ...     1.0       10.65   \n",
       "3                      8                      24  ...     1.0        8.45   \n",
       "4                     32                      33  ...     2.0       11.45   \n",
       "\n",
       "   payment_type  company  pickup_latitude pickup_longitude  \\\n",
       "0          Cash     None        41.922686       -87.649489   \n",
       "1          Cash     None        41.892508       -87.626215   \n",
       "2          Cash     None        41.879255       -87.642649   \n",
       "3   Credit Card     None        41.892073       -87.628874   \n",
       "4   Credit Card     None        41.877406       -87.621972   \n",
       "\n",
       "                        pickup_location  dropoff_latitude  dropoff_longitude  \\\n",
       "0  POINT (-87.6494887289 41.9226862843)         41.922686         -87.649489   \n",
       "1  POINT (-87.6262149064 41.8925077809)         41.892508         -87.626215   \n",
       "2   POINT (-87.642648998 41.8792550844)         41.859350         -87.617358   \n",
       "3  POINT (-87.6288741572 41.8920726347)         41.898306         -87.653614   \n",
       "4  POINT (-87.6219716519 41.8774061234)         41.859350         -87.617358   \n",
       "\n",
       "                       dropoff_location  \n",
       "0  POINT (-87.6494887289 41.9226862843)  \n",
       "1  POINT (-87.6262149064 41.8925077809)  \n",
       "2   POINT (-87.6173580061 41.859349715)  \n",
       "3  POINT (-87.6536139825 41.8983058696)  \n",
       "4   POINT (-87.6173580061 41.859349715)  \n",
       "\n",
       "[5 rows x 23 columns]"
      ]
     },
     "execution_count": 6,
     "metadata": {},
     "output_type": "execute_result"
    }
   ],
   "source": [
    "# Your code here\n",
    "table_ref = dataset_ref.table(\"taxi_trips\")\n",
    "\n",
    "table = client.get_table(table_ref)\n",
    "\n",
    "client.list_rows(table, max_results=5).to_dataframe()"
   ]
  },
  {
   "cell_type": "markdown",
   "id": "7bf47e38",
   "metadata": {
    "papermill": {
     "duration": 0.007528,
     "end_time": "2022-12-13T16:41:09.635482",
     "exception": false,
     "start_time": "2022-12-13T16:41:09.627954",
     "status": "completed"
    },
    "tags": []
   },
   "source": [
    "After deciding whether you see any important issues, run the code cell below."
   ]
  },
  {
   "cell_type": "code",
   "execution_count": 7,
   "id": "2a7b2476",
   "metadata": {
    "execution": {
     "iopub.execute_input": "2022-12-13T16:41:09.653410Z",
     "iopub.status.busy": "2022-12-13T16:41:09.652953Z",
     "iopub.status.idle": "2022-12-13T16:41:09.662912Z",
     "shell.execute_reply": "2022-12-13T16:41:09.661606Z"
    },
    "papermill": {
     "duration": 0.022854,
     "end_time": "2022-12-13T16:41:09.666381",
     "exception": false,
     "start_time": "2022-12-13T16:41:09.643527",
     "status": "completed"
    },
    "tags": []
   },
   "outputs": [
    {
     "data": {
      "application/javascript": [
       "parent.postMessage({\"jupyterEvent\": \"custom.exercise_interaction\", \"data\": {\"interactionType\": 3, \"questionType\": 4, \"questionId\": \"2_WhatsWrongWithData\", \"learnToolsVersion\": \"0.3.4\", \"valueTowardsCompletion\": 0.0, \"failureMessage\": \"\", \"exceptionClass\": \"\", \"trace\": \"\", \"outcomeType\": 4}}, \"*\")"
      ],
      "text/plain": [
       "<IPython.core.display.Javascript object>"
      ]
     },
     "metadata": {},
     "output_type": "display_data"
    },
    {
     "data": {
      "text/markdown": [
       "<span style=\"color:#33cc99\">Solution:</span> \n",
       "You can see the data by calling: \n",
       "```python\n",
       "# Construct a reference to the \"taxi_trips\" table\n",
       "table_ref = dataset_ref.table(\"taxi_trips\")\n",
       "\n",
       "# API request - fetch the table\n",
       "table = client.get_table(table_ref)\n",
       "\n",
       "# Preview the first five lines of the \"taxi_trips\" table\n",
       "client.list_rows(table, max_results=5).to_dataframe()\n",
       "```\n",
       "\n",
       "Some trips in the top few rows have `trip_seconds` or `trip_miles` values of 0. \n",
       "Other location fields have values of `None`. That is a problem if we want to use those fields.\n"
      ],
      "text/plain": [
       "Solution: \n",
       "You can see the data by calling: \n",
       "```python\n",
       "# Construct a reference to the \"taxi_trips\" table\n",
       "table_ref = dataset_ref.table(\"taxi_trips\")\n",
       "\n",
       "# API request - fetch the table\n",
       "table = client.get_table(table_ref)\n",
       "\n",
       "# Preview the first five lines of the \"taxi_trips\" table\n",
       "client.list_rows(table, max_results=5).to_dataframe()\n",
       "```\n",
       "\n",
       "Some trips in the top few rows have `trip_seconds` or `trip_miles` values of 0. \n",
       "Other location fields have values of `None`. That is a problem if we want to use those fields."
      ]
     },
     "metadata": {},
     "output_type": "display_data"
    }
   ],
   "source": [
    "# Check your answer (Run this code cell to receive credit!)\n",
    "q_2.solution()"
   ]
  },
  {
   "cell_type": "markdown",
   "id": "0d1a63ec",
   "metadata": {
    "papermill": {
     "duration": 0.007644,
     "end_time": "2022-12-13T16:41:09.682174",
     "exception": false,
     "start_time": "2022-12-13T16:41:09.674530",
     "status": "completed"
    },
    "tags": []
   },
   "source": [
    "### 3) Determine when this data is from\n",
    "\n",
    "If the data is sufficiently old, we might be careful before assuming the data is still relevant to traffic patterns today. Write a query that counts the number of trips in each year.  \n",
    "\n",
    "Your results should have two columns:\n",
    "- `year` - the year of the trips\n",
    "- `num_trips` - the number of trips in that year\n",
    "\n",
    "Hints:\n",
    "- When using **GROUP BY** and **ORDER BY**, you should refer to the columns by the alias `year` that you set at the top of the **SELECT** query.\n",
    "- The SQL code to **SELECT** the year from `trip_start_timestamp` is <code>SELECT EXTRACT(YEAR FROM trip_start_timestamp)</code>\n",
    "- The **FROM** field can be a little tricky until you are used to it.  The format is:\n",
    "    1. A backick (the symbol \\`).\n",
    "    2. The project name. In this case it is `bigquery-public-data`.\n",
    "    3. A period.\n",
    "    4. The dataset name. In this case, it is `chicago_taxi_trips`.\n",
    "    5. A period.\n",
    "    6. The table name. You used this as your answer in **1) Find the data**.\n",
    "    7. A backtick (the symbol \\`)."
   ]
  },
  {
   "cell_type": "code",
   "execution_count": 8,
   "id": "01d57de5",
   "metadata": {
    "execution": {
     "iopub.execute_input": "2022-12-13T16:41:09.700966Z",
     "iopub.status.busy": "2022-12-13T16:41:09.700308Z",
     "iopub.status.idle": "2022-12-13T16:41:10.744566Z",
     "shell.execute_reply": "2022-12-13T16:41:10.743214Z"
    },
    "papermill": {
     "duration": 1.058119,
     "end_time": "2022-12-13T16:41:10.748191",
     "exception": false,
     "start_time": "2022-12-13T16:41:09.690072",
     "status": "completed"
    },
    "tags": []
   },
   "outputs": [
    {
     "name": "stderr",
     "output_type": "stream",
     "text": [
      "/opt/conda/lib/python3.7/site-packages/google/cloud/bigquery/client.py:440: UserWarning: Cannot create BigQuery Storage client, the dependency google-cloud-bigquery-storage is not installed.\n",
      "  \"Cannot create BigQuery Storage client, the dependency \"\n"
     ]
    },
    {
     "name": "stdout",
     "output_type": "stream",
     "text": [
      "   year  num_trips\n",
      "0  2013   27217300\n",
      "1  2014   37395079\n",
      "2  2015   32385527\n",
      "3  2016   31756403\n",
      "4  2017   24979611\n",
      "5  2018   20731105\n",
      "6  2019   16476440\n",
      "7  2020    3888831\n",
      "8  2021    3947677\n",
      "9  2022    5868516\n"
     ]
    },
    {
     "data": {
      "application/javascript": [
       "parent.postMessage({\"jupyterEvent\": \"custom.exercise_interaction\", \"data\": {\"outcomeType\": 1, \"valueTowardsCompletion\": 0.16666666666666666, \"interactionType\": 1, \"questionType\": 2, \"questionId\": \"3_YearDistrib\", \"learnToolsVersion\": \"0.3.4\", \"failureMessage\": \"\", \"exceptionClass\": \"\", \"trace\": \"\"}}, \"*\")"
      ],
      "text/plain": [
       "<IPython.core.display.Javascript object>"
      ]
     },
     "metadata": {},
     "output_type": "display_data"
    },
    {
     "data": {
      "text/markdown": [
       "<span style=\"color:#33cc33\">Correct</span>"
      ],
      "text/plain": [
       "Correct"
      ]
     },
     "metadata": {},
     "output_type": "display_data"
    }
   ],
   "source": [
    "# Your code goes here\n",
    "rides_per_year_query = \"\"\"\n",
    "                       SELECT EXTRACT(YEAR FROM trip_start_timestamp) AS year, \n",
    "                              COUNT(1) AS num_trips\n",
    "                       FROM `bigquery-public-data.chicago_taxi_trips.taxi_trips`\n",
    "                       GROUP BY year\n",
    "                       ORDER BY year\n",
    "                       \"\"\"\n",
    "\n",
    "# Set up the query (cancel the query if it would use too much of \n",
    "# your quota)\n",
    "safe_config = bigquery.QueryJobConfig(maximum_bytes_billed=10**10)\n",
    "rides_per_year_query_job = client.query(rides_per_year_query, job_config=safe_config) # Your code goes here\n",
    "\n",
    "# API request - run the query, and return a pandas DataFrame\n",
    "rides_per_year_result = rides_per_year_query_job.to_dataframe() # Your code goes here\n",
    "\n",
    "# View results\n",
    "print(rides_per_year_result)\n",
    "\n",
    "# Check your answer\n",
    "q_3.check()"
   ]
  },
  {
   "cell_type": "markdown",
   "id": "c98d25f2",
   "metadata": {
    "papermill": {
     "duration": 0.008536,
     "end_time": "2022-12-13T16:41:10.765934",
     "exception": false,
     "start_time": "2022-12-13T16:41:10.757398",
     "status": "completed"
    },
    "tags": []
   },
   "source": [
    "For a hint or the solution, uncomment the appropriate line below."
   ]
  },
  {
   "cell_type": "code",
   "execution_count": 9,
   "id": "90e93808",
   "metadata": {
    "execution": {
     "iopub.execute_input": "2022-12-13T16:41:10.786119Z",
     "iopub.status.busy": "2022-12-13T16:41:10.785443Z",
     "iopub.status.idle": "2022-12-13T16:41:10.797037Z",
     "shell.execute_reply": "2022-12-13T16:41:10.795944Z"
    },
    "papermill": {
     "duration": 0.024003,
     "end_time": "2022-12-13T16:41:10.799348",
     "exception": false,
     "start_time": "2022-12-13T16:41:10.775345",
     "status": "completed"
    },
    "tags": []
   },
   "outputs": [
    {
     "data": {
      "application/javascript": [
       "parent.postMessage({\"jupyterEvent\": \"custom.exercise_interaction\", \"data\": {\"interactionType\": 2, \"questionType\": 2, \"questionId\": \"3_YearDistrib\", \"learnToolsVersion\": \"0.3.4\", \"valueTowardsCompletion\": 0.0, \"failureMessage\": \"\", \"exceptionClass\": \"\", \"trace\": \"\", \"outcomeType\": 4}}, \"*\")"
      ],
      "text/plain": [
       "<IPython.core.display.Javascript object>"
      ]
     },
     "metadata": {},
     "output_type": "display_data"
    },
    {
     "data": {
      "text/markdown": [
       "<span style=\"color:#3366cc\">Hint:</span> Start your query with `SELECT EXTRACT(YEAR FROM trip_start_timestamp) AS year, COUNT(1) AS num_trips`."
      ],
      "text/plain": [
       "Hint: Start your query with `SELECT EXTRACT(YEAR FROM trip_start_timestamp) AS year, COUNT(1) AS num_trips`."
      ]
     },
     "metadata": {},
     "output_type": "display_data"
    },
    {
     "data": {
      "application/javascript": [
       "parent.postMessage({\"jupyterEvent\": \"custom.exercise_interaction\", \"data\": {\"interactionType\": 3, \"questionType\": 2, \"questionId\": \"3_YearDistrib\", \"learnToolsVersion\": \"0.3.4\", \"valueTowardsCompletion\": 0.0, \"failureMessage\": \"\", \"exceptionClass\": \"\", \"trace\": \"\", \"outcomeType\": 4}}, \"*\")"
      ],
      "text/plain": [
       "<IPython.core.display.Javascript object>"
      ]
     },
     "metadata": {},
     "output_type": "display_data"
    },
    {
     "data": {
      "text/markdown": [
       "<span style=\"color:#33cc99\">Solution:</span> \n",
       "```python\n",
       "\n",
       "rides_per_year_query = \"\"\"\n",
       "                       SELECT EXTRACT(YEAR FROM trip_start_timestamp) AS year, \n",
       "                              COUNT(1) AS num_trips\n",
       "                       FROM `bigquery-public-data.chicago_taxi_trips.taxi_trips`\n",
       "                       GROUP BY year\n",
       "                       ORDER BY year\n",
       "                       \"\"\"\n",
       "\n",
       "# Set up the query (cancel the query if it would use too much of \n",
       "# your quota)\n",
       "safe_config = bigquery.QueryJobConfig(maximum_bytes_billed=10**10)\n",
       "rides_per_year_query_job = client.query(rides_per_year_query, job_config=safe_config)\n",
       "\n",
       "# API request - run the query, and return a pandas DataFrame\n",
       "rides_per_year_result = rides_per_year_query_job.to_dataframe()\n",
       "\n",
       "```"
      ],
      "text/plain": [
       "Solution: \n",
       "```python\n",
       "\n",
       "rides_per_year_query = \"\"\"\n",
       "                       SELECT EXTRACT(YEAR FROM trip_start_timestamp) AS year, \n",
       "                              COUNT(1) AS num_trips\n",
       "                       FROM `bigquery-public-data.chicago_taxi_trips.taxi_trips`\n",
       "                       GROUP BY year\n",
       "                       ORDER BY year\n",
       "                       \"\"\"\n",
       "\n",
       "# Set up the query (cancel the query if it would use too much of \n",
       "# your quota)\n",
       "safe_config = bigquery.QueryJobConfig(maximum_bytes_billed=10**10)\n",
       "rides_per_year_query_job = client.query(rides_per_year_query, job_config=safe_config)\n",
       "\n",
       "# API request - run the query, and return a pandas DataFrame\n",
       "rides_per_year_result = rides_per_year_query_job.to_dataframe()\n",
       "\n",
       "```"
      ]
     },
     "metadata": {},
     "output_type": "display_data"
    }
   ],
   "source": [
    "q_3.hint()\n",
    "q_3.solution()"
   ]
  },
  {
   "cell_type": "markdown",
   "id": "6cde4acf",
   "metadata": {
    "papermill": {
     "duration": 0.008593,
     "end_time": "2022-12-13T16:41:10.816798",
     "exception": false,
     "start_time": "2022-12-13T16:41:10.808205",
     "status": "completed"
    },
    "tags": []
   },
   "source": [
    "### 4) Dive slightly deeper\n",
    "\n",
    "You'd like to take a closer look at rides from 2017.  Copy the query you used above in `rides_per_year_query` into the cell below for `rides_per_month_query`.  Then modify it in two ways:\n",
    "1. Use a **WHERE** clause to limit the query to data from 2017.\n",
    "2. Modify the query to extract the month rather than the year."
   ]
  },
  {
   "cell_type": "code",
   "execution_count": 10,
   "id": "d5371414",
   "metadata": {
    "execution": {
     "iopub.execute_input": "2022-12-13T16:41:10.836678Z",
     "iopub.status.busy": "2022-12-13T16:41:10.835745Z",
     "iopub.status.idle": "2022-12-13T16:41:11.976520Z",
     "shell.execute_reply": "2022-12-13T16:41:11.974556Z"
    },
    "papermill": {
     "duration": 1.153861,
     "end_time": "2022-12-13T16:41:11.979387",
     "exception": false,
     "start_time": "2022-12-13T16:41:10.825526",
     "status": "completed"
    },
    "tags": []
   },
   "outputs": [
    {
     "name": "stderr",
     "output_type": "stream",
     "text": [
      "/opt/conda/lib/python3.7/site-packages/google/cloud/bigquery/client.py:440: UserWarning: Cannot create BigQuery Storage client, the dependency google-cloud-bigquery-storage is not installed.\n",
      "  \"Cannot create BigQuery Storage client, the dependency \"\n"
     ]
    },
    {
     "name": "stdout",
     "output_type": "stream",
     "text": [
      "    month  num_trips\n",
      "0       1    1971708\n",
      "1       2    1909479\n",
      "2       3    2361634\n",
      "3       4    2194344\n",
      "4       5    2322631\n",
      "5       6    2323672\n",
      "6       7    2053471\n",
      "7       8    2078623\n",
      "8       9    1949427\n",
      "9      10    2140326\n",
      "10     11    1906884\n",
      "11     12    1767412\n"
     ]
    },
    {
     "data": {
      "application/javascript": [
       "parent.postMessage({\"jupyterEvent\": \"custom.exercise_interaction\", \"data\": {\"outcomeType\": 1, \"valueTowardsCompletion\": 0.16666666666666666, \"interactionType\": 1, \"questionType\": 2, \"questionId\": \"4_MonthDistrib\", \"learnToolsVersion\": \"0.3.4\", \"failureMessage\": \"\", \"exceptionClass\": \"\", \"trace\": \"\"}}, \"*\")"
      ],
      "text/plain": [
       "<IPython.core.display.Javascript object>"
      ]
     },
     "metadata": {},
     "output_type": "display_data"
    },
    {
     "data": {
      "text/markdown": [
       "<span style=\"color:#33cc33\">Correct</span>"
      ],
      "text/plain": [
       "Correct"
      ]
     },
     "metadata": {},
     "output_type": "display_data"
    }
   ],
   "source": [
    "# Your code goes here\n",
    "rides_per_month_query = \"\"\"\n",
    "                        SELECT EXTRACT(MONTH FROM trip_start_timestamp) AS month, \n",
    "                               COUNT(1) AS num_trips\n",
    "                        FROM `bigquery-public-data.chicago_taxi_trips.taxi_trips`\n",
    "                        WHERE EXTRACT(YEAR FROM trip_start_timestamp) = 2017\n",
    "                        GROUP BY month\n",
    "                        ORDER BY month\n",
    "                        \"\"\" \n",
    "\n",
    "# Set up the query\n",
    "safe_config = bigquery.QueryJobConfig(maximum_bytes_billed=10**10)\n",
    "rides_per_month_query_job = client.query(rides_per_month_query, job_config=safe_config) # Your code goes here\n",
    "\n",
    "# API request - run the query, and return a pandas DataFrame\n",
    "rides_per_month_result = rides_per_month_query_job.to_dataframe() # Your code goes here\n",
    "\n",
    "# View results\n",
    "print(rides_per_month_result)\n",
    "\n",
    "# Check your answer\n",
    "q_4.check()"
   ]
  },
  {
   "cell_type": "markdown",
   "id": "5dd637c1",
   "metadata": {
    "papermill": {
     "duration": 0.009379,
     "end_time": "2022-12-13T16:41:11.999073",
     "exception": false,
     "start_time": "2022-12-13T16:41:11.989694",
     "status": "completed"
    },
    "tags": []
   },
   "source": [
    "For a hint or the solution, uncomment the appropriate line below."
   ]
  },
  {
   "cell_type": "code",
   "execution_count": 11,
   "id": "7f3641fc",
   "metadata": {
    "execution": {
     "iopub.execute_input": "2022-12-13T16:41:12.021624Z",
     "iopub.status.busy": "2022-12-13T16:41:12.020966Z",
     "iopub.status.idle": "2022-12-13T16:41:12.035877Z",
     "shell.execute_reply": "2022-12-13T16:41:12.034599Z"
    },
    "papermill": {
     "duration": 0.029062,
     "end_time": "2022-12-13T16:41:12.039104",
     "exception": false,
     "start_time": "2022-12-13T16:41:12.010042",
     "status": "completed"
    },
    "tags": []
   },
   "outputs": [
    {
     "data": {
      "application/javascript": [
       "parent.postMessage({\"jupyterEvent\": \"custom.exercise_interaction\", \"data\": {\"interactionType\": 2, \"questionType\": 2, \"questionId\": \"4_MonthDistrib\", \"learnToolsVersion\": \"0.3.4\", \"valueTowardsCompletion\": 0.0, \"failureMessage\": \"\", \"exceptionClass\": \"\", \"trace\": \"\", \"outcomeType\": 4}}, \"*\")"
      ],
      "text/plain": [
       "<IPython.core.display.Javascript object>"
      ]
     },
     "metadata": {},
     "output_type": "display_data"
    },
    {
     "data": {
      "text/markdown": [
       "<span style=\"color:#3366cc\">Hint:</span> Start your query with `SELECT EXTRACT(MONTH FROM trip_start_timestamp) AS month, COUNT(1) AS num_trips`."
      ],
      "text/plain": [
       "Hint: Start your query with `SELECT EXTRACT(MONTH FROM trip_start_timestamp) AS month, COUNT(1) AS num_trips`."
      ]
     },
     "metadata": {},
     "output_type": "display_data"
    },
    {
     "data": {
      "application/javascript": [
       "parent.postMessage({\"jupyterEvent\": \"custom.exercise_interaction\", \"data\": {\"interactionType\": 3, \"questionType\": 2, \"questionId\": \"4_MonthDistrib\", \"learnToolsVersion\": \"0.3.4\", \"valueTowardsCompletion\": 0.0, \"failureMessage\": \"\", \"exceptionClass\": \"\", \"trace\": \"\", \"outcomeType\": 4}}, \"*\")"
      ],
      "text/plain": [
       "<IPython.core.display.Javascript object>"
      ]
     },
     "metadata": {},
     "output_type": "display_data"
    },
    {
     "data": {
      "text/markdown": [
       "<span style=\"color:#33cc99\">Solution:</span> \n",
       "```python\n",
       "\n",
       "rides_per_month_query = \"\"\"\n",
       "                        SELECT EXTRACT(MONTH FROM trip_start_timestamp) AS month, \n",
       "                               COUNT(1) AS num_trips\n",
       "                        FROM `bigquery-public-data.chicago_taxi_trips.taxi_trips`\n",
       "                        WHERE EXTRACT(YEAR FROM trip_start_timestamp) = 2017\n",
       "                        GROUP BY month\n",
       "                        ORDER BY month\n",
       "                        \"\"\"\n",
       "\n",
       "# Set up the query (cancel the query if it would use too much of \n",
       "# your quota)\n",
       "safe_config = bigquery.QueryJobConfig(maximum_bytes_billed=10**10)\n",
       "rides_per_month_query_job = client.query(rides_per_month_query, job_config=safe_config)\n",
       "\n",
       "# API request - run the query, and return a pandas DataFrame\n",
       "rides_per_month_result = rides_per_month_query_job.to_dataframe()\n",
       "\n",
       "```"
      ],
      "text/plain": [
       "Solution: \n",
       "```python\n",
       "\n",
       "rides_per_month_query = \"\"\"\n",
       "                        SELECT EXTRACT(MONTH FROM trip_start_timestamp) AS month, \n",
       "                               COUNT(1) AS num_trips\n",
       "                        FROM `bigquery-public-data.chicago_taxi_trips.taxi_trips`\n",
       "                        WHERE EXTRACT(YEAR FROM trip_start_timestamp) = 2017\n",
       "                        GROUP BY month\n",
       "                        ORDER BY month\n",
       "                        \"\"\"\n",
       "\n",
       "# Set up the query (cancel the query if it would use too much of \n",
       "# your quota)\n",
       "safe_config = bigquery.QueryJobConfig(maximum_bytes_billed=10**10)\n",
       "rides_per_month_query_job = client.query(rides_per_month_query, job_config=safe_config)\n",
       "\n",
       "# API request - run the query, and return a pandas DataFrame\n",
       "rides_per_month_result = rides_per_month_query_job.to_dataframe()\n",
       "\n",
       "```"
      ]
     },
     "metadata": {},
     "output_type": "display_data"
    }
   ],
   "source": [
    "q_4.hint()\n",
    "q_4.solution()"
   ]
  },
  {
   "cell_type": "markdown",
   "id": "e5750ea8",
   "metadata": {
    "papermill": {
     "duration": 0.0101,
     "end_time": "2022-12-13T16:41:12.060298",
     "exception": false,
     "start_time": "2022-12-13T16:41:12.050198",
     "status": "completed"
    },
    "tags": []
   },
   "source": [
    "### 5) Write the query\n",
    "\n",
    "It's time to step up the sophistication of your queries.  Write a query that shows, for each hour of the day in the dataset, the corresponding number of trips and average speed.\n",
    "\n",
    "Your results should have three columns:\n",
    "- `hour_of_day` - sort by this column, which holds the result of extracting the hour from `trip_start_timestamp`.\n",
    "- `num_trips` - the count of the total number of trips in each hour of the day (e.g. how many trips were started between 6AM and 7AM, independent of which day it occurred on).\n",
    "- `avg_mph` - the average speed, measured in miles per hour, for trips that started in that hour of the day.  Average speed in miles per hour is calculated as `3600 * SUM(trip_miles) / SUM(trip_seconds)`. (The value 3600 is used to convert from seconds to hours.)\n",
    "\n",
    "Restrict your query to data meeting the following criteria:\n",
    "- a `trip_start_timestamp` between **2017-01-01** and **2017-07-01**\n",
    "- `trip_seconds` > 0 and `trip_miles` > 0\n",
    "\n",
    "You will use a common table expression (CTE) to select just the relevant rides.  Because this dataset is very big, this CTE should select only the columns you'll need to create the final output (though you won't actually create those in the CTE -- instead you'll create those in the later **SELECT** statement below the CTE).\n",
    "\n",
    "This is a much harder query than anything you've written so far.  Good luck!"
   ]
  },
  {
   "cell_type": "code",
   "execution_count": 12,
   "id": "c5425729",
   "metadata": {
    "execution": {
     "iopub.execute_input": "2022-12-13T16:41:12.083578Z",
     "iopub.status.busy": "2022-12-13T16:41:12.082006Z",
     "iopub.status.idle": "2022-12-13T16:41:13.149078Z",
     "shell.execute_reply": "2022-12-13T16:41:13.147236Z"
    },
    "papermill": {
     "duration": 1.081207,
     "end_time": "2022-12-13T16:41:13.151913",
     "exception": false,
     "start_time": "2022-12-13T16:41:12.070706",
     "status": "completed"
    },
    "tags": []
   },
   "outputs": [
    {
     "name": "stderr",
     "output_type": "stream",
     "text": [
      "/opt/conda/lib/python3.7/site-packages/google/cloud/bigquery/client.py:440: UserWarning: Cannot create BigQuery Storage client, the dependency google-cloud-bigquery-storage is not installed.\n",
      "  \"Cannot create BigQuery Storage client, the dependency \"\n"
     ]
    },
    {
     "name": "stdout",
     "output_type": "stream",
     "text": [
      "    hour_of_day  num_trips    avg_mph\n",
      "0             0     319326  20.231735\n",
      "1             1     266525  18.937962\n",
      "2             2     210147  18.777070\n",
      "3             3     159666  20.158374\n",
      "4             4     122183  26.736014\n",
      "5             5     119311  30.769411\n",
      "6             6     182736  24.588560\n",
      "7             7     358403  17.736209\n",
      "8             8     541745  15.081015\n",
      "9             9     565455  16.547683\n",
      "10           10     525030  18.543678\n",
      "11           11     594522  18.931559\n",
      "12           12     622249  17.841610\n",
      "13           13     630109  17.673604\n",
      "14           14     622402  16.976330\n",
      "15           15     640348  15.691071\n",
      "16           16     701345  14.286536\n",
      "17           17     756535  12.464977\n",
      "18           18     768159  13.648912\n",
      "19           19     700962  16.646259\n",
      "20           20     598536  19.540297\n",
      "21           21     552658  20.436899\n",
      "22           22     501059  19.533171\n",
      "23           23     399573  19.878003\n"
     ]
    },
    {
     "data": {
      "application/javascript": [
       "parent.postMessage({\"jupyterEvent\": \"custom.exercise_interaction\", \"data\": {\"outcomeType\": 1, \"valueTowardsCompletion\": 0.16666666666666666, \"interactionType\": 1, \"questionType\": 2, \"questionId\": \"5_TheLongQuery\", \"learnToolsVersion\": \"0.3.4\", \"failureMessage\": \"\", \"exceptionClass\": \"\", \"trace\": \"\"}}, \"*\")"
      ],
      "text/plain": [
       "<IPython.core.display.Javascript object>"
      ]
     },
     "metadata": {},
     "output_type": "display_data"
    },
    {
     "data": {
      "text/markdown": [
       "<span style=\"color:#33cc33\">Correct</span>"
      ],
      "text/plain": [
       "Correct"
      ]
     },
     "metadata": {},
     "output_type": "display_data"
    }
   ],
   "source": [
    "# Your code goes here\n",
    "speeds_query = \"\"\"\n",
    "               WITH RelevantRides AS\n",
    "               (\n",
    "                   SELECT EXTRACT(HOUR FROM trip_start_timestamp) AS hour_of_day, \n",
    "                          trip_miles, \n",
    "                          trip_seconds\n",
    "                   FROM `bigquery-public-data.chicago_taxi_trips.taxi_trips`\n",
    "                   WHERE trip_start_timestamp > '2017-01-01' AND \n",
    "                         trip_start_timestamp < '2017-07-01' AND \n",
    "                         trip_seconds > 0 AND \n",
    "                         trip_miles > 0\n",
    "               )\n",
    "               SELECT hour_of_day, \n",
    "                      COUNT(1) AS num_trips, \n",
    "                      3600 * SUM(trip_miles) / SUM(trip_seconds) AS avg_mph\n",
    "               FROM RelevantRides\n",
    "               GROUP BY hour_of_day\n",
    "               ORDER BY hour_of_day\n",
    "               \"\"\"\n",
    "\n",
    "# Set up the query\n",
    "safe_config = bigquery.QueryJobConfig(maximum_bytes_billed=10**10)\n",
    "speeds_query_job = client.query(speeds_query, job_config=safe_config) # Your code here\n",
    "\n",
    "# API request - run the query, and return a pandas DataFrame\n",
    "speeds_result = speeds_query_job.to_dataframe() # Your code here\n",
    "\n",
    "# View results\n",
    "print(speeds_result)\n",
    "\n",
    "# Check your answer\n",
    "q_5.check()"
   ]
  },
  {
   "cell_type": "markdown",
   "id": "233b52f8",
   "metadata": {
    "papermill": {
     "duration": 0.011545,
     "end_time": "2022-12-13T16:41:13.175843",
     "exception": false,
     "start_time": "2022-12-13T16:41:13.164298",
     "status": "completed"
    },
    "tags": []
   },
   "source": [
    "For the solution, uncomment the appropriate line below."
   ]
  },
  {
   "cell_type": "code",
   "execution_count": 13,
   "id": "9bb18169",
   "metadata": {
    "execution": {
     "iopub.execute_input": "2022-12-13T16:41:13.199261Z",
     "iopub.status.busy": "2022-12-13T16:41:13.198544Z",
     "iopub.status.idle": "2022-12-13T16:41:13.208029Z",
     "shell.execute_reply": "2022-12-13T16:41:13.206821Z"
    },
    "papermill": {
     "duration": 0.02382,
     "end_time": "2022-12-13T16:41:13.210540",
     "exception": false,
     "start_time": "2022-12-13T16:41:13.186720",
     "status": "completed"
    },
    "tags": []
   },
   "outputs": [
    {
     "data": {
      "application/javascript": [
       "parent.postMessage({\"jupyterEvent\": \"custom.exercise_interaction\", \"data\": {\"interactionType\": 3, \"questionType\": 2, \"questionId\": \"5_TheLongQuery\", \"learnToolsVersion\": \"0.3.4\", \"valueTowardsCompletion\": 0.0, \"failureMessage\": \"\", \"exceptionClass\": \"\", \"trace\": \"\", \"outcomeType\": 4}}, \"*\")"
      ],
      "text/plain": [
       "<IPython.core.display.Javascript object>"
      ]
     },
     "metadata": {},
     "output_type": "display_data"
    },
    {
     "data": {
      "text/markdown": [
       "<span style=\"color:#33cc99\">Solution:</span> \n",
       "```python\n",
       "\n",
       "speeds_query = \"\"\"\n",
       "               WITH RelevantRides AS\n",
       "               (\n",
       "                   SELECT EXTRACT(HOUR FROM trip_start_timestamp) AS hour_of_day, \n",
       "                          trip_miles, \n",
       "                          trip_seconds\n",
       "                   FROM `bigquery-public-data.chicago_taxi_trips.taxi_trips`\n",
       "                   WHERE trip_start_timestamp > '2017-01-01' AND \n",
       "                         trip_start_timestamp < '2017-07-01' AND \n",
       "                         trip_seconds > 0 AND \n",
       "                         trip_miles > 0\n",
       "               )\n",
       "               SELECT hour_of_day, \n",
       "                      COUNT(1) AS num_trips, \n",
       "                      3600 * SUM(trip_miles) / SUM(trip_seconds) AS avg_mph\n",
       "               FROM RelevantRides\n",
       "               GROUP BY hour_of_day\n",
       "               ORDER BY hour_of_day\n",
       "               \"\"\"\n",
       "\n",
       "# Set up the query (cancel the query if it would use too much of \n",
       "# your quota)\n",
       "safe_config = bigquery.QueryJobConfig(maximum_bytes_billed=10**10)\n",
       "speeds_query_job = client.query(speeds_query, job_config=safe_config)\n",
       "\n",
       "# API request - run the query, and return a pandas DataFrame\n",
       "speeds_result = speeds_query_job.to_dataframe()\n",
       "\n",
       "# View results\n",
       "print(speeds_result)\n",
       "\n",
       "```"
      ],
      "text/plain": [
       "Solution: \n",
       "```python\n",
       "\n",
       "speeds_query = \"\"\"\n",
       "               WITH RelevantRides AS\n",
       "               (\n",
       "                   SELECT EXTRACT(HOUR FROM trip_start_timestamp) AS hour_of_day, \n",
       "                          trip_miles, \n",
       "                          trip_seconds\n",
       "                   FROM `bigquery-public-data.chicago_taxi_trips.taxi_trips`\n",
       "                   WHERE trip_start_timestamp > '2017-01-01' AND \n",
       "                         trip_start_timestamp < '2017-07-01' AND \n",
       "                         trip_seconds > 0 AND \n",
       "                         trip_miles > 0\n",
       "               )\n",
       "               SELECT hour_of_day, \n",
       "                      COUNT(1) AS num_trips, \n",
       "                      3600 * SUM(trip_miles) / SUM(trip_seconds) AS avg_mph\n",
       "               FROM RelevantRides\n",
       "               GROUP BY hour_of_day\n",
       "               ORDER BY hour_of_day\n",
       "               \"\"\"\n",
       "\n",
       "# Set up the query (cancel the query if it would use too much of \n",
       "# your quota)\n",
       "safe_config = bigquery.QueryJobConfig(maximum_bytes_billed=10**10)\n",
       "speeds_query_job = client.query(speeds_query, job_config=safe_config)\n",
       "\n",
       "# API request - run the query, and return a pandas DataFrame\n",
       "speeds_result = speeds_query_job.to_dataframe()\n",
       "\n",
       "# View results\n",
       "print(speeds_result)\n",
       "\n",
       "```"
      ]
     },
     "metadata": {},
     "output_type": "display_data"
    }
   ],
   "source": [
    "q_5.solution()"
   ]
  },
  {
   "cell_type": "markdown",
   "id": "caaa1cfe",
   "metadata": {
    "papermill": {
     "duration": 0.010573,
     "end_time": "2022-12-13T16:41:13.232324",
     "exception": false,
     "start_time": "2022-12-13T16:41:13.221751",
     "status": "completed"
    },
    "tags": []
   },
   "source": [
    "That's a hard query. If you made good progress towards the solution, congratulations!"
   ]
  },
  {
   "cell_type": "markdown",
   "id": "9089fed0",
   "metadata": {
    "papermill": {
     "duration": 0.010018,
     "end_time": "2022-12-13T16:41:13.252785",
     "exception": false,
     "start_time": "2022-12-13T16:41:13.242767",
     "status": "completed"
    },
    "tags": []
   },
   "source": [
    "# Keep going\n",
    "\n",
    "You can write very complex queries now with a single data source. But nothing expands the horizons of SQL as much as the ability to combine or **JOIN** tables.\n",
    "\n",
    "**[Click here](https://www.kaggle.com/dansbecker/joining-data)** to start the last lesson in the Intro to SQL micro-course."
   ]
  },
  {
   "cell_type": "markdown",
   "id": "ddba25f5",
   "metadata": {
    "papermill": {
     "duration": 0.009831,
     "end_time": "2022-12-13T16:41:13.272952",
     "exception": false,
     "start_time": "2022-12-13T16:41:13.263121",
     "status": "completed"
    },
    "tags": []
   },
   "source": [
    "---\n",
    "\n",
    "\n",
    "\n",
    "\n",
    "*Have questions or comments? Visit the [course discussion forum](https://www.kaggle.com/learn/intro-to-sql/discussion) to chat with other learners.*"
   ]
  }
 ],
 "metadata": {
  "kernelspec": {
   "display_name": "Python 3",
   "language": "python",
   "name": "python3"
  },
  "language_info": {
   "codemirror_mode": {
    "name": "ipython",
    "version": 3
   },
   "file_extension": ".py",
   "mimetype": "text/x-python",
   "name": "python",
   "nbconvert_exporter": "python",
   "pygments_lexer": "ipython3",
   "version": "3.7.12"
  },
  "papermill": {
   "default_parameters": {},
   "duration": 20.567479,
   "end_time": "2022-12-13T16:41:14.006766",
   "environment_variables": {},
   "exception": null,
   "input_path": "__notebook__.ipynb",
   "output_path": "__notebook__.ipynb",
   "parameters": {},
   "start_time": "2022-12-13T16:40:53.439287",
   "version": "2.3.4"
  }
 },
 "nbformat": 4,
 "nbformat_minor": 5
}

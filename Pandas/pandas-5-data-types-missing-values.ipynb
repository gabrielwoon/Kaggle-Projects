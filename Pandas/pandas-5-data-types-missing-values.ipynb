{
 "cells": [
  {
   "cell_type": "markdown",
   "id": "5a09726f",
   "metadata": {
    "papermill": {
     "duration": 0.005948,
     "end_time": "2022-11-27T14:37:51.011890",
     "exception": false,
     "start_time": "2022-11-27T14:37:51.005942",
     "status": "completed"
    },
    "tags": []
   },
   "source": [
    "**This notebook is an exercise in the [Pandas](https://www.kaggle.com/learn/pandas) course.  You can reference the tutorial at [this link](https://www.kaggle.com/residentmario/data-types-and-missing-values).**\n",
    "\n",
    "---\n"
   ]
  },
  {
   "cell_type": "markdown",
   "id": "e2459297",
   "metadata": {
    "papermill": {
     "duration": 0.004195,
     "end_time": "2022-11-27T14:37:51.020862",
     "exception": false,
     "start_time": "2022-11-27T14:37:51.016667",
     "status": "completed"
    },
    "tags": []
   },
   "source": [
    "# Introduction\n",
    "\n",
    "Run the following cell to load your data and some utility functions."
   ]
  },
  {
   "cell_type": "code",
   "execution_count": 1,
   "id": "e5634f5f",
   "metadata": {
    "execution": {
     "iopub.execute_input": "2022-11-27T14:37:51.032320Z",
     "iopub.status.busy": "2022-11-27T14:37:51.031687Z",
     "iopub.status.idle": "2022-11-27T14:37:54.016417Z",
     "shell.execute_reply": "2022-11-27T14:37:54.015595Z"
    },
    "papermill": {
     "duration": 2.993983,
     "end_time": "2022-11-27T14:37:54.019335",
     "exception": false,
     "start_time": "2022-11-27T14:37:51.025352",
     "status": "completed"
    },
    "tags": []
   },
   "outputs": [
    {
     "name": "stdout",
     "output_type": "stream",
     "text": [
      "Setup complete.\n"
     ]
    }
   ],
   "source": [
    "import pandas as pd\n",
    "\n",
    "reviews = pd.read_csv(\"../input/wine-reviews/winemag-data-130k-v2.csv\", index_col=0)\n",
    "\n",
    "from learntools.core import binder; binder.bind(globals())\n",
    "from learntools.pandas.data_types_and_missing_data import *\n",
    "print(\"Setup complete.\")"
   ]
  },
  {
   "cell_type": "markdown",
   "id": "eb641983",
   "metadata": {
    "papermill": {
     "duration": 0.004089,
     "end_time": "2022-11-27T14:37:54.027961",
     "exception": false,
     "start_time": "2022-11-27T14:37:54.023872",
     "status": "completed"
    },
    "tags": []
   },
   "source": [
    "# Exercises"
   ]
  },
  {
   "cell_type": "markdown",
   "id": "8ab10e7f",
   "metadata": {
    "papermill": {
     "duration": 0.003979,
     "end_time": "2022-11-27T14:37:54.036344",
     "exception": false,
     "start_time": "2022-11-27T14:37:54.032365",
     "status": "completed"
    },
    "tags": []
   },
   "source": [
    "## 1. \n",
    "What is the data type of the `points` column in the dataset?"
   ]
  },
  {
   "cell_type": "code",
   "execution_count": 2,
   "id": "fc1e857e",
   "metadata": {
    "execution": {
     "iopub.execute_input": "2022-11-27T14:37:54.046818Z",
     "iopub.status.busy": "2022-11-27T14:37:54.045994Z",
     "iopub.status.idle": "2022-11-27T14:37:54.056373Z",
     "shell.execute_reply": "2022-11-27T14:37:54.055407Z"
    },
    "papermill": {
     "duration": 0.018142,
     "end_time": "2022-11-27T14:37:54.058673",
     "exception": false,
     "start_time": "2022-11-27T14:37:54.040531",
     "status": "completed"
    },
    "tags": []
   },
   "outputs": [
    {
     "data": {
      "application/javascript": [
       "parent.postMessage({\"jupyterEvent\": \"custom.exercise_interaction\", \"data\": {\"outcomeType\": 1, \"valueTowardsCompletion\": 0.25, \"interactionType\": 1, \"questionType\": 1, \"questionId\": \"1_PointsDtype\", \"learnToolsVersion\": \"0.3.4\", \"failureMessage\": \"\", \"exceptionClass\": \"\", \"trace\": \"\"}}, \"*\")"
      ],
      "text/plain": [
       "<IPython.core.display.Javascript object>"
      ]
     },
     "metadata": {},
     "output_type": "display_data"
    },
    {
     "data": {
      "text/markdown": [
       "<span style=\"color:#33cc33\">Correct</span>"
      ],
      "text/plain": [
       "Correct"
      ]
     },
     "metadata": {},
     "output_type": "display_data"
    }
   ],
   "source": [
    "# Your code here\n",
    "dtype = reviews.points.dtype\n",
    "\n",
    "# Check your answer\n",
    "q1.check()"
   ]
  },
  {
   "cell_type": "code",
   "execution_count": 3,
   "id": "996dfaa1",
   "metadata": {
    "execution": {
     "iopub.execute_input": "2022-11-27T14:37:54.070160Z",
     "iopub.status.busy": "2022-11-27T14:37:54.069711Z",
     "iopub.status.idle": "2022-11-27T14:37:54.082025Z",
     "shell.execute_reply": "2022-11-27T14:37:54.081062Z"
    },
    "papermill": {
     "duration": 0.020755,
     "end_time": "2022-11-27T14:37:54.084189",
     "exception": false,
     "start_time": "2022-11-27T14:37:54.063434",
     "status": "completed"
    },
    "tags": []
   },
   "outputs": [
    {
     "data": {
      "application/javascript": [
       "parent.postMessage({\"jupyterEvent\": \"custom.exercise_interaction\", \"data\": {\"interactionType\": 2, \"questionType\": 1, \"questionId\": \"1_PointsDtype\", \"learnToolsVersion\": \"0.3.4\", \"valueTowardsCompletion\": 0.0, \"failureMessage\": \"\", \"exceptionClass\": \"\", \"trace\": \"\", \"outcomeType\": 4}}, \"*\")"
      ],
      "text/plain": [
       "<IPython.core.display.Javascript object>"
      ]
     },
     "metadata": {},
     "output_type": "display_data"
    },
    {
     "data": {
      "text/markdown": [
       "<span style=\"color:#3366cc\">Hint:</span> `dtype` is an attribute of a DataFrame or Series."
      ],
      "text/plain": [
       "Hint: `dtype` is an attribute of a DataFrame or Series."
      ]
     },
     "metadata": {},
     "output_type": "display_data"
    },
    {
     "data": {
      "application/javascript": [
       "parent.postMessage({\"jupyterEvent\": \"custom.exercise_interaction\", \"data\": {\"interactionType\": 3, \"questionType\": 1, \"questionId\": \"1_PointsDtype\", \"learnToolsVersion\": \"0.3.4\", \"valueTowardsCompletion\": 0.0, \"failureMessage\": \"\", \"exceptionClass\": \"\", \"trace\": \"\", \"outcomeType\": 4}}, \"*\")"
      ],
      "text/plain": [
       "<IPython.core.display.Javascript object>"
      ]
     },
     "metadata": {},
     "output_type": "display_data"
    },
    {
     "data": {
      "text/markdown": [
       "<span style=\"color:#33cc99\">Solution:</span> \n",
       "```python\n",
       "dtype = reviews.points.dtype\n",
       "```"
      ],
      "text/plain": [
       "Solution: \n",
       "```python\n",
       "dtype = reviews.points.dtype\n",
       "```"
      ]
     },
     "metadata": {},
     "output_type": "display_data"
    }
   ],
   "source": [
    "q1.hint()\n",
    "q1.solution()"
   ]
  },
  {
   "cell_type": "markdown",
   "id": "3949bff0",
   "metadata": {
    "papermill": {
     "duration": 0.004855,
     "end_time": "2022-11-27T14:37:54.095047",
     "exception": false,
     "start_time": "2022-11-27T14:37:54.090192",
     "status": "completed"
    },
    "tags": []
   },
   "source": [
    "## 2. \n",
    "Create a Series from entries in the `points` column, but convert the entries to strings. Hint: strings are `str` in native Python."
   ]
  },
  {
   "cell_type": "code",
   "execution_count": 4,
   "id": "6bc38e8b",
   "metadata": {
    "execution": {
     "iopub.execute_input": "2022-11-27T14:37:54.107705Z",
     "iopub.status.busy": "2022-11-27T14:37:54.106821Z",
     "iopub.status.idle": "2022-11-27T14:37:54.193557Z",
     "shell.execute_reply": "2022-11-27T14:37:54.192444Z"
    },
    "papermill": {
     "duration": 0.095944,
     "end_time": "2022-11-27T14:37:54.196238",
     "exception": false,
     "start_time": "2022-11-27T14:37:54.100294",
     "status": "completed"
    },
    "tags": []
   },
   "outputs": [
    {
     "data": {
      "application/javascript": [
       "parent.postMessage({\"jupyterEvent\": \"custom.exercise_interaction\", \"data\": {\"outcomeType\": 1, \"valueTowardsCompletion\": 0.25, \"interactionType\": 1, \"questionType\": 1, \"questionId\": \"2_StrPoints\", \"learnToolsVersion\": \"0.3.4\", \"failureMessage\": \"\", \"exceptionClass\": \"\", \"trace\": \"\"}}, \"*\")"
      ],
      "text/plain": [
       "<IPython.core.display.Javascript object>"
      ]
     },
     "metadata": {},
     "output_type": "display_data"
    },
    {
     "data": {
      "text/markdown": [
       "<span style=\"color:#33cc33\">Correct</span>"
      ],
      "text/plain": [
       "Correct"
      ]
     },
     "metadata": {},
     "output_type": "display_data"
    }
   ],
   "source": [
    "point_strings = reviews.points.astype(str)\n",
    "\n",
    "# Check your answer\n",
    "q2.check()"
   ]
  },
  {
   "cell_type": "code",
   "execution_count": 5,
   "id": "e5bdbf72",
   "metadata": {
    "execution": {
     "iopub.execute_input": "2022-11-27T14:37:54.208919Z",
     "iopub.status.busy": "2022-11-27T14:37:54.208492Z",
     "iopub.status.idle": "2022-11-27T14:37:54.220856Z",
     "shell.execute_reply": "2022-11-27T14:37:54.219552Z"
    },
    "papermill": {
     "duration": 0.021812,
     "end_time": "2022-11-27T14:37:54.223454",
     "exception": false,
     "start_time": "2022-11-27T14:37:54.201642",
     "status": "completed"
    },
    "tags": []
   },
   "outputs": [
    {
     "data": {
      "application/javascript": [
       "parent.postMessage({\"jupyterEvent\": \"custom.exercise_interaction\", \"data\": {\"interactionType\": 2, \"questionType\": 1, \"questionId\": \"2_StrPoints\", \"learnToolsVersion\": \"0.3.4\", \"valueTowardsCompletion\": 0.0, \"failureMessage\": \"\", \"exceptionClass\": \"\", \"trace\": \"\", \"outcomeType\": 4}}, \"*\")"
      ],
      "text/plain": [
       "<IPython.core.display.Javascript object>"
      ]
     },
     "metadata": {},
     "output_type": "display_data"
    },
    {
     "data": {
      "text/markdown": [
       "<span style=\"color:#3366cc\">Hint:</span> Convert a column of one type to another by using the `astype` function."
      ],
      "text/plain": [
       "Hint: Convert a column of one type to another by using the `astype` function."
      ]
     },
     "metadata": {},
     "output_type": "display_data"
    },
    {
     "data": {
      "application/javascript": [
       "parent.postMessage({\"jupyterEvent\": \"custom.exercise_interaction\", \"data\": {\"interactionType\": 3, \"questionType\": 1, \"questionId\": \"2_StrPoints\", \"learnToolsVersion\": \"0.3.4\", \"valueTowardsCompletion\": 0.0, \"failureMessage\": \"\", \"exceptionClass\": \"\", \"trace\": \"\", \"outcomeType\": 4}}, \"*\")"
      ],
      "text/plain": [
       "<IPython.core.display.Javascript object>"
      ]
     },
     "metadata": {},
     "output_type": "display_data"
    },
    {
     "data": {
      "text/markdown": [
       "<span style=\"color:#33cc99\">Solution:</span> \n",
       "```python\n",
       "point_strings = reviews.points.astype(str)\n",
       "```"
      ],
      "text/plain": [
       "Solution: \n",
       "```python\n",
       "point_strings = reviews.points.astype(str)\n",
       "```"
      ]
     },
     "metadata": {},
     "output_type": "display_data"
    }
   ],
   "source": [
    "q2.hint()\n",
    "q2.solution()"
   ]
  },
  {
   "cell_type": "markdown",
   "id": "97f1ce51",
   "metadata": {
    "papermill": {
     "duration": 0.005442,
     "end_time": "2022-11-27T14:37:54.234734",
     "exception": false,
     "start_time": "2022-11-27T14:37:54.229292",
     "status": "completed"
    },
    "tags": []
   },
   "source": [
    "## 3.\n",
    "Sometimes the price column is null. How many reviews in the dataset are missing a price?"
   ]
  },
  {
   "cell_type": "code",
   "execution_count": 6,
   "id": "b11aa455",
   "metadata": {
    "execution": {
     "iopub.execute_input": "2022-11-27T14:37:54.248416Z",
     "iopub.status.busy": "2022-11-27T14:37:54.247781Z",
     "iopub.status.idle": "2022-11-27T14:37:54.265264Z",
     "shell.execute_reply": "2022-11-27T14:37:54.264108Z"
    },
    "papermill": {
     "duration": 0.027056,
     "end_time": "2022-11-27T14:37:54.267819",
     "exception": false,
     "start_time": "2022-11-27T14:37:54.240763",
     "status": "completed"
    },
    "tags": []
   },
   "outputs": [
    {
     "data": {
      "application/javascript": [
       "parent.postMessage({\"jupyterEvent\": \"custom.exercise_interaction\", \"data\": {\"outcomeType\": 1, \"valueTowardsCompletion\": 0.25, \"interactionType\": 1, \"questionType\": 1, \"questionId\": \"3_CountMissingPrices\", \"learnToolsVersion\": \"0.3.4\", \"failureMessage\": \"\", \"exceptionClass\": \"\", \"trace\": \"\"}}, \"*\")"
      ],
      "text/plain": [
       "<IPython.core.display.Javascript object>"
      ]
     },
     "metadata": {},
     "output_type": "display_data"
    },
    {
     "data": {
      "text/markdown": [
       "<span style=\"color:#33cc33\">Correct</span>"
      ],
      "text/plain": [
       "Correct"
      ]
     },
     "metadata": {},
     "output_type": "display_data"
    }
   ],
   "source": [
    "missing_price_reviews = reviews[reviews.price.isnull()]\n",
    "n_missing_prices = len(missing_price_reviews)\n",
    "\n",
    "# Check your answer\n",
    "q3.check()"
   ]
  },
  {
   "cell_type": "code",
   "execution_count": 7,
   "id": "22050cc5",
   "metadata": {
    "execution": {
     "iopub.execute_input": "2022-11-27T14:37:54.282754Z",
     "iopub.status.busy": "2022-11-27T14:37:54.281936Z",
     "iopub.status.idle": "2022-11-27T14:37:54.295732Z",
     "shell.execute_reply": "2022-11-27T14:37:54.294561Z"
    },
    "papermill": {
     "duration": 0.024276,
     "end_time": "2022-11-27T14:37:54.298141",
     "exception": false,
     "start_time": "2022-11-27T14:37:54.273865",
     "status": "completed"
    },
    "tags": []
   },
   "outputs": [
    {
     "data": {
      "application/javascript": [
       "parent.postMessage({\"jupyterEvent\": \"custom.exercise_interaction\", \"data\": {\"interactionType\": 2, \"questionType\": 1, \"questionId\": \"3_CountMissingPrices\", \"learnToolsVersion\": \"0.3.4\", \"valueTowardsCompletion\": 0.0, \"failureMessage\": \"\", \"exceptionClass\": \"\", \"trace\": \"\", \"outcomeType\": 4}}, \"*\")"
      ],
      "text/plain": [
       "<IPython.core.display.Javascript object>"
      ]
     },
     "metadata": {},
     "output_type": "display_data"
    },
    {
     "data": {
      "text/markdown": [
       "<span style=\"color:#3366cc\">Hint:</span> Use `pd.isnull()`."
      ],
      "text/plain": [
       "Hint: Use `pd.isnull()`."
      ]
     },
     "metadata": {},
     "output_type": "display_data"
    },
    {
     "data": {
      "application/javascript": [
       "parent.postMessage({\"jupyterEvent\": \"custom.exercise_interaction\", \"data\": {\"interactionType\": 3, \"questionType\": 1, \"questionId\": \"3_CountMissingPrices\", \"learnToolsVersion\": \"0.3.4\", \"valueTowardsCompletion\": 0.0, \"failureMessage\": \"\", \"exceptionClass\": \"\", \"trace\": \"\", \"outcomeType\": 4}}, \"*\")"
      ],
      "text/plain": [
       "<IPython.core.display.Javascript object>"
      ]
     },
     "metadata": {},
     "output_type": "display_data"
    },
    {
     "data": {
      "text/markdown": [
       "<span style=\"color:#33cc99\">Solution:</span> \n",
       "```python\n",
       "missing_price_reviews = reviews[reviews.price.isnull()]\n",
       "n_missing_prices = len(missing_price_reviews)\n",
       "# Cute alternative solution: if we sum a boolean series, True is treated as 1 and False as 0\n",
       "n_missing_prices = reviews.price.isnull().sum()\n",
       "# or equivalently:\n",
       "n_missing_prices = pd.isnull(reviews.price).sum()\n",
       "\n",
       "```"
      ],
      "text/plain": [
       "Solution: \n",
       "```python\n",
       "missing_price_reviews = reviews[reviews.price.isnull()]\n",
       "n_missing_prices = len(missing_price_reviews)\n",
       "# Cute alternative solution: if we sum a boolean series, True is treated as 1 and False as 0\n",
       "n_missing_prices = reviews.price.isnull().sum()\n",
       "# or equivalently:\n",
       "n_missing_prices = pd.isnull(reviews.price).sum()\n",
       "\n",
       "```"
      ]
     },
     "metadata": {},
     "output_type": "display_data"
    }
   ],
   "source": [
    "q3.hint()\n",
    "q3.solution()"
   ]
  },
  {
   "cell_type": "markdown",
   "id": "2dfdf1c4",
   "metadata": {
    "papermill": {
     "duration": 0.006389,
     "end_time": "2022-11-27T14:37:54.312906",
     "exception": false,
     "start_time": "2022-11-27T14:37:54.306517",
     "status": "completed"
    },
    "tags": []
   },
   "source": [
    "## 4.\n",
    "What are the most common wine-producing regions? Create a Series counting the number of times each value occurs in the `region_1` field. This field is often missing data, so replace missing values with `Unknown`. Sort in descending order.  Your output should look something like this:\n",
    "\n",
    "```\n",
    "Unknown                    21247\n",
    "Napa Valley                 4480\n",
    "                           ...  \n",
    "Bardolino Superiore            1\n",
    "Primitivo del Tarantino        1\n",
    "Name: region_1, Length: 1230, dtype: int64\n",
    "```"
   ]
  },
  {
   "cell_type": "code",
   "execution_count": 8,
   "id": "b2dbc329",
   "metadata": {
    "execution": {
     "iopub.execute_input": "2022-11-27T14:37:54.328134Z",
     "iopub.status.busy": "2022-11-27T14:37:54.327699Z",
     "iopub.status.idle": "2022-11-27T14:37:54.370589Z",
     "shell.execute_reply": "2022-11-27T14:37:54.369551Z"
    },
    "papermill": {
     "duration": 0.053251,
     "end_time": "2022-11-27T14:37:54.372842",
     "exception": false,
     "start_time": "2022-11-27T14:37:54.319591",
     "status": "completed"
    },
    "tags": []
   },
   "outputs": [
    {
     "data": {
      "application/javascript": [
       "parent.postMessage({\"jupyterEvent\": \"custom.exercise_interaction\", \"data\": {\"outcomeType\": 1, \"valueTowardsCompletion\": 0.25, \"interactionType\": 1, \"questionType\": 2, \"questionId\": \"4_ReviewsPerRegion\", \"learnToolsVersion\": \"0.3.4\", \"failureMessage\": \"\", \"exceptionClass\": \"\", \"trace\": \"\"}}, \"*\")"
      ],
      "text/plain": [
       "<IPython.core.display.Javascript object>"
      ]
     },
     "metadata": {},
     "output_type": "display_data"
    },
    {
     "data": {
      "text/markdown": [
       "<span style=\"color:#33cc33\">Correct</span>"
      ],
      "text/plain": [
       "Correct"
      ]
     },
     "metadata": {},
     "output_type": "display_data"
    }
   ],
   "source": [
    "reviews_per_region = reviews.region_1.fillna('Unknown').value_counts().sort_values(ascending=False)\n",
    "\n",
    "# Check your answer\n",
    "q4.check()"
   ]
  },
  {
   "cell_type": "code",
   "execution_count": 9,
   "id": "3e36534b",
   "metadata": {
    "execution": {
     "iopub.execute_input": "2022-11-27T14:37:54.388191Z",
     "iopub.status.busy": "2022-11-27T14:37:54.387779Z",
     "iopub.status.idle": "2022-11-27T14:37:54.400180Z",
     "shell.execute_reply": "2022-11-27T14:37:54.399064Z"
    },
    "papermill": {
     "duration": 0.022808,
     "end_time": "2022-11-27T14:37:54.402304",
     "exception": false,
     "start_time": "2022-11-27T14:37:54.379496",
     "status": "completed"
    },
    "tags": []
   },
   "outputs": [
    {
     "data": {
      "application/javascript": [
       "parent.postMessage({\"jupyterEvent\": \"custom.exercise_interaction\", \"data\": {\"interactionType\": 2, \"questionType\": 2, \"questionId\": \"4_ReviewsPerRegion\", \"learnToolsVersion\": \"0.3.4\", \"valueTowardsCompletion\": 0.0, \"failureMessage\": \"\", \"exceptionClass\": \"\", \"trace\": \"\", \"outcomeType\": 4}}, \"*\")"
      ],
      "text/plain": [
       "<IPython.core.display.Javascript object>"
      ]
     },
     "metadata": {},
     "output_type": "display_data"
    },
    {
     "data": {
      "text/markdown": [
       "<span style=\"color:#3366cc\">Hint:</span> Use `fillna()`, `value_counts()`, and `sort_values()`."
      ],
      "text/plain": [
       "Hint: Use `fillna()`, `value_counts()`, and `sort_values()`."
      ]
     },
     "metadata": {},
     "output_type": "display_data"
    },
    {
     "data": {
      "application/javascript": [
       "parent.postMessage({\"jupyterEvent\": \"custom.exercise_interaction\", \"data\": {\"interactionType\": 3, \"questionType\": 2, \"questionId\": \"4_ReviewsPerRegion\", \"learnToolsVersion\": \"0.3.4\", \"valueTowardsCompletion\": 0.0, \"failureMessage\": \"\", \"exceptionClass\": \"\", \"trace\": \"\", \"outcomeType\": 4}}, \"*\")"
      ],
      "text/plain": [
       "<IPython.core.display.Javascript object>"
      ]
     },
     "metadata": {},
     "output_type": "display_data"
    },
    {
     "data": {
      "text/markdown": [
       "<span style=\"color:#33cc99\">Solution:</span> \n",
       "```python\n",
       "reviews_per_region = reviews.region_1.fillna('Unknown').value_counts().sort_values(ascending=False)\n",
       "```"
      ],
      "text/plain": [
       "Solution: \n",
       "```python\n",
       "reviews_per_region = reviews.region_1.fillna('Unknown').value_counts().sort_values(ascending=False)\n",
       "```"
      ]
     },
     "metadata": {},
     "output_type": "display_data"
    }
   ],
   "source": [
    "q4.hint()\n",
    "q4.solution()"
   ]
  },
  {
   "cell_type": "markdown",
   "id": "7ab4843a",
   "metadata": {
    "papermill": {
     "duration": 0.006631,
     "end_time": "2022-11-27T14:37:54.415913",
     "exception": false,
     "start_time": "2022-11-27T14:37:54.409282",
     "status": "completed"
    },
    "tags": []
   },
   "source": [
    "# Keep going\n",
    "\n",
    "Move on to **[renaming and combining](https://www.kaggle.com/residentmario/renaming-and-combining)**."
   ]
  },
  {
   "cell_type": "markdown",
   "id": "739813ff",
   "metadata": {
    "papermill": {
     "duration": 0.00675,
     "end_time": "2022-11-27T14:37:54.429573",
     "exception": false,
     "start_time": "2022-11-27T14:37:54.422823",
     "status": "completed"
    },
    "tags": []
   },
   "source": [
    "---\n",
    "\n",
    "\n",
    "\n",
    "\n",
    "*Have questions or comments? Visit the [course discussion forum](https://www.kaggle.com/learn/pandas/discussion) to chat with other learners.*"
   ]
  }
 ],
 "metadata": {
  "kernelspec": {
   "display_name": "Python 3",
   "language": "python",
   "name": "python3"
  },
  "language_info": {
   "codemirror_mode": {
    "name": "ipython",
    "version": 3
   },
   "file_extension": ".py",
   "mimetype": "text/x-python",
   "name": "python",
   "nbconvert_exporter": "python",
   "pygments_lexer": "ipython3",
   "version": "3.7.12"
  },
  "papermill": {
   "default_parameters": {},
   "duration": 12.859369,
   "end_time": "2022-11-27T14:37:55.159268",
   "environment_variables": {},
   "exception": null,
   "input_path": "__notebook__.ipynb",
   "output_path": "__notebook__.ipynb",
   "parameters": {},
   "start_time": "2022-11-27T14:37:42.299899",
   "version": "2.3.4"
  }
 },
 "nbformat": 4,
 "nbformat_minor": 5
} 

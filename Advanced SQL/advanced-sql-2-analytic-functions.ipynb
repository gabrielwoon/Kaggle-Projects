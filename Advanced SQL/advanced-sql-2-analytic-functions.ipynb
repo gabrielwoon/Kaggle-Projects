{
 "cells": [
  {
   "cell_type": "markdown",
   "id": "08981d88",
   "metadata": {
    "papermill": {
     "duration": 0.005205,
     "end_time": "2022-12-14T09:01:52.982533",
     "exception": false,
     "start_time": "2022-12-14T09:01:52.977328",
     "status": "completed"
    },
    "tags": []
   },
   "source": [
    "## **This notebook is an exercise in the [Advanced SQL](https://www.kaggle.com/learn/advanced-sql) course.  You can reference the tutorial at [this link](https://www.kaggle.com/alexisbcook/analytic-functions).**\n",
    "\n",
    "---\n"
   ]
  },
  {
   "cell_type": "markdown",
   "id": "54368ff5",
   "metadata": {
    "papermill": {
     "duration": 0.003751,
     "end_time": "2022-12-14T09:01:52.990868",
     "exception": false,
     "start_time": "2022-12-14T09:01:52.987117",
     "status": "completed"
    },
    "tags": []
   },
   "source": [
    "# Introduction\n",
    "\n",
    "Here, you'll use window functions to answer questions about the [Chicago Taxi Trips](https://www.kaggle.com/chicago/chicago-taxi-trips-bq) dataset.\n",
    "\n",
    "Before you get started, run the code cell below to set everything up."
   ]
  },
  {
   "cell_type": "code",
   "execution_count": 1,
   "id": "46ca9d20",
   "metadata": {
    "execution": {
     "iopub.execute_input": "2022-12-14T09:01:53.001139Z",
     "iopub.status.busy": "2022-12-14T09:01:53.000502Z",
     "iopub.status.idle": "2022-12-14T09:02:12.469126Z",
     "shell.execute_reply": "2022-12-14T09:02:12.467418Z"
    },
    "papermill": {
     "duration": 19.47713,
     "end_time": "2022-12-14T09:02:12.471961",
     "exception": false,
     "start_time": "2022-12-14T09:01:52.994831",
     "status": "completed"
    },
    "tags": []
   },
   "outputs": [
    {
     "name": "stdout",
     "output_type": "stream",
     "text": [
      "Using Kaggle's public dataset BigQuery integration.\n"
     ]
    },
    {
     "name": "stderr",
     "output_type": "stream",
     "text": [
      "/opt/conda/lib/python3.7/site-packages/google/cloud/bigquery/client.py:440: UserWarning: Cannot create BigQuery Storage client, the dependency google-cloud-bigquery-storage is not installed.\n",
      "  \"Cannot create BigQuery Storage client, the dependency \"\n"
     ]
    },
    {
     "name": "stdout",
     "output_type": "stream",
     "text": [
      "Setup Complete\n"
     ]
    }
   ],
   "source": [
    "# Set up feedback system\n",
    "from learntools.core import binder\n",
    "binder.bind(globals())\n",
    "from learntools.sql_advanced.ex2 import *\n",
    "print(\"Setup Complete\")"
   ]
  },
  {
   "cell_type": "markdown",
   "id": "be7f7ec7",
   "metadata": {
    "papermill": {
     "duration": 0.004021,
     "end_time": "2022-12-14T09:02:12.480456",
     "exception": false,
     "start_time": "2022-12-14T09:02:12.476435",
     "status": "completed"
    },
    "tags": []
   },
   "source": [
    "The following code cell fetches the `taxi_trips` table from the `chicago_taxi_trips` dataset. We also preview the first five rows of the table.  You'll use the table to answer the questions below."
   ]
  },
  {
   "cell_type": "code",
   "execution_count": 2,
   "id": "4e167584",
   "metadata": {
    "execution": {
     "iopub.execute_input": "2022-12-14T09:02:12.490882Z",
     "iopub.status.busy": "2022-12-14T09:02:12.490332Z",
     "iopub.status.idle": "2022-12-14T09:02:15.122126Z",
     "shell.execute_reply": "2022-12-14T09:02:15.120958Z"
    },
    "papermill": {
     "duration": 2.640129,
     "end_time": "2022-12-14T09:02:15.124947",
     "exception": false,
     "start_time": "2022-12-14T09:02:12.484818",
     "status": "completed"
    },
    "tags": []
   },
   "outputs": [
    {
     "name": "stdout",
     "output_type": "stream",
     "text": [
      "Using Kaggle's public dataset BigQuery integration.\n"
     ]
    },
    {
     "name": "stderr",
     "output_type": "stream",
     "text": [
      "/opt/conda/lib/python3.7/site-packages/ipykernel_launcher.py:19: UserWarning: Cannot use bqstorage_client if max_results is set, reverting to fetching data with the tabledata.list endpoint.\n"
     ]
    },
    {
     "data": {
      "text/html": [
       "<div>\n",
       "<style scoped>\n",
       "    .dataframe tbody tr th:only-of-type {\n",
       "        vertical-align: middle;\n",
       "    }\n",
       "\n",
       "    .dataframe tbody tr th {\n",
       "        vertical-align: top;\n",
       "    }\n",
       "\n",
       "    .dataframe thead th {\n",
       "        text-align: right;\n",
       "    }\n",
       "</style>\n",
       "<table border=\"1\" class=\"dataframe\">\n",
       "  <thead>\n",
       "    <tr style=\"text-align: right;\">\n",
       "      <th></th>\n",
       "      <th>unique_key</th>\n",
       "      <th>taxi_id</th>\n",
       "      <th>trip_start_timestamp</th>\n",
       "      <th>trip_end_timestamp</th>\n",
       "      <th>trip_seconds</th>\n",
       "      <th>trip_miles</th>\n",
       "      <th>pickup_census_tract</th>\n",
       "      <th>dropoff_census_tract</th>\n",
       "      <th>pickup_community_area</th>\n",
       "      <th>dropoff_community_area</th>\n",
       "      <th>...</th>\n",
       "      <th>extras</th>\n",
       "      <th>trip_total</th>\n",
       "      <th>payment_type</th>\n",
       "      <th>company</th>\n",
       "      <th>pickup_latitude</th>\n",
       "      <th>pickup_longitude</th>\n",
       "      <th>pickup_location</th>\n",
       "      <th>dropoff_latitude</th>\n",
       "      <th>dropoff_longitude</th>\n",
       "      <th>dropoff_location</th>\n",
       "    </tr>\n",
       "  </thead>\n",
       "  <tbody>\n",
       "    <tr>\n",
       "      <th>0</th>\n",
       "      <td>af6765169abd3a4d4273cadc331cec06c561df08</td>\n",
       "      <td>271cde2c4b4cc7b38a86c7e9b1543474230949e7fa5925...</td>\n",
       "      <td>2013-07-07 01:15:00+00:00</td>\n",
       "      <td>2013-07-07 01:15:00+00:00</td>\n",
       "      <td>0</td>\n",
       "      <td>0.1</td>\n",
       "      <td>NaN</td>\n",
       "      <td>NaN</td>\n",
       "      <td>7</td>\n",
       "      <td>7</td>\n",
       "      <td>...</td>\n",
       "      <td>0.0</td>\n",
       "      <td>3.45</td>\n",
       "      <td>Cash</td>\n",
       "      <td>None</td>\n",
       "      <td>41.922686</td>\n",
       "      <td>-87.649489</td>\n",
       "      <td>POINT (-87.6494887289 41.9226862843)</td>\n",
       "      <td>41.922686</td>\n",
       "      <td>-87.649489</td>\n",
       "      <td>POINT (-87.6494887289 41.9226862843)</td>\n",
       "    </tr>\n",
       "    <tr>\n",
       "      <th>1</th>\n",
       "      <td>25fa321d5c22728eea8df33ec676da2b1af940bc</td>\n",
       "      <td>c0ac5f25d3a2d15b6af35c3d9c5af43688189a9b9352eb...</td>\n",
       "      <td>2013-08-18 14:00:00+00:00</td>\n",
       "      <td>2013-08-18 14:00:00+00:00</td>\n",
       "      <td>180</td>\n",
       "      <td>0.2</td>\n",
       "      <td>1.703108e+10</td>\n",
       "      <td>1.703108e+10</td>\n",
       "      <td>8</td>\n",
       "      <td>8</td>\n",
       "      <td>...</td>\n",
       "      <td>0.0</td>\n",
       "      <td>4.25</td>\n",
       "      <td>Cash</td>\n",
       "      <td>None</td>\n",
       "      <td>41.892508</td>\n",
       "      <td>-87.626215</td>\n",
       "      <td>POINT (-87.6262149064 41.8925077809)</td>\n",
       "      <td>41.892508</td>\n",
       "      <td>-87.626215</td>\n",
       "      <td>POINT (-87.6262149064 41.8925077809)</td>\n",
       "    </tr>\n",
       "    <tr>\n",
       "      <th>2</th>\n",
       "      <td>cb0239ab3f8094dd1f59c24cea6fb04828dd96f9</td>\n",
       "      <td>92a268bbd40ab9939136f48ebcc1aa86dacb1f53b2fb17...</td>\n",
       "      <td>2013-07-10 11:30:00+00:00</td>\n",
       "      <td>2013-07-10 11:45:00+00:00</td>\n",
       "      <td>840</td>\n",
       "      <td>2.5</td>\n",
       "      <td>1.703128e+10</td>\n",
       "      <td>1.703133e+10</td>\n",
       "      <td>28</td>\n",
       "      <td>33</td>\n",
       "      <td>...</td>\n",
       "      <td>1.0</td>\n",
       "      <td>10.65</td>\n",
       "      <td>Cash</td>\n",
       "      <td>None</td>\n",
       "      <td>41.879255</td>\n",
       "      <td>-87.642649</td>\n",
       "      <td>POINT (-87.642648998 41.8792550844)</td>\n",
       "      <td>41.859350</td>\n",
       "      <td>-87.617358</td>\n",
       "      <td>POINT (-87.6173580061 41.859349715)</td>\n",
       "    </tr>\n",
       "    <tr>\n",
       "      <th>3</th>\n",
       "      <td>05355404e7cf69c2240f998944d71eea102bb910</td>\n",
       "      <td>10ea6a4868a3c8225255617c20b0e0b1f2a56b550efbb9...</td>\n",
       "      <td>2013-07-14 21:30:00+00:00</td>\n",
       "      <td>2013-07-14 21:30:00+00:00</td>\n",
       "      <td>300</td>\n",
       "      <td>0.8</td>\n",
       "      <td>1.703108e+10</td>\n",
       "      <td>1.703184e+10</td>\n",
       "      <td>8</td>\n",
       "      <td>24</td>\n",
       "      <td>...</td>\n",
       "      <td>1.0</td>\n",
       "      <td>8.45</td>\n",
       "      <td>Credit Card</td>\n",
       "      <td>None</td>\n",
       "      <td>41.892073</td>\n",
       "      <td>-87.628874</td>\n",
       "      <td>POINT (-87.6288741572 41.8920726347)</td>\n",
       "      <td>41.898306</td>\n",
       "      <td>-87.653614</td>\n",
       "      <td>POINT (-87.6536139825 41.8983058696)</td>\n",
       "    </tr>\n",
       "    <tr>\n",
       "      <th>4</th>\n",
       "      <td>bc90b3c63d8c29578a4ff3a5282c2954b88128b7</td>\n",
       "      <td>264b8aad6a6da00fe55c46c42a3d63fdafca5fa951fcbb...</td>\n",
       "      <td>2013-07-05 14:00:00+00:00</td>\n",
       "      <td>2013-07-05 14:00:00+00:00</td>\n",
       "      <td>480</td>\n",
       "      <td>1.7</td>\n",
       "      <td>1.703132e+10</td>\n",
       "      <td>1.703133e+10</td>\n",
       "      <td>32</td>\n",
       "      <td>33</td>\n",
       "      <td>...</td>\n",
       "      <td>2.0</td>\n",
       "      <td>11.45</td>\n",
       "      <td>Credit Card</td>\n",
       "      <td>None</td>\n",
       "      <td>41.877406</td>\n",
       "      <td>-87.621972</td>\n",
       "      <td>POINT (-87.6219716519 41.8774061234)</td>\n",
       "      <td>41.859350</td>\n",
       "      <td>-87.617358</td>\n",
       "      <td>POINT (-87.6173580061 41.859349715)</td>\n",
       "    </tr>\n",
       "  </tbody>\n",
       "</table>\n",
       "<p>5 rows × 23 columns</p>\n",
       "</div>"
      ],
      "text/plain": [
       "                                 unique_key  \\\n",
       "0  af6765169abd3a4d4273cadc331cec06c561df08   \n",
       "1  25fa321d5c22728eea8df33ec676da2b1af940bc   \n",
       "2  cb0239ab3f8094dd1f59c24cea6fb04828dd96f9   \n",
       "3  05355404e7cf69c2240f998944d71eea102bb910   \n",
       "4  bc90b3c63d8c29578a4ff3a5282c2954b88128b7   \n",
       "\n",
       "                                             taxi_id  \\\n",
       "0  271cde2c4b4cc7b38a86c7e9b1543474230949e7fa5925...   \n",
       "1  c0ac5f25d3a2d15b6af35c3d9c5af43688189a9b9352eb...   \n",
       "2  92a268bbd40ab9939136f48ebcc1aa86dacb1f53b2fb17...   \n",
       "3  10ea6a4868a3c8225255617c20b0e0b1f2a56b550efbb9...   \n",
       "4  264b8aad6a6da00fe55c46c42a3d63fdafca5fa951fcbb...   \n",
       "\n",
       "       trip_start_timestamp        trip_end_timestamp  trip_seconds  \\\n",
       "0 2013-07-07 01:15:00+00:00 2013-07-07 01:15:00+00:00             0   \n",
       "1 2013-08-18 14:00:00+00:00 2013-08-18 14:00:00+00:00           180   \n",
       "2 2013-07-10 11:30:00+00:00 2013-07-10 11:45:00+00:00           840   \n",
       "3 2013-07-14 21:30:00+00:00 2013-07-14 21:30:00+00:00           300   \n",
       "4 2013-07-05 14:00:00+00:00 2013-07-05 14:00:00+00:00           480   \n",
       "\n",
       "   trip_miles  pickup_census_tract  dropoff_census_tract  \\\n",
       "0         0.1                  NaN                   NaN   \n",
       "1         0.2         1.703108e+10          1.703108e+10   \n",
       "2         2.5         1.703128e+10          1.703133e+10   \n",
       "3         0.8         1.703108e+10          1.703184e+10   \n",
       "4         1.7         1.703132e+10          1.703133e+10   \n",
       "\n",
       "   pickup_community_area  dropoff_community_area  ...  extras  trip_total  \\\n",
       "0                      7                       7  ...     0.0        3.45   \n",
       "1                      8                       8  ...     0.0        4.25   \n",
       "2                     28                      33  ...     1.0       10.65   \n",
       "3                      8                      24  ...     1.0        8.45   \n",
       "4                     32                      33  ...     2.0       11.45   \n",
       "\n",
       "   payment_type  company  pickup_latitude pickup_longitude  \\\n",
       "0          Cash     None        41.922686       -87.649489   \n",
       "1          Cash     None        41.892508       -87.626215   \n",
       "2          Cash     None        41.879255       -87.642649   \n",
       "3   Credit Card     None        41.892073       -87.628874   \n",
       "4   Credit Card     None        41.877406       -87.621972   \n",
       "\n",
       "                        pickup_location  dropoff_latitude  dropoff_longitude  \\\n",
       "0  POINT (-87.6494887289 41.9226862843)         41.922686         -87.649489   \n",
       "1  POINT (-87.6262149064 41.8925077809)         41.892508         -87.626215   \n",
       "2   POINT (-87.642648998 41.8792550844)         41.859350         -87.617358   \n",
       "3  POINT (-87.6288741572 41.8920726347)         41.898306         -87.653614   \n",
       "4  POINT (-87.6219716519 41.8774061234)         41.859350         -87.617358   \n",
       "\n",
       "                       dropoff_location  \n",
       "0  POINT (-87.6494887289 41.9226862843)  \n",
       "1  POINT (-87.6262149064 41.8925077809)  \n",
       "2   POINT (-87.6173580061 41.859349715)  \n",
       "3  POINT (-87.6536139825 41.8983058696)  \n",
       "4   POINT (-87.6173580061 41.859349715)  \n",
       "\n",
       "[5 rows x 23 columns]"
      ]
     },
     "execution_count": 2,
     "metadata": {},
     "output_type": "execute_result"
    }
   ],
   "source": [
    "from google.cloud import bigquery\n",
    "\n",
    "# Create a \"Client\" object\n",
    "client = bigquery.Client()\n",
    "\n",
    "# Construct a reference to the \"chicago_taxi_trips\" dataset\n",
    "dataset_ref = client.dataset(\"chicago_taxi_trips\", project=\"bigquery-public-data\")\n",
    "\n",
    "# API request - fetch the dataset\n",
    "dataset = client.get_dataset(dataset_ref)\n",
    "\n",
    "# Construct a reference to the \"taxi_trips\" table\n",
    "table_ref = dataset_ref.table(\"taxi_trips\")\n",
    "\n",
    "# API request - fetch the table\n",
    "table = client.get_table(table_ref)\n",
    "\n",
    "# Preview the first five lines of the table\n",
    "client.list_rows(table, max_results=5).to_dataframe()"
   ]
  },
  {
   "cell_type": "markdown",
   "id": "b0c73231",
   "metadata": {
    "papermill": {
     "duration": 0.004476,
     "end_time": "2022-12-14T09:02:15.134483",
     "exception": false,
     "start_time": "2022-12-14T09:02:15.130007",
     "status": "completed"
    },
    "tags": []
   },
   "source": [
    "# Exercises\n",
    "\n",
    "### 1) How can you predict the demand for taxis?\n",
    "\n",
    "Say you work for a taxi company, and you're interested in predicting the demand for taxis.  Towards this goal, you'd like to create a plot that shows a rolling average of the daily number of taxi trips.  Amend the (partial) query below to return a DataFrame with two columns:\n",
    "- `trip_date` - contains one entry for each date from January 1, 2016, to December 31, 2017.\n",
    "- `avg_num_trips` - shows the average number of daily trips, calculated over a window including the value for the current date, along with the values for the preceding 15 days and the following 15 days, as long as the days fit within the two-year time frame.  For instance, when calculating the value in this column for January 5, 2016, the window will include the number of trips for the preceding 4 days, the current date, and the following 15 days.\n",
    "\n",
    "This query is partially completed for you, and you need only write the part that calculates the `avg_num_trips` column.  Note that this query uses a common table expression (CTE); if you need to review how to use CTEs, you're encouraged to check out [this tutorial](https://www.kaggle.com/dansbecker/as-with) in the [Intro to SQL](https://www.kaggle.com/learn/intro-to-sql) micro-course."
   ]
  },
  {
   "cell_type": "code",
   "execution_count": 3,
   "id": "e8eb0af4",
   "metadata": {
    "execution": {
     "iopub.execute_input": "2022-12-14T09:02:15.146704Z",
     "iopub.status.busy": "2022-12-14T09:02:15.146037Z",
     "iopub.status.idle": "2022-12-14T09:02:16.530661Z",
     "shell.execute_reply": "2022-12-14T09:02:16.529470Z"
    },
    "papermill": {
     "duration": 1.393827,
     "end_time": "2022-12-14T09:02:16.533524",
     "exception": false,
     "start_time": "2022-12-14T09:02:15.139697",
     "status": "completed"
    },
    "tags": []
   },
   "outputs": [
    {
     "name": "stderr",
     "output_type": "stream",
     "text": [
      "/opt/conda/lib/python3.7/site-packages/google/cloud/bigquery/client.py:440: UserWarning: Cannot create BigQuery Storage client, the dependency google-cloud-bigquery-storage is not installed.\n",
      "  \"Cannot create BigQuery Storage client, the dependency \"\n"
     ]
    },
    {
     "data": {
      "text/html": [
       "<div>\n",
       "<style scoped>\n",
       "    .dataframe tbody tr th:only-of-type {\n",
       "        vertical-align: middle;\n",
       "    }\n",
       "\n",
       "    .dataframe tbody tr th {\n",
       "        vertical-align: top;\n",
       "    }\n",
       "\n",
       "    .dataframe thead th {\n",
       "        text-align: right;\n",
       "    }\n",
       "</style>\n",
       "<table border=\"1\" class=\"dataframe\">\n",
       "  <thead>\n",
       "    <tr style=\"text-align: right;\">\n",
       "      <th></th>\n",
       "      <th>trip_date</th>\n",
       "      <th>avg_num_trips</th>\n",
       "    </tr>\n",
       "  </thead>\n",
       "  <tbody>\n",
       "    <tr>\n",
       "      <th>0</th>\n",
       "      <td>2017-11-01</td>\n",
       "      <td>69752.032258</td>\n",
       "    </tr>\n",
       "    <tr>\n",
       "      <th>1</th>\n",
       "      <td>2016-01-18</td>\n",
       "      <td>80712.709677</td>\n",
       "    </tr>\n",
       "    <tr>\n",
       "      <th>2</th>\n",
       "      <td>2016-03-30</td>\n",
       "      <td>92284.032258</td>\n",
       "    </tr>\n",
       "    <tr>\n",
       "      <th>3</th>\n",
       "      <td>2016-06-25</td>\n",
       "      <td>87467.580645</td>\n",
       "    </tr>\n",
       "    <tr>\n",
       "      <th>4</th>\n",
       "      <td>2016-05-12</td>\n",
       "      <td>95416.580645</td>\n",
       "    </tr>\n",
       "  </tbody>\n",
       "</table>\n",
       "</div>"
      ],
      "text/plain": [
       "    trip_date  avg_num_trips\n",
       "0  2017-11-01   69752.032258\n",
       "1  2016-01-18   80712.709677\n",
       "2  2016-03-30   92284.032258\n",
       "3  2016-06-25   87467.580645\n",
       "4  2016-05-12   95416.580645"
      ]
     },
     "metadata": {},
     "output_type": "display_data"
    },
    {
     "data": {
      "application/javascript": [
       "parent.postMessage({\"jupyterEvent\": \"custom.exercise_interaction\", \"data\": {\"outcomeType\": 1, \"valueTowardsCompletion\": 0.3333333333333333, \"interactionType\": 1, \"questionType\": 2, \"questionId\": \"1_TaxiDemand\", \"learnToolsVersion\": \"0.3.4\", \"failureMessage\": \"\", \"exceptionClass\": \"\", \"trace\": \"\"}}, \"*\")"
      ],
      "text/plain": [
       "<IPython.core.display.Javascript object>"
      ]
     },
     "metadata": {},
     "output_type": "display_data"
    },
    {
     "data": {
      "text/markdown": [
       "<span style=\"color:#33cc33\">Correct</span>"
      ],
      "text/plain": [
       "Correct"
      ]
     },
     "metadata": {},
     "output_type": "display_data"
    }
   ],
   "source": [
    "# Fill in the blank below\n",
    "avg_num_trips_query = \"\"\"\n",
    "                      WITH trips_by_day AS\n",
    "                      (\n",
    "                      SELECT DATE(trip_start_timestamp) AS trip_date,\n",
    "                          COUNT(*) as num_trips\n",
    "                      FROM `bigquery-public-data.chicago_taxi_trips.taxi_trips`\n",
    "                      WHERE trip_start_timestamp >= '2016-01-01' AND trip_start_timestamp < '2018-01-01'\n",
    "                      GROUP BY trip_date\n",
    "                      ORDER BY trip_date\n",
    "                      )\n",
    "                      SELECT trip_date,\n",
    "                          AVG(num_trips) \n",
    "                          OVER (\n",
    "                               ORDER BY trip_date\n",
    "                               ROWS BETWEEN 15 PRECEDING AND 15 FOLLOWING\n",
    "                               ) AS avg_num_trips\n",
    "                      FROM trips_by_day\n",
    "                      \"\"\"\n",
    "\n",
    "# Check your answer\n",
    "q_1.check()"
   ]
  },
  {
   "cell_type": "code",
   "execution_count": 4,
   "id": "79617ba0",
   "metadata": {
    "execution": {
     "iopub.execute_input": "2022-12-14T09:02:16.550701Z",
     "iopub.status.busy": "2022-12-14T09:02:16.550000Z",
     "iopub.status.idle": "2022-12-14T09:02:16.564396Z",
     "shell.execute_reply": "2022-12-14T09:02:16.563266Z"
    },
    "papermill": {
     "duration": 0.02503,
     "end_time": "2022-12-14T09:02:16.566599",
     "exception": false,
     "start_time": "2022-12-14T09:02:16.541569",
     "status": "completed"
    },
    "tags": []
   },
   "outputs": [
    {
     "data": {
      "application/javascript": [
       "parent.postMessage({\"jupyterEvent\": \"custom.exercise_interaction\", \"data\": {\"interactionType\": 2, \"questionType\": 2, \"questionId\": \"1_TaxiDemand\", \"learnToolsVersion\": \"0.3.4\", \"valueTowardsCompletion\": 0.0, \"failureMessage\": \"\", \"exceptionClass\": \"\", \"trace\": \"\", \"outcomeType\": 4}}, \"*\")"
      ],
      "text/plain": [
       "<IPython.core.display.Javascript object>"
      ]
     },
     "metadata": {},
     "output_type": "display_data"
    },
    {
     "data": {
      "text/markdown": [
       "<span style=\"color:#3366cc\">Hint:</span> Use the **AVG()** function. Write an **OVER** clause with that orders the rows with the `trip_date` column and uses a window that includes the 15 preceding rows, the current row, and the following 15 rows."
      ],
      "text/plain": [
       "Hint: Use the **AVG()** function. Write an **OVER** clause with that orders the rows with the `trip_date` column and uses a window that includes the 15 preceding rows, the current row, and the following 15 rows."
      ]
     },
     "metadata": {},
     "output_type": "display_data"
    },
    {
     "data": {
      "application/javascript": [
       "parent.postMessage({\"jupyterEvent\": \"custom.exercise_interaction\", \"data\": {\"interactionType\": 3, \"questionType\": 2, \"questionId\": \"1_TaxiDemand\", \"learnToolsVersion\": \"0.3.4\", \"valueTowardsCompletion\": 0.0, \"failureMessage\": \"\", \"exceptionClass\": \"\", \"trace\": \"\", \"outcomeType\": 4}}, \"*\")"
      ],
      "text/plain": [
       "<IPython.core.display.Javascript object>"
      ]
     },
     "metadata": {},
     "output_type": "display_data"
    },
    {
     "data": {
      "text/markdown": [
       "<span style=\"color:#33cc99\">Solution:</span> \n",
       "```python\n",
       "\n",
       "avg_num_trips_query = \"\"\"\n",
       "                      WITH trips_by_day AS\n",
       "                      (\n",
       "                      SELECT DATE(trip_start_timestamp) AS trip_date,\n",
       "                          COUNT(*) as num_trips\n",
       "                      FROM `bigquery-public-data.chicago_taxi_trips.taxi_trips`\n",
       "                      WHERE trip_start_timestamp >= '2016-01-01' AND trip_start_timestamp < '2018-01-01'\n",
       "                      GROUP BY trip_date\n",
       "                      ORDER BY trip_date\n",
       "                      )\n",
       "                      SELECT trip_date,\n",
       "                          AVG(num_trips) \n",
       "                          OVER (\n",
       "                               ORDER BY trip_date\n",
       "                               ROWS BETWEEN 15 PRECEDING AND 15 FOLLOWING\n",
       "                               ) AS avg_num_trips\n",
       "                      FROM trips_by_day\n",
       "                      \"\"\"\n",
       "\n",
       "```"
      ],
      "text/plain": [
       "Solution: \n",
       "```python\n",
       "\n",
       "avg_num_trips_query = \"\"\"\n",
       "                      WITH trips_by_day AS\n",
       "                      (\n",
       "                      SELECT DATE(trip_start_timestamp) AS trip_date,\n",
       "                          COUNT(*) as num_trips\n",
       "                      FROM `bigquery-public-data.chicago_taxi_trips.taxi_trips`\n",
       "                      WHERE trip_start_timestamp >= '2016-01-01' AND trip_start_timestamp < '2018-01-01'\n",
       "                      GROUP BY trip_date\n",
       "                      ORDER BY trip_date\n",
       "                      )\n",
       "                      SELECT trip_date,\n",
       "                          AVG(num_trips) \n",
       "                          OVER (\n",
       "                               ORDER BY trip_date\n",
       "                               ROWS BETWEEN 15 PRECEDING AND 15 FOLLOWING\n",
       "                               ) AS avg_num_trips\n",
       "                      FROM trips_by_day\n",
       "                      \"\"\"\n",
       "\n",
       "```"
      ]
     },
     "metadata": {},
     "output_type": "display_data"
    }
   ],
   "source": [
    "# Lines below will give you a hint or solution code\n",
    "q_1.hint()\n",
    "q_1.solution()"
   ]
  },
  {
   "cell_type": "markdown",
   "id": "c46096e9",
   "metadata": {
    "papermill": {
     "duration": 0.005524,
     "end_time": "2022-12-14T09:02:16.577916",
     "exception": false,
     "start_time": "2022-12-14T09:02:16.572392",
     "status": "completed"
    },
    "tags": []
   },
   "source": [
    "### 2) Can you separate and order trips by community area?\n",
    "\n",
    "The query below returns a DataFrame with three columns from the table: `pickup_community_area`, `trip_start_timestamp`, and `trip_end_timestamp`.  \n",
    "\n",
    "Amend the query to return an additional column called `trip_number` which shows the order in which the trips were taken from their respective community areas.  So, the first trip of the day originating from community area 1 should receive a value of 1; the second trip of the day from the same area should receive a value of 2.  Likewise, the first trip of the day from community area 2 should receive a value of 1, and so on.\n",
    "\n",
    "Note that there are many numbering functions that can be used to solve this problem (depending on how you want to deal with trips that started at the same time from the same community area); to answer this question, please use the **RANK()** function."
   ]
  },
  {
   "cell_type": "code",
   "execution_count": 5,
   "id": "272e220e",
   "metadata": {
    "execution": {
     "iopub.execute_input": "2022-12-14T09:02:16.591573Z",
     "iopub.status.busy": "2022-12-14T09:02:16.590927Z",
     "iopub.status.idle": "2022-12-14T09:02:20.856198Z",
     "shell.execute_reply": "2022-12-14T09:02:20.855112Z"
    },
    "papermill": {
     "duration": 4.27487,
     "end_time": "2022-12-14T09:02:20.858563",
     "exception": false,
     "start_time": "2022-12-14T09:02:16.583693",
     "status": "completed"
    },
    "tags": []
   },
   "outputs": [
    {
     "name": "stderr",
     "output_type": "stream",
     "text": [
      "/opt/conda/lib/python3.7/site-packages/google/cloud/bigquery/client.py:440: UserWarning: Cannot create BigQuery Storage client, the dependency google-cloud-bigquery-storage is not installed.\n",
      "  \"Cannot create BigQuery Storage client, the dependency \"\n"
     ]
    },
    {
     "data": {
      "text/html": [
       "<div>\n",
       "<style scoped>\n",
       "    .dataframe tbody tr th:only-of-type {\n",
       "        vertical-align: middle;\n",
       "    }\n",
       "\n",
       "    .dataframe tbody tr th {\n",
       "        vertical-align: top;\n",
       "    }\n",
       "\n",
       "    .dataframe thead th {\n",
       "        text-align: right;\n",
       "    }\n",
       "</style>\n",
       "<table border=\"1\" class=\"dataframe\">\n",
       "  <thead>\n",
       "    <tr style=\"text-align: right;\">\n",
       "      <th></th>\n",
       "      <th>pickup_community_area</th>\n",
       "      <th>trip_start_timestamp</th>\n",
       "      <th>trip_end_timestamp</th>\n",
       "      <th>trip_number</th>\n",
       "    </tr>\n",
       "  </thead>\n",
       "  <tbody>\n",
       "    <tr>\n",
       "      <th>0</th>\n",
       "      <td>58.0</td>\n",
       "      <td>2017-05-01 02:30:00+00:00</td>\n",
       "      <td>2017-05-01 02:30:00+00:00</td>\n",
       "      <td>1</td>\n",
       "    </tr>\n",
       "    <tr>\n",
       "      <th>1</th>\n",
       "      <td>58.0</td>\n",
       "      <td>2017-05-01 05:15:00+00:00</td>\n",
       "      <td>2017-05-01 05:15:00+00:00</td>\n",
       "      <td>2</td>\n",
       "    </tr>\n",
       "    <tr>\n",
       "      <th>2</th>\n",
       "      <td>58.0</td>\n",
       "      <td>2017-05-01 09:00:00+00:00</td>\n",
       "      <td>2017-05-01 09:00:00+00:00</td>\n",
       "      <td>3</td>\n",
       "    </tr>\n",
       "    <tr>\n",
       "      <th>3</th>\n",
       "      <td>58.0</td>\n",
       "      <td>2017-05-01 09:15:00+00:00</td>\n",
       "      <td>2017-05-01 09:15:00+00:00</td>\n",
       "      <td>4</td>\n",
       "    </tr>\n",
       "    <tr>\n",
       "      <th>4</th>\n",
       "      <td>58.0</td>\n",
       "      <td>2017-05-01 09:30:00+00:00</td>\n",
       "      <td>2017-05-01 09:30:00+00:00</td>\n",
       "      <td>5</td>\n",
       "    </tr>\n",
       "  </tbody>\n",
       "</table>\n",
       "</div>"
      ],
      "text/plain": [
       "   pickup_community_area      trip_start_timestamp        trip_end_timestamp  \\\n",
       "0                   58.0 2017-05-01 02:30:00+00:00 2017-05-01 02:30:00+00:00   \n",
       "1                   58.0 2017-05-01 05:15:00+00:00 2017-05-01 05:15:00+00:00   \n",
       "2                   58.0 2017-05-01 09:00:00+00:00 2017-05-01 09:00:00+00:00   \n",
       "3                   58.0 2017-05-01 09:15:00+00:00 2017-05-01 09:15:00+00:00   \n",
       "4                   58.0 2017-05-01 09:30:00+00:00 2017-05-01 09:30:00+00:00   \n",
       "\n",
       "   trip_number  \n",
       "0            1  \n",
       "1            2  \n",
       "2            3  \n",
       "3            4  \n",
       "4            5  "
      ]
     },
     "metadata": {},
     "output_type": "display_data"
    },
    {
     "data": {
      "application/javascript": [
       "parent.postMessage({\"jupyterEvent\": \"custom.exercise_interaction\", \"data\": {\"outcomeType\": 1, \"valueTowardsCompletion\": 0.3333333333333333, \"interactionType\": 1, \"questionType\": 2, \"questionId\": \"2_CommunityArea\", \"learnToolsVersion\": \"0.3.4\", \"failureMessage\": \"\", \"exceptionClass\": \"\", \"trace\": \"\"}}, \"*\")"
      ],
      "text/plain": [
       "<IPython.core.display.Javascript object>"
      ]
     },
     "metadata": {},
     "output_type": "display_data"
    },
    {
     "data": {
      "text/markdown": [
       "<span style=\"color:#33cc33\">Correct</span>"
      ],
      "text/plain": [
       "Correct"
      ]
     },
     "metadata": {},
     "output_type": "display_data"
    }
   ],
   "source": [
    "# Amend the query below\n",
    "trip_number_query = \"\"\"\n",
    "                    SELECT pickup_community_area,\n",
    "                        trip_start_timestamp,\n",
    "                        trip_end_timestamp,\n",
    "                        RANK()\n",
    "                            OVER (\n",
    "                                  PARTITION BY pickup_community_area\n",
    "                                  ORDER BY trip_start_timestamp\n",
    "                                 ) AS trip_number\n",
    "                    FROM `bigquery-public-data.chicago_taxi_trips.taxi_trips`\n",
    "                    WHERE DATE(trip_start_timestamp) = '2017-05-01' \n",
    "                    \"\"\"\n",
    "\n",
    "# Check your answer\n",
    "q_2.check()"
   ]
  },
  {
   "cell_type": "code",
   "execution_count": 6,
   "id": "ed723033",
   "metadata": {
    "execution": {
     "iopub.execute_input": "2022-12-14T09:02:20.873630Z",
     "iopub.status.busy": "2022-12-14T09:02:20.872769Z",
     "iopub.status.idle": "2022-12-14T09:02:20.883364Z",
     "shell.execute_reply": "2022-12-14T09:02:20.882662Z"
    },
    "papermill": {
     "duration": 0.019988,
     "end_time": "2022-12-14T09:02:20.885229",
     "exception": false,
     "start_time": "2022-12-14T09:02:20.865241",
     "status": "completed"
    },
    "tags": []
   },
   "outputs": [
    {
     "data": {
      "application/javascript": [
       "parent.postMessage({\"jupyterEvent\": \"custom.exercise_interaction\", \"data\": {\"interactionType\": 2, \"questionType\": 2, \"questionId\": \"2_CommunityArea\", \"learnToolsVersion\": \"0.3.4\", \"valueTowardsCompletion\": 0.0, \"failureMessage\": \"\", \"exceptionClass\": \"\", \"trace\": \"\", \"outcomeType\": 4}}, \"*\")"
      ],
      "text/plain": [
       "<IPython.core.display.Javascript object>"
      ]
     },
     "metadata": {},
     "output_type": "display_data"
    },
    {
     "data": {
      "text/markdown": [
       "<span style=\"color:#3366cc\">Hint:</span> You don't need a **GROUP BY** clause.  Use the **RANK()** function.  Your **OVER** clause should order the rows by the `trip_start_timestamp` column and break the data into partitions based on `pickup_community_area`."
      ],
      "text/plain": [
       "Hint: You don't need a **GROUP BY** clause.  Use the **RANK()** function.  Your **OVER** clause should order the rows by the `trip_start_timestamp` column and break the data into partitions based on `pickup_community_area`."
      ]
     },
     "metadata": {},
     "output_type": "display_data"
    },
    {
     "data": {
      "application/javascript": [
       "parent.postMessage({\"jupyterEvent\": \"custom.exercise_interaction\", \"data\": {\"interactionType\": 3, \"questionType\": 2, \"questionId\": \"2_CommunityArea\", \"learnToolsVersion\": \"0.3.4\", \"valueTowardsCompletion\": 0.0, \"failureMessage\": \"\", \"exceptionClass\": \"\", \"trace\": \"\", \"outcomeType\": 4}}, \"*\")"
      ],
      "text/plain": [
       "<IPython.core.display.Javascript object>"
      ]
     },
     "metadata": {},
     "output_type": "display_data"
    },
    {
     "data": {
      "text/markdown": [
       "<span style=\"color:#33cc99\">Solution:</span> \n",
       "```python\n",
       "\n",
       "trip_number_query = \"\"\"\n",
       "                    SELECT pickup_community_area,\n",
       "                        trip_start_timestamp,\n",
       "                        trip_end_timestamp,\n",
       "                        RANK()\n",
       "                            OVER (\n",
       "                                  PARTITION BY pickup_community_area\n",
       "                                  ORDER BY trip_start_timestamp\n",
       "                                 ) AS trip_number\n",
       "                    FROM `bigquery-public-data.chicago_taxi_trips.taxi_trips`\n",
       "                    WHERE DATE(trip_start_timestamp) = '2017-05-01' \n",
       "                    \"\"\"\n",
       "\n",
       "trip_number_result = client.query(trip_number_query).result().to_dataframe()\n",
       "\n",
       "```"
      ],
      "text/plain": [
       "Solution: \n",
       "```python\n",
       "\n",
       "trip_number_query = \"\"\"\n",
       "                    SELECT pickup_community_area,\n",
       "                        trip_start_timestamp,\n",
       "                        trip_end_timestamp,\n",
       "                        RANK()\n",
       "                            OVER (\n",
       "                                  PARTITION BY pickup_community_area\n",
       "                                  ORDER BY trip_start_timestamp\n",
       "                                 ) AS trip_number\n",
       "                    FROM `bigquery-public-data.chicago_taxi_trips.taxi_trips`\n",
       "                    WHERE DATE(trip_start_timestamp) = '2017-05-01' \n",
       "                    \"\"\"\n",
       "\n",
       "trip_number_result = client.query(trip_number_query).result().to_dataframe()\n",
       "\n",
       "```"
      ]
     },
     "metadata": {},
     "output_type": "display_data"
    }
   ],
   "source": [
    "# Lines below will give you a hint or solution code\n",
    "q_2.hint()\n",
    "q_2.solution()"
   ]
  },
  {
   "cell_type": "markdown",
   "id": "273ea01e",
   "metadata": {
    "papermill": {
     "duration": 0.00641,
     "end_time": "2022-12-14T09:02:20.898282",
     "exception": false,
     "start_time": "2022-12-14T09:02:20.891872",
     "status": "completed"
    },
    "tags": []
   },
   "source": [
    "### 3) How much time elapses between trips?\n",
    "\n",
    "The (partial) query in the code cell below shows, for each trip in the selected time frame, the corresponding `taxi_id`, `trip_start_timestamp`, and `trip_end_timestamp`. \n",
    "\n",
    "Your task in this exercise is to edit the query to include an additional `prev_break` column that shows the length of the break (in minutes) that the driver had before each trip started (this corresponds to the time between `trip_start_timestamp` of the current trip and `trip_end_timestamp` of the previous trip).  Partition the calculation by `taxi_id`, and order the results within each partition by `trip_start_timestamp`.\n",
    "\n",
    "Some sample results are shown below, where all rows correspond to the same driver (or `taxi_id`).  Take the time now to make sure that the values in the `prev_break` column make sense to you!\n",
    "\n",
    "![first_commands](https://i.imgur.com/qjvQzg8.png)\n",
    "\n",
    "Note that the first trip of the day for each driver should have a value of **NaN** (not a number) in the `prev_break` column."
   ]
  },
  {
   "cell_type": "code",
   "execution_count": 7,
   "id": "3afda542",
   "metadata": {
    "execution": {
     "iopub.execute_input": "2022-12-14T09:02:20.914269Z",
     "iopub.status.busy": "2022-12-14T09:02:20.913294Z",
     "iopub.status.idle": "2022-12-14T09:02:32.354474Z",
     "shell.execute_reply": "2022-12-14T09:02:32.353461Z"
    },
    "papermill": {
     "duration": 11.451564,
     "end_time": "2022-12-14T09:02:32.356891",
     "exception": false,
     "start_time": "2022-12-14T09:02:20.905327",
     "status": "completed"
    },
    "tags": []
   },
   "outputs": [
    {
     "name": "stderr",
     "output_type": "stream",
     "text": [
      "/opt/conda/lib/python3.7/site-packages/google/cloud/bigquery/client.py:440: UserWarning: Cannot create BigQuery Storage client, the dependency google-cloud-bigquery-storage is not installed.\n",
      "  \"Cannot create BigQuery Storage client, the dependency \"\n"
     ]
    },
    {
     "data": {
      "text/html": [
       "<div>\n",
       "<style scoped>\n",
       "    .dataframe tbody tr th:only-of-type {\n",
       "        vertical-align: middle;\n",
       "    }\n",
       "\n",
       "    .dataframe tbody tr th {\n",
       "        vertical-align: top;\n",
       "    }\n",
       "\n",
       "    .dataframe thead th {\n",
       "        text-align: right;\n",
       "    }\n",
       "</style>\n",
       "<table border=\"1\" class=\"dataframe\">\n",
       "  <thead>\n",
       "    <tr style=\"text-align: right;\">\n",
       "      <th></th>\n",
       "      <th>taxi_id</th>\n",
       "      <th>trip_start_timestamp</th>\n",
       "      <th>trip_end_timestamp</th>\n",
       "      <th>prev_break</th>\n",
       "    </tr>\n",
       "  </thead>\n",
       "  <tbody>\n",
       "    <tr>\n",
       "      <th>0</th>\n",
       "      <td>17b5eecbb0769978354bdbe06cafb87b02f04e5f7bb96b...</td>\n",
       "      <td>2017-05-01 01:00:00+00:00</td>\n",
       "      <td>2017-05-01 01:15:00+00:00</td>\n",
       "      <td>NaN</td>\n",
       "    </tr>\n",
       "    <tr>\n",
       "      <th>1</th>\n",
       "      <td>17b5eecbb0769978354bdbe06cafb87b02f04e5f7bb96b...</td>\n",
       "      <td>2017-05-01 02:00:00+00:00</td>\n",
       "      <td>2017-05-01 02:15:00+00:00</td>\n",
       "      <td>45.0</td>\n",
       "    </tr>\n",
       "    <tr>\n",
       "      <th>2</th>\n",
       "      <td>17b5eecbb0769978354bdbe06cafb87b02f04e5f7bb96b...</td>\n",
       "      <td>2017-05-01 02:30:00+00:00</td>\n",
       "      <td>2017-05-01 02:30:00+00:00</td>\n",
       "      <td>15.0</td>\n",
       "    </tr>\n",
       "    <tr>\n",
       "      <th>3</th>\n",
       "      <td>17b5eecbb0769978354bdbe06cafb87b02f04e5f7bb96b...</td>\n",
       "      <td>2017-05-01 05:30:00+00:00</td>\n",
       "      <td>2017-05-01 06:00:00+00:00</td>\n",
       "      <td>180.0</td>\n",
       "    </tr>\n",
       "    <tr>\n",
       "      <th>4</th>\n",
       "      <td>1d9c117a4d3e05e04e1fd27b95acf6451c3b1bffb868c1...</td>\n",
       "      <td>2017-05-01 01:45:00+00:00</td>\n",
       "      <td>2017-05-01 02:15:00+00:00</td>\n",
       "      <td>NaN</td>\n",
       "    </tr>\n",
       "  </tbody>\n",
       "</table>\n",
       "</div>"
      ],
      "text/plain": [
       "                                             taxi_id  \\\n",
       "0  17b5eecbb0769978354bdbe06cafb87b02f04e5f7bb96b...   \n",
       "1  17b5eecbb0769978354bdbe06cafb87b02f04e5f7bb96b...   \n",
       "2  17b5eecbb0769978354bdbe06cafb87b02f04e5f7bb96b...   \n",
       "3  17b5eecbb0769978354bdbe06cafb87b02f04e5f7bb96b...   \n",
       "4  1d9c117a4d3e05e04e1fd27b95acf6451c3b1bffb868c1...   \n",
       "\n",
       "       trip_start_timestamp        trip_end_timestamp  prev_break  \n",
       "0 2017-05-01 01:00:00+00:00 2017-05-01 01:15:00+00:00         NaN  \n",
       "1 2017-05-01 02:00:00+00:00 2017-05-01 02:15:00+00:00        45.0  \n",
       "2 2017-05-01 02:30:00+00:00 2017-05-01 02:30:00+00:00        15.0  \n",
       "3 2017-05-01 05:30:00+00:00 2017-05-01 06:00:00+00:00       180.0  \n",
       "4 2017-05-01 01:45:00+00:00 2017-05-01 02:15:00+00:00         NaN  "
      ]
     },
     "metadata": {},
     "output_type": "display_data"
    },
    {
     "data": {
      "application/javascript": [
       "parent.postMessage({\"jupyterEvent\": \"custom.exercise_interaction\", \"data\": {\"outcomeType\": 1, \"valueTowardsCompletion\": 0.3333333333333333, \"interactionType\": 1, \"questionType\": 2, \"questionId\": \"3_BreakTime\", \"learnToolsVersion\": \"0.3.4\", \"failureMessage\": \"\", \"exceptionClass\": \"\", \"trace\": \"\"}}, \"*\")"
      ],
      "text/plain": [
       "<IPython.core.display.Javascript object>"
      ]
     },
     "metadata": {},
     "output_type": "display_data"
    },
    {
     "data": {
      "text/markdown": [
       "<span style=\"color:#33cc33\">Correct</span>"
      ],
      "text/plain": [
       "Correct"
      ]
     },
     "metadata": {},
     "output_type": "display_data"
    }
   ],
   "source": [
    "# Fill in the blanks below\n",
    "break_time_query = \"\"\"\n",
    "                   SELECT taxi_id,\n",
    "                       trip_start_timestamp,\n",
    "                       trip_end_timestamp,\n",
    "                       TIMESTAMP_DIFF(\n",
    "                           trip_start_timestamp, \n",
    "                           LAG(trip_end_timestamp, 1) \n",
    "                               OVER (\n",
    "                                    PARTITION BY taxi_id \n",
    "                                    ORDER BY trip_start_timestamp), \n",
    "                           MINUTE) as prev_break\n",
    "                   FROM `bigquery-public-data.chicago_taxi_trips.taxi_trips`\n",
    "                   WHERE DATE(trip_start_timestamp) = '2017-05-01' \n",
    "                   \"\"\"\n",
    "\n",
    "# Check your answer\n",
    "q_3.check()"
   ]
  },
  {
   "cell_type": "code",
   "execution_count": 8,
   "id": "49dcafcf",
   "metadata": {
    "execution": {
     "iopub.execute_input": "2022-12-14T09:02:32.374801Z",
     "iopub.status.busy": "2022-12-14T09:02:32.374370Z",
     "iopub.status.idle": "2022-12-14T09:02:32.388465Z",
     "shell.execute_reply": "2022-12-14T09:02:32.387387Z"
    },
    "papermill": {
     "duration": 0.025559,
     "end_time": "2022-12-14T09:02:32.391084",
     "exception": false,
     "start_time": "2022-12-14T09:02:32.365525",
     "status": "completed"
    },
    "tags": []
   },
   "outputs": [
    {
     "data": {
      "application/javascript": [
       "parent.postMessage({\"jupyterEvent\": \"custom.exercise_interaction\", \"data\": {\"interactionType\": 2, \"questionType\": 2, \"questionId\": \"3_BreakTime\", \"learnToolsVersion\": \"0.3.4\", \"valueTowardsCompletion\": 0.0, \"failureMessage\": \"\", \"exceptionClass\": \"\", \"trace\": \"\", \"outcomeType\": 4}}, \"*\")"
      ],
      "text/plain": [
       "<IPython.core.display.Javascript object>"
      ]
     },
     "metadata": {},
     "output_type": "display_data"
    },
    {
     "data": {
      "text/markdown": [
       "<span style=\"color:#3366cc\">Hint:</span> The `TIMESTAMP_DIFF()` function takes three arguments, where the first (`trip_start_timestamp`) and the last (`MINUTE`) are provided for you.  This function provides the time difference (in minutes) of the timestamps in the first two arguments. You need only fill in the second argument, which should use the **LAG()** function to pull the timestamp corresponding to the end of the previous trip (for the same `taxi_id`)."
      ],
      "text/plain": [
       "Hint: The `TIMESTAMP_DIFF()` function takes three arguments, where the first (`trip_start_timestamp`) and the last (`MINUTE`) are provided for you.  This function provides the time difference (in minutes) of the timestamps in the first two arguments. You need only fill in the second argument, which should use the **LAG()** function to pull the timestamp corresponding to the end of the previous trip (for the same `taxi_id`)."
      ]
     },
     "metadata": {},
     "output_type": "display_data"
    },
    {
     "data": {
      "application/javascript": [
       "parent.postMessage({\"jupyterEvent\": \"custom.exercise_interaction\", \"data\": {\"interactionType\": 3, \"questionType\": 2, \"questionId\": \"3_BreakTime\", \"learnToolsVersion\": \"0.3.4\", \"valueTowardsCompletion\": 0.0, \"failureMessage\": \"\", \"exceptionClass\": \"\", \"trace\": \"\", \"outcomeType\": 4}}, \"*\")"
      ],
      "text/plain": [
       "<IPython.core.display.Javascript object>"
      ]
     },
     "metadata": {},
     "output_type": "display_data"
    },
    {
     "data": {
      "text/markdown": [
       "<span style=\"color:#33cc99\">Solution:</span> \n",
       "```python\n",
       "\n",
       "break_time_query = \"\"\"\n",
       "                   SELECT taxi_id,\n",
       "                       trip_start_timestamp,\n",
       "                       trip_end_timestamp,\n",
       "                       TIMESTAMP_DIFF(\n",
       "                           trip_start_timestamp, \n",
       "                           LAG(trip_end_timestamp, 1) OVER (PARTITION BY taxi_id ORDER BY trip_start_timestamp), \n",
       "                           MINUTE) as prev_break\n",
       "                   FROM `bigquery-public-data.chicago_taxi_trips.taxi_trips`\n",
       "                   WHERE DATE(trip_start_timestamp) = '2017-05-01' \n",
       "                   \"\"\"\n",
       "\n",
       "break_time_result = client.query(break_time_query).result().to_dataframe()\n",
       "\n",
       "```"
      ],
      "text/plain": [
       "Solution: \n",
       "```python\n",
       "\n",
       "break_time_query = \"\"\"\n",
       "                   SELECT taxi_id,\n",
       "                       trip_start_timestamp,\n",
       "                       trip_end_timestamp,\n",
       "                       TIMESTAMP_DIFF(\n",
       "                           trip_start_timestamp, \n",
       "                           LAG(trip_end_timestamp, 1) OVER (PARTITION BY taxi_id ORDER BY trip_start_timestamp), \n",
       "                           MINUTE) as prev_break\n",
       "                   FROM `bigquery-public-data.chicago_taxi_trips.taxi_trips`\n",
       "                   WHERE DATE(trip_start_timestamp) = '2017-05-01' \n",
       "                   \"\"\"\n",
       "\n",
       "break_time_result = client.query(break_time_query).result().to_dataframe()\n",
       "\n",
       "```"
      ]
     },
     "metadata": {},
     "output_type": "display_data"
    }
   ],
   "source": [
    "# Lines below will give you a hint or solution code\n",
    "q_3.hint()\n",
    "q_3.solution()"
   ]
  },
  {
   "cell_type": "markdown",
   "id": "df1c0621",
   "metadata": {
    "papermill": {
     "duration": 0.008415,
     "end_time": "2022-12-14T09:02:32.408247",
     "exception": false,
     "start_time": "2022-12-14T09:02:32.399832",
     "status": "completed"
    },
    "tags": []
   },
   "source": [
    "# Keep going\n",
    "\n",
    "Move on to learn how to query **[nested and repeated data](https://www.kaggle.com/alexisbcook/nested-and-repeated-data)**."
   ]
  },
  {
   "cell_type": "markdown",
   "id": "35d2533c",
   "metadata": {
    "papermill": {
     "duration": 0.007964,
     "end_time": "2022-12-14T09:02:32.424635",
     "exception": false,
     "start_time": "2022-12-14T09:02:32.416671",
     "status": "completed"
    },
    "tags": []
   },
   "source": [
    "---\n",
    "\n",
    "\n",
    "\n",
    "\n",
    "*Have questions or comments? Visit the [course discussion forum](https://www.kaggle.com/learn/advanced-sql/discussion) to chat with other learners.*"
   ]
  }
 ],
 "metadata": {
  "kernelspec": {
   "display_name": "Python 3",
   "language": "python",
   "name": "python3"
  },
  "language_info": {
   "codemirror_mode": {
    "name": "ipython",
    "version": 3
   },
   "file_extension": ".py",
   "mimetype": "text/x-python",
   "name": "python",
   "nbconvert_exporter": "python",
   "pygments_lexer": "ipython3",
   "version": "3.7.12"
  },
  "papermill": {
   "default_parameters": {},
   "duration": 48.273144,
   "end_time": "2022-12-14T09:02:33.054890",
   "environment_variables": {},
   "exception": null,
   "input_path": "__notebook__.ipynb",
   "output_path": "__notebook__.ipynb",
   "parameters": {},
   "start_time": "2022-12-14T09:01:44.781746",
   "version": "2.3.4"
  }
 },
 "nbformat": 4,
 "nbformat_minor": 5
}

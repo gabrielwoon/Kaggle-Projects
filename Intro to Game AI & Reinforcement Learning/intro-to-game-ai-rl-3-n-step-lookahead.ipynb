{
 "cells": [
  {
   "cell_type": "markdown",
   "id": "2a86087f",
   "metadata": {
    "papermill": {
     "duration": 0.00507,
     "end_time": "2022-12-13T10:32:34.900157",
     "exception": false,
     "start_time": "2022-12-13T10:32:34.895087",
     "status": "completed"
    },
    "tags": []
   },
   "source": [
    "**This notebook is an exercise in the [Intro to Game AI and Reinforcement Learning](https://www.kaggle.com/learn/intro-to-game-ai-and-reinforcement-learning) course.  You can reference the tutorial at [this link](https://www.kaggle.com/alexisbcook/n-step-lookahead).**\n",
    "\n",
    "---\n"
   ]
  },
  {
   "cell_type": "markdown",
   "id": "68108278",
   "metadata": {
    "papermill": {
     "duration": 0.004087,
     "end_time": "2022-12-13T10:32:34.908659",
     "exception": false,
     "start_time": "2022-12-13T10:32:34.904572",
     "status": "completed"
    },
    "tags": []
   },
   "source": [
    "# Introduction\n",
    "\n",
    "In the tutorial, you learned how to build a reasonably intelligent agent with the minimax algorithm.  In this exercise, you will check your understanding and submit your own agent to the competition."
   ]
  },
  {
   "cell_type": "code",
   "execution_count": 1,
   "id": "99cb1937",
   "metadata": {
    "execution": {
     "iopub.execute_input": "2022-12-13T10:32:34.919226Z",
     "iopub.status.busy": "2022-12-13T10:32:34.918850Z",
     "iopub.status.idle": "2022-12-13T10:32:34.971158Z",
     "shell.execute_reply": "2022-12-13T10:32:34.970198Z"
    },
    "papermill": {
     "duration": 0.060501,
     "end_time": "2022-12-13T10:32:34.973586",
     "exception": false,
     "start_time": "2022-12-13T10:32:34.913085",
     "status": "completed"
    },
    "tags": []
   },
   "outputs": [],
   "source": [
    "from learntools.core import binder\n",
    "binder.bind(globals())\n",
    "from learntools.game_ai.ex3 import *"
   ]
  },
  {
   "cell_type": "markdown",
   "id": "d6e33d91",
   "metadata": {
    "papermill": {
     "duration": 0.004088,
     "end_time": "2022-12-13T10:32:34.982230",
     "exception": false,
     "start_time": "2022-12-13T10:32:34.978142",
     "status": "completed"
    },
    "tags": []
   },
   "source": [
    "### 1) A closer look\n",
    "\n",
    "The heuristic from the tutorial looks at all groups of four adjacent grid locations on the same row, column, or diagonal and assigns points for each occurrence of the following patterns:\n",
    "\n",
    "<center>\n",
    "<img src=\"https://i.imgur.com/3NvBEGL.png\" width=70%><br/>\n",
    "</center>\n",
    "\n",
    "Is it really necessary to use so many numbers to define the heuristic?  Consider simplifying it, as in the image below.\n",
    "\n",
    "<center>\n",
    "<img src=\"https://i.imgur.com/grViegG.png\" width=70%><br/>\n",
    "</center>\n",
    "\n",
    "How would each heuristic score the potential moves in the example below (where, in this case, the agent looks only one step ahead)?  Which heuristic would lead to the agent selecting the better move?\n",
    "\n",
    "<center>\n",
    "<img src=\"https://i.imgur.com/LWPLy7N.png\" width=100%><br/>\n",
    "</center>"
   ]
  },
  {
   "cell_type": "code",
   "execution_count": 2,
   "id": "3942b2b0",
   "metadata": {
    "execution": {
     "iopub.execute_input": "2022-12-13T10:32:34.992320Z",
     "iopub.status.busy": "2022-12-13T10:32:34.991863Z",
     "iopub.status.idle": "2022-12-13T10:32:35.001728Z",
     "shell.execute_reply": "2022-12-13T10:32:35.000714Z"
    },
    "papermill": {
     "duration": 0.017256,
     "end_time": "2022-12-13T10:32:35.003518",
     "exception": false,
     "start_time": "2022-12-13T10:32:34.986262",
     "status": "completed"
    },
    "tags": []
   },
   "outputs": [
    {
     "data": {
      "application/javascript": [
       "parent.postMessage({\"jupyterEvent\": \"custom.exercise_interaction\", \"data\": {\"interactionType\": 2, \"questionType\": 4, \"questionId\": \"1_WorseHeuristic\", \"learnToolsVersion\": \"0.3.4\", \"valueTowardsCompletion\": 0.0, \"failureMessage\": \"\", \"exceptionClass\": \"\", \"trace\": \"\", \"outcomeType\": 4}}, \"*\")"
      ],
      "text/plain": [
       "<IPython.core.display.Javascript object>"
      ]
     },
     "metadata": {},
     "output_type": "display_data"
    },
    {
     "data": {
      "text/markdown": [
       "<span style=\"color:#3366cc\">Hint:</span> The first heuristic assigns a score of 0 to column 2, and a score of -99 to column 3.  What scores do you get with the second heuristic?"
      ],
      "text/plain": [
       "Hint: The first heuristic assigns a score of 0 to column 2, and a score of -99 to column 3.  What scores do you get with the second heuristic?"
      ]
     },
     "metadata": {},
     "output_type": "display_data"
    }
   ],
   "source": [
    "q_1.hint()"
   ]
  },
  {
   "cell_type": "code",
   "execution_count": 3,
   "id": "eea857fb",
   "metadata": {
    "execution": {
     "iopub.execute_input": "2022-12-13T10:32:35.014091Z",
     "iopub.status.busy": "2022-12-13T10:32:35.013316Z",
     "iopub.status.idle": "2022-12-13T10:32:35.022175Z",
     "shell.execute_reply": "2022-12-13T10:32:35.020805Z"
    },
    "papermill": {
     "duration": 0.016592,
     "end_time": "2022-12-13T10:32:35.024674",
     "exception": false,
     "start_time": "2022-12-13T10:32:35.008082",
     "status": "completed"
    },
    "tags": []
   },
   "outputs": [
    {
     "data": {
      "application/javascript": [
       "parent.postMessage({\"jupyterEvent\": \"custom.exercise_interaction\", \"data\": {\"interactionType\": 3, \"questionType\": 4, \"questionId\": \"1_WorseHeuristic\", \"learnToolsVersion\": \"0.3.4\", \"valueTowardsCompletion\": 0.0, \"failureMessage\": \"\", \"exceptionClass\": \"\", \"trace\": \"\", \"outcomeType\": 4}}, \"*\")"
      ],
      "text/plain": [
       "<IPython.core.display.Javascript object>"
      ]
     },
     "metadata": {},
     "output_type": "display_data"
    },
    {
     "data": {
      "text/markdown": [
       "<span style=\"color:#33cc99\">Solution:</span> The first heuristic is guaranteed to select column 2 to block the opponent from winning.  The second heuristic selects either column 2 or column 3 (where it selects each with 50% probability). Thus, for this game board, the first heuristic is better. In general, we can expect that the first heuristic is a better heuristic, since we cannot trust the second heuristic to block the opponent from winning."
      ],
      "text/plain": [
       "Solution: The first heuristic is guaranteed to select column 2 to block the opponent from winning.  The second heuristic selects either column 2 or column 3 (where it selects each with 50% probability). Thus, for this game board, the first heuristic is better. In general, we can expect that the first heuristic is a better heuristic, since we cannot trust the second heuristic to block the opponent from winning."
      ]
     },
     "metadata": {},
     "output_type": "display_data"
    }
   ],
   "source": [
    "# Check your answer (Run this code cell to receive credit!)\n",
    "q_1.solution()"
   ]
  },
  {
   "cell_type": "markdown",
   "id": "c9f93420",
   "metadata": {
    "papermill": {
     "duration": 0.00458,
     "end_time": "2022-12-13T10:32:35.034094",
     "exception": false,
     "start_time": "2022-12-13T10:32:35.029514",
     "status": "completed"
    },
    "tags": []
   },
   "source": [
    "### 2) Count the leaves\n",
    "\n",
    "In the tutorial, we worked with a small game tree.\n",
    "\n",
    "<center>\n",
    "<img src=\"https://i.imgur.com/BrRe7Bu.png\" width=90%><br/>\n",
    "</center>\n",
    "\n",
    "The game tree above has 8 leaf nodes that appear at the bottom of the tree.  By definition, \"leaf nodes\" in a game tree are nodes that don't have nodes below them.\n",
    "\n",
    "In the ConnectX competition, the game trees will be much larger!  \n",
    "\n",
    "To see this, consider a minimax agent that is trying to plan its first move, where all columns in the game board are  empty.  Say the agent builds a game tree of depth 3.  How many leaf nodes are in the game tree?  \n",
    "\n",
    "Use your answer to fill in the blank below."
   ]
  },
  {
   "cell_type": "code",
   "execution_count": 4,
   "id": "ac5f894d",
   "metadata": {
    "execution": {
     "iopub.execute_input": "2022-12-13T10:32:35.045013Z",
     "iopub.status.busy": "2022-12-13T10:32:35.044713Z",
     "iopub.status.idle": "2022-12-13T10:32:35.053206Z",
     "shell.execute_reply": "2022-12-13T10:32:35.052288Z"
    },
    "papermill": {
     "duration": 0.016677,
     "end_time": "2022-12-13T10:32:35.055492",
     "exception": false,
     "start_time": "2022-12-13T10:32:35.038815",
     "status": "completed"
    },
    "tags": []
   },
   "outputs": [
    {
     "data": {
      "application/javascript": [
       "parent.postMessage({\"jupyterEvent\": \"custom.exercise_interaction\", \"data\": {\"outcomeType\": 1, \"valueTowardsCompletion\": 0.2, \"interactionType\": 1, \"questionType\": 1, \"questionId\": \"2_NumLeaves\", \"learnToolsVersion\": \"0.3.4\", \"failureMessage\": \"\", \"exceptionClass\": \"\", \"trace\": \"\"}}, \"*\")"
      ],
      "text/plain": [
       "<IPython.core.display.Javascript object>"
      ]
     },
     "metadata": {},
     "output_type": "display_data"
    },
    {
     "data": {
      "text/markdown": [
       "<span style=\"color:#33cc33\">Correct</span>"
      ],
      "text/plain": [
       "Correct"
      ]
     },
     "metadata": {},
     "output_type": "display_data"
    }
   ],
   "source": [
    "# Fill in the blank\n",
    "num_leaves = 7*7*7\n",
    "\n",
    "# Check your answer\n",
    "q_2.check()"
   ]
  },
  {
   "cell_type": "code",
   "execution_count": 5,
   "id": "8f2dc85c",
   "metadata": {
    "execution": {
     "iopub.execute_input": "2022-12-13T10:32:35.068948Z",
     "iopub.status.busy": "2022-12-13T10:32:35.068635Z",
     "iopub.status.idle": "2022-12-13T10:32:35.077942Z",
     "shell.execute_reply": "2022-12-13T10:32:35.076996Z"
    },
    "papermill": {
     "duration": 0.018297,
     "end_time": "2022-12-13T10:32:35.080442",
     "exception": false,
     "start_time": "2022-12-13T10:32:35.062145",
     "status": "completed"
    },
    "tags": []
   },
   "outputs": [
    {
     "data": {
      "application/javascript": [
       "parent.postMessage({\"jupyterEvent\": \"custom.exercise_interaction\", \"data\": {\"interactionType\": 2, \"questionType\": 1, \"questionId\": \"2_NumLeaves\", \"learnToolsVersion\": \"0.3.4\", \"valueTowardsCompletion\": 0.0, \"failureMessage\": \"\", \"exceptionClass\": \"\", \"trace\": \"\", \"outcomeType\": 4}}, \"*\")"
      ],
      "text/plain": [
       "<IPython.core.display.Javascript object>"
      ]
     },
     "metadata": {},
     "output_type": "display_data"
    },
    {
     "data": {
      "text/markdown": [
       "<span style=\"color:#3366cc\">Hint:</span> Try drawing the game tree.  How many moves (columns) are possible at each turn?"
      ],
      "text/plain": [
       "Hint: Try drawing the game tree.  How many moves (columns) are possible at each turn?"
      ]
     },
     "metadata": {},
     "output_type": "display_data"
    },
    {
     "data": {
      "application/javascript": [
       "parent.postMessage({\"jupyterEvent\": \"custom.exercise_interaction\", \"data\": {\"interactionType\": 3, \"questionType\": 1, \"questionId\": \"2_NumLeaves\", \"learnToolsVersion\": \"0.3.4\", \"valueTowardsCompletion\": 0.0, \"failureMessage\": \"\", \"exceptionClass\": \"\", \"trace\": \"\", \"outcomeType\": 4}}, \"*\")"
      ],
      "text/plain": [
       "<IPython.core.display.Javascript object>"
      ]
     },
     "metadata": {},
     "output_type": "display_data"
    },
    {
     "data": {
      "text/markdown": [
       "<span style=\"color:#33cc99\">Solution:</span> \n",
       "```python\n",
       "num_leaves = 7*7*7\n",
       "```"
      ],
      "text/plain": [
       "Solution: \n",
       "```python\n",
       "num_leaves = 7*7*7\n",
       "```"
      ]
     },
     "metadata": {},
     "output_type": "display_data"
    }
   ],
   "source": [
    "# Lines below will give you a hint or solution code\n",
    "q_2.hint()\n",
    "q_2.solution()"
   ]
  },
  {
   "cell_type": "markdown",
   "id": "5261d5cf",
   "metadata": {
    "papermill": {
     "duration": 0.005052,
     "end_time": "2022-12-13T10:32:35.091354",
     "exception": false,
     "start_time": "2022-12-13T10:32:35.086302",
     "status": "completed"
    },
    "tags": []
   },
   "source": [
    "### 3) Which move will the agent select?\n",
    "\n",
    "In this question, you'll check your understanding of the minimax algorithm.  Remember that with this algorithm, \n",
    "> The agent chooses moves to get a score that is as high as possible, and it assumes the opponent will counteract this by choosing moves to force the score to be as low as possible.\n",
    "\n",
    "Consider the toy example below of a game tree that the agent will use to select its next move.  \n",
    "<center>\n",
    "<img src=\"https://i.imgur.com/QlfWGM9.png\" width=80%><br/>\n",
    "</center>\n",
    "\n",
    "Which move will the agent select?  Use your answer to set the value of the `selected_move` variable below.  Your answer should be one of `1`, `2`, or `3`."
   ]
  },
  {
   "cell_type": "code",
   "execution_count": 6,
   "id": "2fe30e38",
   "metadata": {
    "execution": {
     "iopub.execute_input": "2022-12-13T10:32:35.102755Z",
     "iopub.status.busy": "2022-12-13T10:32:35.102432Z",
     "iopub.status.idle": "2022-12-13T10:32:35.108869Z",
     "shell.execute_reply": "2022-12-13T10:32:35.108078Z"
    },
    "papermill": {
     "duration": 0.014548,
     "end_time": "2022-12-13T10:32:35.110812",
     "exception": false,
     "start_time": "2022-12-13T10:32:35.096264",
     "status": "completed"
    },
    "tags": []
   },
   "outputs": [
    {
     "data": {
      "application/javascript": [
       "parent.postMessage({\"jupyterEvent\": \"custom.exercise_interaction\", \"data\": {\"outcomeType\": 1, \"valueTowardsCompletion\": 0.2, \"interactionType\": 1, \"questionType\": 2, \"questionId\": \"3_WhichMove\", \"learnToolsVersion\": \"0.3.4\", \"failureMessage\": \"\", \"exceptionClass\": \"\", \"trace\": \"\"}}, \"*\")"
      ],
      "text/plain": [
       "<IPython.core.display.Javascript object>"
      ]
     },
     "metadata": {},
     "output_type": "display_data"
    },
    {
     "data": {
      "text/markdown": [
       "<span style=\"color:#33cc33\">Correct</span>"
      ],
      "text/plain": [
       "Correct"
      ]
     },
     "metadata": {},
     "output_type": "display_data"
    }
   ],
   "source": [
    "# Fill in the blank\n",
    "selected_move = 3\n",
    "\n",
    "# Check your answer\n",
    "q_3.check()"
   ]
  },
  {
   "cell_type": "code",
   "execution_count": 7,
   "id": "9f6f1f08",
   "metadata": {
    "execution": {
     "iopub.execute_input": "2022-12-13T10:32:35.123328Z",
     "iopub.status.busy": "2022-12-13T10:32:35.123011Z",
     "iopub.status.idle": "2022-12-13T10:32:35.132714Z",
     "shell.execute_reply": "2022-12-13T10:32:35.131839Z"
    },
    "papermill": {
     "duration": 0.018363,
     "end_time": "2022-12-13T10:32:35.134844",
     "exception": false,
     "start_time": "2022-12-13T10:32:35.116481",
     "status": "completed"
    },
    "tags": []
   },
   "outputs": [
    {
     "data": {
      "application/javascript": [
       "parent.postMessage({\"jupyterEvent\": \"custom.exercise_interaction\", \"data\": {\"interactionType\": 2, \"questionType\": 2, \"questionId\": \"3_WhichMove\", \"learnToolsVersion\": \"0.3.4\", \"valueTowardsCompletion\": 0.0, \"failureMessage\": \"\", \"exceptionClass\": \"\", \"trace\": \"\", \"outcomeType\": 4}}, \"*\")"
      ],
      "text/plain": [
       "<IPython.core.display.Javascript object>"
      ]
     },
     "metadata": {},
     "output_type": "display_data"
    },
    {
     "data": {
      "text/markdown": [
       "<span style=\"color:#3366cc\">Hint:</span> For each potential move, how will the opponent respond?"
      ],
      "text/plain": [
       "Hint: For each potential move, how will the opponent respond?"
      ]
     },
     "metadata": {},
     "output_type": "display_data"
    },
    {
     "data": {
      "application/javascript": [
       "parent.postMessage({\"jupyterEvent\": \"custom.exercise_interaction\", \"data\": {\"interactionType\": 3, \"questionType\": 2, \"questionId\": \"3_WhichMove\", \"learnToolsVersion\": \"0.3.4\", \"valueTowardsCompletion\": 0.0, \"failureMessage\": \"\", \"exceptionClass\": \"\", \"trace\": \"\", \"outcomeType\": 4}}, \"*\")"
      ],
      "text/plain": [
       "<IPython.core.display.Javascript object>"
      ]
     },
     "metadata": {},
     "output_type": "display_data"
    },
    {
     "data": {
      "text/markdown": [
       "<span style=\"color:#33cc99\">Solution:</span> \n",
       "```python\n",
       "selected_move = 3\n",
       "```"
      ],
      "text/plain": [
       "Solution: \n",
       "```python\n",
       "selected_move = 3\n",
       "```"
      ]
     },
     "metadata": {},
     "output_type": "display_data"
    }
   ],
   "source": [
    "# Lines below will give you a hint or solution code\n",
    "q_3.hint()\n",
    "q_3.solution()"
   ]
  },
  {
   "cell_type": "markdown",
   "id": "b2e3f8c0",
   "metadata": {
    "papermill": {
     "duration": 0.00548,
     "end_time": "2022-12-13T10:32:35.146235",
     "exception": false,
     "start_time": "2022-12-13T10:32:35.140755",
     "status": "completed"
    },
    "tags": []
   },
   "source": [
    "### 4) Examine the assumptions\n",
    "\n",
    "The minimax agent assumes that its opponent plays optimally (with respect to the heuristic, and using a game tree of limited depth).  But this is almost never the case, in practice: it's far more likely for the agent to encounter a suboptimal (that is: worse than optimal) opponent.  \n",
    "\n",
    "Say the minimax agent encounters a suboptimal opponent. Should we expect the minimax agent to still play the game well, despite the contradiction with its assumptions?  If so, why?"
   ]
  },
  {
   "cell_type": "code",
   "execution_count": 8,
   "id": "c461d8c2",
   "metadata": {
    "execution": {
     "iopub.execute_input": "2022-12-13T10:32:35.159293Z",
     "iopub.status.busy": "2022-12-13T10:32:35.158993Z",
     "iopub.status.idle": "2022-12-13T10:32:35.165953Z",
     "shell.execute_reply": "2022-12-13T10:32:35.164958Z"
    },
    "papermill": {
     "duration": 0.015556,
     "end_time": "2022-12-13T10:32:35.167696",
     "exception": false,
     "start_time": "2022-12-13T10:32:35.152140",
     "status": "completed"
    },
    "tags": []
   },
   "outputs": [
    {
     "data": {
      "application/javascript": [
       "parent.postMessage({\"jupyterEvent\": \"custom.exercise_interaction\", \"data\": {\"interactionType\": 2, \"questionType\": 4, \"questionId\": \"4_Assumptions\", \"learnToolsVersion\": \"0.3.4\", \"valueTowardsCompletion\": 0.0, \"failureMessage\": \"\", \"exceptionClass\": \"\", \"trace\": \"\", \"outcomeType\": 4}}, \"*\")"
      ],
      "text/plain": [
       "<IPython.core.display.Javascript object>"
      ]
     },
     "metadata": {},
     "output_type": "display_data"
    },
    {
     "data": {
      "text/markdown": [
       "<span style=\"color:#3366cc\">Hint:</span> What happened in the tutorial when the minimax agent played against a random opponent?"
      ],
      "text/plain": [
       "Hint: What happened in the tutorial when the minimax agent played against a random opponent?"
      ]
     },
     "metadata": {},
     "output_type": "display_data"
    }
   ],
   "source": [
    "q_4.hint()"
   ]
  },
  {
   "cell_type": "code",
   "execution_count": 9,
   "id": "6c72f8f4",
   "metadata": {
    "execution": {
     "iopub.execute_input": "2022-12-13T10:32:35.181530Z",
     "iopub.status.busy": "2022-12-13T10:32:35.180429Z",
     "iopub.status.idle": "2022-12-13T10:32:35.191026Z",
     "shell.execute_reply": "2022-12-13T10:32:35.189452Z"
    },
    "papermill": {
     "duration": 0.019705,
     "end_time": "2022-12-13T10:32:35.193302",
     "exception": false,
     "start_time": "2022-12-13T10:32:35.173597",
     "status": "completed"
    },
    "tags": []
   },
   "outputs": [
    {
     "data": {
      "application/javascript": [
       "parent.postMessage({\"jupyterEvent\": \"custom.exercise_interaction\", \"data\": {\"interactionType\": 3, \"questionType\": 4, \"questionId\": \"4_Assumptions\", \"learnToolsVersion\": \"0.3.4\", \"valueTowardsCompletion\": 0.0, \"failureMessage\": \"\", \"exceptionClass\": \"\", \"trace\": \"\", \"outcomeType\": 4}}, \"*\")"
      ],
      "text/plain": [
       "<IPython.core.display.Javascript object>"
      ]
     },
     "metadata": {},
     "output_type": "display_data"
    },
    {
     "data": {
      "text/markdown": [
       "<span style=\"color:#33cc99\">Solution:</span> We can still expect the minimax agent to perform well. On a high level, assuming an optimal opponent simply overestimates the opponent, but does not break the algorithm.  The effect of overestimating the opponent is merely that the minimax agent will take longer to win, than if it had a more accurate understanding of its opponent.  For instance, the minimax agent is highly unlikely to select the same column three times in its first three moves (since it assumes an optimal opponent that will certainly block the winning play in the next move), but this is not a bad initial strategy for playing against an agent that selects columns completely at random."
      ],
      "text/plain": [
       "Solution: We can still expect the minimax agent to perform well. On a high level, assuming an optimal opponent simply overestimates the opponent, but does not break the algorithm.  The effect of overestimating the opponent is merely that the minimax agent will take longer to win, than if it had a more accurate understanding of its opponent.  For instance, the minimax agent is highly unlikely to select the same column three times in its first three moves (since it assumes an optimal opponent that will certainly block the winning play in the next move), but this is not a bad initial strategy for playing against an agent that selects columns completely at random."
      ]
     },
     "metadata": {},
     "output_type": "display_data"
    }
   ],
   "source": [
    "# Check your answer (Run this code cell to receive credit!)\n",
    "q_4.solution()"
   ]
  },
  {
   "cell_type": "markdown",
   "id": "6f7116ab",
   "metadata": {
    "papermill": {
     "duration": 0.005846,
     "end_time": "2022-12-13T10:32:35.205532",
     "exception": false,
     "start_time": "2022-12-13T10:32:35.199686",
     "status": "completed"
    },
    "tags": []
   },
   "source": [
    "### 5) Submit to the competition\n",
    "\n",
    "Now, it's time to submit an agent to the competition!  Use the next code cell to define an agent.  (You can see an example of how to write a valid agent in **[this notebook](https://www.kaggle.com/alexisbcook/create-a-connectx-agent)**.)\n",
    "\n",
    "If you decide to use the minimax code from the tutorial, you might like to add [**alpha-beta pruning**](https://en.wikipedia.org/wiki/Alpha%E2%80%93beta_pruning) to decrease the computation time (i.e., get the minimax algorithm to run much faster!).  In this case, \"alpha\" and \"beta\" to refer to two values that are maintained while the algorithm is running, that help to identify early stopping conditions.  \n",
    "\n",
    "Without alpha-beta pruning, minimax evaluates each leaf node.  With alpha-beta pruning, minimax only evaluates nodes that could provide information that affects the agent's choice of action.  Put another way, it identifies nodes that could not possibly affect the final result and avoids evaluating them."
   ]
  },
  {
   "cell_type": "code",
   "execution_count": 10,
   "id": "8861564b",
   "metadata": {
    "execution": {
     "iopub.execute_input": "2022-12-13T10:32:35.219574Z",
     "iopub.status.busy": "2022-12-13T10:32:35.219254Z",
     "iopub.status.idle": "2022-12-13T10:32:35.226477Z",
     "shell.execute_reply": "2022-12-13T10:32:35.225597Z"
    },
    "papermill": {
     "duration": 0.016208,
     "end_time": "2022-12-13T10:32:35.228112",
     "exception": false,
     "start_time": "2022-12-13T10:32:35.211904",
     "status": "completed"
    },
    "tags": []
   },
   "outputs": [],
   "source": [
    "def my_agent(obs, config):\n",
    "    # Your code here: Amend the agent!\n",
    "    import random\n",
    "    valid_moves = [col for col in range(config.columns) if obs.board[col] == 0]\n",
    "    for col in valid_moves:\n",
    "        if check_winning_move(obs, config, col, obs.mark):\n",
    "            return col\n",
    "    for col in valid_moves:\n",
    "        if check_winning_move(obs, config, col, obs.mark%2+1):\n",
    "            return col\n",
    "    return random.choice(valid_moves)"
   ]
  },
  {
   "cell_type": "code",
   "execution_count": 11,
   "id": "f48421b4",
   "metadata": {
    "execution": {
     "iopub.execute_input": "2022-12-13T10:32:35.243397Z",
     "iopub.status.busy": "2022-12-13T10:32:35.243124Z",
     "iopub.status.idle": "2022-12-13T10:32:35.249354Z",
     "shell.execute_reply": "2022-12-13T10:32:35.248589Z"
    },
    "papermill": {
     "duration": 0.016242,
     "end_time": "2022-12-13T10:32:35.251702",
     "exception": false,
     "start_time": "2022-12-13T10:32:35.235460",
     "status": "completed"
    },
    "tags": []
   },
   "outputs": [
    {
     "data": {
      "application/javascript": [
       "parent.postMessage({\"jupyterEvent\": \"custom.exercise_interaction\", \"data\": {\"outcomeType\": 1, \"valueTowardsCompletion\": 0.2, \"interactionType\": 1, \"questionType\": 2, \"questionId\": \"5_JustSubmitEx3\", \"learnToolsVersion\": \"0.3.4\", \"failureMessage\": \"\", \"exceptionClass\": \"\", \"trace\": \"\"}}, \"*\")"
      ],
      "text/plain": [
       "<IPython.core.display.Javascript object>"
      ]
     },
     "metadata": {},
     "output_type": "display_data"
    },
    {
     "data": {
      "text/markdown": [
       "<span style=\"color:#33cc33\">Thank you for creating an agent!</span>"
      ],
      "text/plain": [
       "Thank you for creating an agent!"
      ]
     },
     "metadata": {},
     "output_type": "display_data"
    }
   ],
   "source": [
    "# Run this code cell to get credit for creating an agent\n",
    "q_5.check()"
   ]
  },
  {
   "cell_type": "code",
   "execution_count": 12,
   "id": "6edf7f24",
   "metadata": {
    "execution": {
     "iopub.execute_input": "2022-12-13T10:32:35.267011Z",
     "iopub.status.busy": "2022-12-13T10:32:35.266458Z",
     "iopub.status.idle": "2022-12-13T10:32:35.274716Z",
     "shell.execute_reply": "2022-12-13T10:32:35.272593Z"
    },
    "papermill": {
     "duration": 0.019623,
     "end_time": "2022-12-13T10:32:35.277791",
     "exception": false,
     "start_time": "2022-12-13T10:32:35.258168",
     "status": "completed"
    },
    "tags": []
   },
   "outputs": [
    {
     "name": "stdout",
     "output_type": "stream",
     "text": [
      "<function my_agent at 0x7fcd8061d050> written to submission.py\n"
     ]
    }
   ],
   "source": [
    "import inspect\n",
    "import os\n",
    "\n",
    "def write_agent_to_file(function, file):\n",
    "    with open(file, \"a\" if os.path.exists(file) else \"w\") as f:\n",
    "        f.write(inspect.getsource(function))\n",
    "        print(function, \"written to\", file)\n",
    "\n",
    "write_agent_to_file(my_agent, \"submission.py\")"
   ]
  },
  {
   "cell_type": "markdown",
   "id": "1ee46789",
   "metadata": {
    "papermill": {
     "duration": 0.006701,
     "end_time": "2022-12-13T10:32:35.291456",
     "exception": false,
     "start_time": "2022-12-13T10:32:35.284755",
     "status": "completed"
    },
    "tags": []
   },
   "source": [
    "Then, follow these steps to submit your agent to the competition:\n",
    "1. Begin by clicking on the **Save Version** button in the top right corner of the window.  This will generate a pop-up window.  \n",
    "2. Ensure that the **Save and Run All** option is selected, and then click on the **Save** button.\n",
    "3. This generates a window in the bottom left corner of the notebook.  After it has finished running, click on the number to the right of the **Save Version** button.  This pulls up a list of versions on the right of the screen.  Click on the ellipsis **(...)** to the right of the most recent version, and select **Open in Viewer**.  This brings you into view mode of the same page. You will need to scroll down to get back to these instructions.\n",
    "4. Click on the **Output** tab on the right of the screen.  Then, click on the file you would like to submit, and click on the **Submit** button to submit your results to the leaderboard.\n",
    "\n",
    "You have now successfully submitted to the competition!\n",
    "\n",
    "If you want to keep working to improve your performance, select the **Edit** button in the top right of the screen. Then you can change your code and repeat the process. There's a lot of room to improve, and you will climb up the leaderboard as you work.\n",
    "\n",
    "\n",
    "Go to **\"My Submissions\"** to view your score and episodes being played.\n",
    "\n",
    "# Keep going\n",
    "\n",
    "Move on to learn how to **[use deep reinforcement learning](https://www.kaggle.com/alexisbcook/deep-reinforcement-learning)** to develop an agent without a heuristic!"
   ]
  },
  {
   "cell_type": "markdown",
   "id": "d089c1ee",
   "metadata": {
    "papermill": {
     "duration": 0.006179,
     "end_time": "2022-12-13T10:32:35.304361",
     "exception": false,
     "start_time": "2022-12-13T10:32:35.298182",
     "status": "completed"
    },
    "tags": []
   },
   "source": [
    "---\n",
    "\n",
    "\n",
    "\n",
    "\n",
    "*Have questions or comments? Visit the [course discussion forum](https://www.kaggle.com/learn/intro-to-game-ai-and-reinforcement-learning/discussion) to chat with other learners.*"
   ]
  }
 ],
 "metadata": {
  "kernelspec": {
   "display_name": "Python 3",
   "language": "python",
   "name": "python3"
  },
  "language_info": {
   "codemirror_mode": {
    "name": "ipython",
    "version": 3
   },
   "file_extension": ".py",
   "mimetype": "text/x-python",
   "name": "python",
   "nbconvert_exporter": "python",
   "pygments_lexer": "ipython3",
   "version": "3.7.12"
  },
  "papermill": {
   "default_parameters": {},
   "duration": 8.182922,
   "end_time": "2022-12-13T10:32:35.930359",
   "environment_variables": {},
   "exception": null,
   "input_path": "__notebook__.ipynb",
   "output_path": "__notebook__.ipynb",
   "parameters": {},
   "start_time": "2022-12-13T10:32:27.747437",
   "version": "2.3.4"
  }
 },
 "nbformat": 4,
 "nbformat_minor": 5
}

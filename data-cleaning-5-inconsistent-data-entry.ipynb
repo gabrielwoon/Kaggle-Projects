{
 "cells": [
  {
   "cell_type": "markdown",
   "id": "2b01ca5d",
   "metadata": {
    "papermill": {
     "duration": 0.0065,
     "end_time": "2022-12-01T15:09:17.984209",
     "exception": false,
     "start_time": "2022-12-01T15:09:17.977709",
     "status": "completed"
    },
    "tags": []
   },
   "source": [
    "**This notebook is an exercise in the [Data Cleaning](https://www.kaggle.com/learn/data-cleaning) course.  You can reference the tutorial at [this link](https://www.kaggle.com/alexisbcook/inconsistent-data-entry).**\n",
    "\n",
    "---\n"
   ]
  },
  {
   "cell_type": "markdown",
   "id": "2f3cc0ad",
   "metadata": {
    "papermill": {
     "duration": 0.005,
     "end_time": "2022-12-01T15:09:17.994758",
     "exception": false,
     "start_time": "2022-12-01T15:09:17.989758",
     "status": "completed"
    },
    "tags": []
   },
   "source": [
    "In this exercise, you'll apply what you learned in the **Inconsistent data entry** tutorial.\n",
    "\n",
    "# Setup\n",
    "\n",
    "The questions below will give you feedback on your work. Run the following cell to set up the feedback system."
   ]
  },
  {
   "cell_type": "code",
   "execution_count": 1,
   "id": "dd8053e5",
   "metadata": {
    "execution": {
     "iopub.execute_input": "2022-12-01T15:09:18.008011Z",
     "iopub.status.busy": "2022-12-01T15:09:18.007418Z",
     "iopub.status.idle": "2022-12-01T15:09:18.232409Z",
     "shell.execute_reply": "2022-12-01T15:09:18.231229Z"
    },
    "papermill": {
     "duration": 0.235768,
     "end_time": "2022-12-01T15:09:18.235914",
     "exception": false,
     "start_time": "2022-12-01T15:09:18.000146",
     "status": "completed"
    },
    "tags": []
   },
   "outputs": [
    {
     "name": "stdout",
     "output_type": "stream",
     "text": [
      "Setup Complete\n"
     ]
    }
   ],
   "source": [
    "from learntools.core import binder\n",
    "binder.bind(globals())\n",
    "from learntools.data_cleaning.ex5 import *\n",
    "print(\"Setup Complete\")"
   ]
  },
  {
   "cell_type": "markdown",
   "id": "9f3bea16",
   "metadata": {
    "papermill": {
     "duration": 0.005663,
     "end_time": "2022-12-01T15:09:18.247242",
     "exception": false,
     "start_time": "2022-12-01T15:09:18.241579",
     "status": "completed"
    },
    "tags": []
   },
   "source": [
    "# Get our environment set up\n",
    "\n",
    "The first thing we'll need to do is load in the libraries and dataset we'll be using.  We use the same dataset from the tutorial."
   ]
  },
  {
   "cell_type": "code",
   "execution_count": 2,
   "id": "2e3a34c9",
   "metadata": {
    "execution": {
     "iopub.execute_input": "2022-12-01T15:09:18.261535Z",
     "iopub.status.busy": "2022-12-01T15:09:18.261018Z",
     "iopub.status.idle": "2022-12-01T15:09:18.281485Z",
     "shell.execute_reply": "2022-12-01T15:09:18.279996Z"
    },
    "papermill": {
     "duration": 0.031302,
     "end_time": "2022-12-01T15:09:18.284523",
     "exception": false,
     "start_time": "2022-12-01T15:09:18.253221",
     "status": "completed"
    },
    "tags": []
   },
   "outputs": [],
   "source": [
    "# modules we'll use\n",
    "import pandas as pd\n",
    "import numpy as np\n",
    "\n",
    "# helpful modules\n",
    "import fuzzywuzzy\n",
    "from fuzzywuzzy import process\n",
    "import chardet\n",
    "\n",
    "# read in all our data\n",
    "professors = pd.read_csv(\"../input/pakistan-intellectual-capital/pakistan_intellectual_capital.csv\")\n",
    "\n",
    "# set seed for reproducibility\n",
    "np.random.seed(0)"
   ]
  },
  {
   "cell_type": "markdown",
   "id": "1897a0ff",
   "metadata": {
    "papermill": {
     "duration": 0.005114,
     "end_time": "2022-12-01T15:09:18.295156",
     "exception": false,
     "start_time": "2022-12-01T15:09:18.290042",
     "status": "completed"
    },
    "tags": []
   },
   "source": [
    "Next, we'll redo all of the work that we did in the tutorial."
   ]
  },
  {
   "cell_type": "code",
   "execution_count": 3,
   "id": "eacffa6c",
   "metadata": {
    "execution": {
     "iopub.execute_input": "2022-12-01T15:09:18.308567Z",
     "iopub.status.busy": "2022-12-01T15:09:18.308026Z",
     "iopub.status.idle": "2022-12-01T15:09:18.327010Z",
     "shell.execute_reply": "2022-12-01T15:09:18.325944Z"
    },
    "papermill": {
     "duration": 0.029602,
     "end_time": "2022-12-01T15:09:18.330096",
     "exception": false,
     "start_time": "2022-12-01T15:09:18.300494",
     "status": "completed"
    },
    "tags": []
   },
   "outputs": [
    {
     "name": "stdout",
     "output_type": "stream",
     "text": [
      "All done!\n"
     ]
    }
   ],
   "source": [
    "# convert to lower case\n",
    "professors['Country'] = professors['Country'].str.lower()\n",
    "# remove trailing white spaces\n",
    "professors['Country'] = professors['Country'].str.strip()\n",
    "\n",
    "# get the top 10 closest matches to \"south korea\"\n",
    "countries = professors['Country'].unique()\n",
    "matches = fuzzywuzzy.process.extract(\"south korea\", countries, limit=10, scorer=fuzzywuzzy.fuzz.token_sort_ratio)\n",
    "\n",
    "def replace_matches_in_column(df, column, string_to_match, min_ratio = 47):\n",
    "    # get a list of unique strings\n",
    "    strings = df[column].unique()\n",
    "    \n",
    "    # get the top 10 closest matches to our input string\n",
    "    matches = fuzzywuzzy.process.extract(string_to_match, strings, \n",
    "                                         limit=10, scorer=fuzzywuzzy.fuzz.token_sort_ratio)\n",
    "\n",
    "    # only get matches with a ratio > 90\n",
    "    close_matches = [matches[0] for matches in matches if matches[1] >= min_ratio]\n",
    "\n",
    "    # get the rows of all the close matches in our dataframe\n",
    "    rows_with_matches = df[column].isin(close_matches)\n",
    "\n",
    "    # replace all rows with close matches with the input matches \n",
    "    df.loc[rows_with_matches, column] = string_to_match\n",
    "    \n",
    "    # let us know the function's done\n",
    "    print(\"All done!\")\n",
    "    \n",
    "replace_matches_in_column(df=professors, column='Country', string_to_match=\"south korea\")\n",
    "countries = professors['Country'].unique()"
   ]
  },
  {
   "cell_type": "markdown",
   "id": "0e379f82",
   "metadata": {
    "papermill": {
     "duration": 0.005228,
     "end_time": "2022-12-01T15:09:18.340916",
     "exception": false,
     "start_time": "2022-12-01T15:09:18.335688",
     "status": "completed"
    },
    "tags": []
   },
   "source": [
    "# 1) Examine another column\n",
    "\n",
    "Write code below to take a look at all the unique values in the \"Graduated from\" column."
   ]
  },
  {
   "cell_type": "code",
   "execution_count": 4,
   "id": "1fcdc65e",
   "metadata": {
    "execution": {
     "iopub.execute_input": "2022-12-01T15:09:18.354313Z",
     "iopub.status.busy": "2022-12-01T15:09:18.353830Z",
     "iopub.status.idle": "2022-12-01T15:09:18.360468Z",
     "shell.execute_reply": "2022-12-01T15:09:18.359062Z"
    },
    "papermill": {
     "duration": 0.016862,
     "end_time": "2022-12-01T15:09:18.363195",
     "exception": false,
     "start_time": "2022-12-01T15:09:18.346333",
     "status": "completed"
    },
    "tags": []
   },
   "outputs": [],
   "source": [
    "# TODO: Your code here\n",
    "unis = professors['Graduated from'].unique()"
   ]
  },
  {
   "cell_type": "markdown",
   "id": "b2ecd43c",
   "metadata": {
    "papermill": {
     "duration": 0.006801,
     "end_time": "2022-12-01T15:09:18.375462",
     "exception": false,
     "start_time": "2022-12-01T15:09:18.368661",
     "status": "completed"
    },
    "tags": []
   },
   "source": [
    "Do you notice any inconsistencies in the data?  Can any of the inconsistencies in the data be fixed by removing white spaces at the beginning and end of cells?\n",
    "\n",
    "Once you have answered these questions, run the code cell below to get credit for your work."
   ]
  },
  {
   "cell_type": "code",
   "execution_count": 5,
   "id": "005170ab",
   "metadata": {
    "execution": {
     "iopub.execute_input": "2022-12-01T15:09:18.388948Z",
     "iopub.status.busy": "2022-12-01T15:09:18.388409Z",
     "iopub.status.idle": "2022-12-01T15:09:18.402724Z",
     "shell.execute_reply": "2022-12-01T15:09:18.401453Z"
    },
    "papermill": {
     "duration": 0.024632,
     "end_time": "2022-12-01T15:09:18.405411",
     "exception": false,
     "start_time": "2022-12-01T15:09:18.380779",
     "status": "completed"
    },
    "tags": []
   },
   "outputs": [
    {
     "data": {
      "application/javascript": [
       "parent.postMessage({\"jupyterEvent\": \"custom.exercise_interaction\", \"data\": {\"outcomeType\": 1, \"valueTowardsCompletion\": 0.3333333333333333, \"interactionType\": 1, \"questionType\": 4, \"questionId\": \"1_ExamineProvince\", \"learnToolsVersion\": \"0.3.4\", \"failureMessage\": \"\", \"exceptionClass\": \"\", \"trace\": \"\"}}, \"*\")"
      ],
      "text/plain": [
       "<IPython.core.display.Javascript object>"
      ]
     },
     "metadata": {},
     "output_type": "display_data"
    },
    {
     "data": {
      "text/markdown": [
       "<span style=\"color:#33cc33\">Correct:</span> \n",
       "\n",
       "There are inconsistencies that can be fixed by removing white spaces at the beginning and end of cells.  For instance, \"University of Central Florida\" and \" University of Central Florida\" both appear in the column."
      ],
      "text/plain": [
       "Correct: \n",
       "\n",
       "There are inconsistencies that can be fixed by removing white spaces at the beginning and end of cells.  For instance, \"University of Central Florida\" and \" University of Central Florida\" both appear in the column."
      ]
     },
     "metadata": {},
     "output_type": "display_data"
    }
   ],
   "source": [
    "# Check your answer (Run this code cell to receive credit!)\n",
    "q1.check()"
   ]
  },
  {
   "cell_type": "code",
   "execution_count": 6,
   "id": "db06ee39",
   "metadata": {
    "execution": {
     "iopub.execute_input": "2022-12-01T15:09:18.419079Z",
     "iopub.status.busy": "2022-12-01T15:09:18.418572Z",
     "iopub.status.idle": "2022-12-01T15:09:18.428182Z",
     "shell.execute_reply": "2022-12-01T15:09:18.427083Z"
    },
    "papermill": {
     "duration": 0.019845,
     "end_time": "2022-12-01T15:09:18.431029",
     "exception": false,
     "start_time": "2022-12-01T15:09:18.411184",
     "status": "completed"
    },
    "tags": []
   },
   "outputs": [
    {
     "data": {
      "application/javascript": [
       "parent.postMessage({\"jupyterEvent\": \"custom.exercise_interaction\", \"data\": {\"interactionType\": 2, \"questionType\": 4, \"questionId\": \"1_ExamineProvince\", \"learnToolsVersion\": \"0.3.4\", \"valueTowardsCompletion\": 0.0, \"failureMessage\": \"\", \"exceptionClass\": \"\", \"trace\": \"\", \"outcomeType\": 4}}, \"*\")"
      ],
      "text/plain": [
       "<IPython.core.display.Javascript object>"
      ]
     },
     "metadata": {},
     "output_type": "display_data"
    },
    {
     "data": {
      "text/markdown": [
       "<span style=\"color:#3366cc\">Hint:</span> Use `unis = professors['Graduated from'].unique()` to take a look at the unique values in the 'Graduated from' column. You may find it useful to sort the data before printing it."
      ],
      "text/plain": [
       "Hint: Use `unis = professors['Graduated from'].unique()` to take a look at the unique values in the 'Graduated from' column. You may find it useful to sort the data before printing it."
      ]
     },
     "metadata": {},
     "output_type": "display_data"
    }
   ],
   "source": [
    "# Line below will give you a hint\n",
    "q1.hint()"
   ]
  },
  {
   "cell_type": "markdown",
   "id": "958f8f67",
   "metadata": {
    "papermill": {
     "duration": 0.005579,
     "end_time": "2022-12-01T15:09:18.442669",
     "exception": false,
     "start_time": "2022-12-01T15:09:18.437090",
     "status": "completed"
    },
    "tags": []
   },
   "source": [
    "# 2) Do some text pre-processing\n",
    "\n",
    "Convert every entry in the \"Graduated from\" column in the `professors` DataFrame to remove white spaces at the beginning and end of cells."
   ]
  },
  {
   "cell_type": "code",
   "execution_count": 7,
   "id": "b9798ad2",
   "metadata": {
    "execution": {
     "iopub.execute_input": "2022-12-01T15:09:18.456776Z",
     "iopub.status.busy": "2022-12-01T15:09:18.456240Z",
     "iopub.status.idle": "2022-12-01T15:09:18.472555Z",
     "shell.execute_reply": "2022-12-01T15:09:18.471192Z"
    },
    "papermill": {
     "duration": 0.026555,
     "end_time": "2022-12-01T15:09:18.475181",
     "exception": false,
     "start_time": "2022-12-01T15:09:18.448626",
     "status": "completed"
    },
    "tags": []
   },
   "outputs": [
    {
     "data": {
      "application/javascript": [
       "parent.postMessage({\"jupyterEvent\": \"custom.exercise_interaction\", \"data\": {\"outcomeType\": 1, \"valueTowardsCompletion\": 0.3333333333333333, \"interactionType\": 1, \"questionType\": 1, \"questionId\": \"2_TextProcessing\", \"learnToolsVersion\": \"0.3.4\", \"failureMessage\": \"\", \"exceptionClass\": \"\", \"trace\": \"\"}}, \"*\")"
      ],
      "text/plain": [
       "<IPython.core.display.Javascript object>"
      ]
     },
     "metadata": {},
     "output_type": "display_data"
    },
    {
     "data": {
      "text/markdown": [
       "<span style=\"color:#33cc33\">Correct</span>"
      ],
      "text/plain": [
       "Correct"
      ]
     },
     "metadata": {},
     "output_type": "display_data"
    }
   ],
   "source": [
    "# TODO: Your code here\n",
    "professors['Graduated from'] = professors['Graduated from'].str.strip()\n",
    "\n",
    "# Check your answer\n",
    "q2.check()"
   ]
  },
  {
   "cell_type": "code",
   "execution_count": 8,
   "id": "bb4a9818",
   "metadata": {
    "execution": {
     "iopub.execute_input": "2022-12-01T15:09:18.489790Z",
     "iopub.status.busy": "2022-12-01T15:09:18.489290Z",
     "iopub.status.idle": "2022-12-01T15:09:18.506149Z",
     "shell.execute_reply": "2022-12-01T15:09:18.504678Z"
    },
    "papermill": {
     "duration": 0.027932,
     "end_time": "2022-12-01T15:09:18.509159",
     "exception": false,
     "start_time": "2022-12-01T15:09:18.481227",
     "status": "completed"
    },
    "tags": []
   },
   "outputs": [
    {
     "data": {
      "application/javascript": [
       "parent.postMessage({\"jupyterEvent\": \"custom.exercise_interaction\", \"data\": {\"interactionType\": 2, \"questionType\": 1, \"questionId\": \"2_TextProcessing\", \"learnToolsVersion\": \"0.3.4\", \"valueTowardsCompletion\": 0.0, \"failureMessage\": \"\", \"exceptionClass\": \"\", \"trace\": \"\", \"outcomeType\": 4}}, \"*\")"
      ],
      "text/plain": [
       "<IPython.core.display.Javascript object>"
      ]
     },
     "metadata": {},
     "output_type": "display_data"
    },
    {
     "data": {
      "text/markdown": [
       "<span style=\"color:#3366cc\">Hint:</span> In the tutorial, you did the same operation on a different column."
      ],
      "text/plain": [
       "Hint: In the tutorial, you did the same operation on a different column."
      ]
     },
     "metadata": {},
     "output_type": "display_data"
    },
    {
     "data": {
      "application/javascript": [
       "parent.postMessage({\"jupyterEvent\": \"custom.exercise_interaction\", \"data\": {\"interactionType\": 3, \"questionType\": 1, \"questionId\": \"2_TextProcessing\", \"learnToolsVersion\": \"0.3.4\", \"valueTowardsCompletion\": 0.0, \"failureMessage\": \"\", \"exceptionClass\": \"\", \"trace\": \"\", \"outcomeType\": 4}}, \"*\")"
      ],
      "text/plain": [
       "<IPython.core.display.Javascript object>"
      ]
     },
     "metadata": {},
     "output_type": "display_data"
    },
    {
     "data": {
      "text/markdown": [
       "<span style=\"color:#33cc99\">Solution:</span> \n",
       "```python\n",
       "professors['Graduated from'] = professors['Graduated from'].str.strip()\n",
       "\n",
       "```"
      ],
      "text/plain": [
       "Solution: \n",
       "```python\n",
       "professors['Graduated from'] = professors['Graduated from'].str.strip()\n",
       "\n",
       "```"
      ]
     },
     "metadata": {},
     "output_type": "display_data"
    }
   ],
   "source": [
    "# Lines below will give you a hint or solution code\n",
    "q2.hint()\n",
    "q2.solution()"
   ]
  },
  {
   "cell_type": "markdown",
   "id": "128f024b",
   "metadata": {
    "papermill": {
     "duration": 0.006235,
     "end_time": "2022-12-01T15:09:18.522037",
     "exception": false,
     "start_time": "2022-12-01T15:09:18.515802",
     "status": "completed"
    },
    "tags": []
   },
   "source": [
    "# 3) Continue working with countries\n",
    "\n",
    "In the tutorial, we focused on cleaning up inconsistencies in the \"Country\" column.  Run the code cell below to view the list of unique values that we ended with."
   ]
  },
  {
   "cell_type": "code",
   "execution_count": 9,
   "id": "864143da",
   "metadata": {
    "execution": {
     "iopub.execute_input": "2022-12-01T15:09:18.537237Z",
     "iopub.status.busy": "2022-12-01T15:09:18.536813Z",
     "iopub.status.idle": "2022-12-01T15:09:18.545810Z",
     "shell.execute_reply": "2022-12-01T15:09:18.544585Z"
    },
    "papermill": {
     "duration": 0.019817,
     "end_time": "2022-12-01T15:09:18.548585",
     "exception": false,
     "start_time": "2022-12-01T15:09:18.528768",
     "status": "completed"
    },
    "tags": []
   },
   "outputs": [
    {
     "data": {
      "text/plain": [
       "array(['australia', 'austria', 'canada', 'china', 'finland', 'france',\n",
       "       'germany', 'greece', 'hongkong', 'ireland', 'italy', 'japan',\n",
       "       'macau', 'malaysia', 'mauritius', 'netherland', 'new zealand',\n",
       "       'norway', 'pakistan', 'portugal', 'russian federation',\n",
       "       'saudi arabia', 'scotland', 'singapore', 'south korea', 'spain',\n",
       "       'sweden', 'thailand', 'turkey', 'uk', 'urbana', 'usa', 'usofa'],\n",
       "      dtype=object)"
      ]
     },
     "execution_count": 9,
     "metadata": {},
     "output_type": "execute_result"
    }
   ],
   "source": [
    "# get all the unique values in the 'City' column\n",
    "countries = professors['Country'].unique()\n",
    "\n",
    "# sort them alphabetically and then take a closer look\n",
    "countries.sort()\n",
    "countries"
   ]
  },
  {
   "cell_type": "markdown",
   "id": "7f0fa3d0",
   "metadata": {
    "papermill": {
     "duration": 0.006378,
     "end_time": "2022-12-01T15:09:18.561606",
     "exception": false,
     "start_time": "2022-12-01T15:09:18.555228",
     "status": "completed"
    },
    "tags": []
   },
   "source": [
    "Take another look at the \"Country\" column and see if there's any more data cleaning we need to do.\n",
    "\n",
    "It looks like 'usa' and 'usofa' should be the same country.  Correct the \"Country\" column in the dataframe to replace 'usofa' with 'usa'.\n",
    "\n",
    "**Use the most recent version of the DataFrame (with the whitespaces at the beginning and end of cells removed) from question 2.**"
   ]
  },
  {
   "cell_type": "code",
   "execution_count": 10,
   "id": "ef3848d1",
   "metadata": {
    "execution": {
     "iopub.execute_input": "2022-12-01T15:09:18.576830Z",
     "iopub.status.busy": "2022-12-01T15:09:18.576421Z",
     "iopub.status.idle": "2022-12-01T15:09:18.591869Z",
     "shell.execute_reply": "2022-12-01T15:09:18.590657Z"
    },
    "papermill": {
     "duration": 0.026466,
     "end_time": "2022-12-01T15:09:18.594671",
     "exception": false,
     "start_time": "2022-12-01T15:09:18.568205",
     "status": "completed"
    },
    "tags": []
   },
   "outputs": [
    {
     "name": "stdout",
     "output_type": "stream",
     "text": [
      "All done!\n"
     ]
    },
    {
     "data": {
      "application/javascript": [
       "parent.postMessage({\"jupyterEvent\": \"custom.exercise_interaction\", \"data\": {\"outcomeType\": 1, \"valueTowardsCompletion\": 0.3333333333333333, \"interactionType\": 1, \"questionType\": 1, \"questionId\": \"3_WorkingWithCities\", \"learnToolsVersion\": \"0.3.4\", \"failureMessage\": \"\", \"exceptionClass\": \"\", \"trace\": \"\"}}, \"*\")"
      ],
      "text/plain": [
       "<IPython.core.display.Javascript object>"
      ]
     },
     "metadata": {},
     "output_type": "display_data"
    },
    {
     "data": {
      "text/markdown": [
       "<span style=\"color:#33cc33\">Correct</span>"
      ],
      "text/plain": [
       "Correct"
      ]
     },
     "metadata": {},
     "output_type": "display_data"
    }
   ],
   "source": [
    "# TODO: Your code here!\n",
    "matches = fuzzywuzzy.process.extract(\"usa\", countries, limit=10, scorer=fuzzywuzzy.fuzz.token_sort_ratio)\n",
    "replace_matches_in_column(df=professors, column='Country', string_to_match=\"usa\", min_ratio=70)\n",
    "\n",
    "# Check your answer\n",
    "q3.check()"
   ]
  },
  {
   "cell_type": "code",
   "execution_count": 11,
   "id": "181bf776",
   "metadata": {
    "execution": {
     "iopub.execute_input": "2022-12-01T15:09:18.610220Z",
     "iopub.status.busy": "2022-12-01T15:09:18.609809Z",
     "iopub.status.idle": "2022-12-01T15:09:18.624573Z",
     "shell.execute_reply": "2022-12-01T15:09:18.623262Z"
    },
    "papermill": {
     "duration": 0.025835,
     "end_time": "2022-12-01T15:09:18.627311",
     "exception": false,
     "start_time": "2022-12-01T15:09:18.601476",
     "status": "completed"
    },
    "tags": []
   },
   "outputs": [
    {
     "data": {
      "application/javascript": [
       "parent.postMessage({\"jupyterEvent\": \"custom.exercise_interaction\", \"data\": {\"interactionType\": 2, \"questionType\": 1, \"questionId\": \"3_WorkingWithCities\", \"learnToolsVersion\": \"0.3.4\", \"valueTowardsCompletion\": 0.0, \"failureMessage\": \"\", \"exceptionClass\": \"\", \"trace\": \"\", \"outcomeType\": 4}}, \"*\")"
      ],
      "text/plain": [
       "<IPython.core.display.Javascript object>"
      ]
     },
     "metadata": {},
     "output_type": "display_data"
    },
    {
     "data": {
      "text/markdown": [
       "<span style=\"color:#3366cc\">Hint:</span> Use the `replace_matches_in_column()` function defined above."
      ],
      "text/plain": [
       "Hint: Use the `replace_matches_in_column()` function defined above."
      ]
     },
     "metadata": {},
     "output_type": "display_data"
    },
    {
     "data": {
      "application/javascript": [
       "parent.postMessage({\"jupyterEvent\": \"custom.exercise_interaction\", \"data\": {\"interactionType\": 3, \"questionType\": 1, \"questionId\": \"3_WorkingWithCities\", \"learnToolsVersion\": \"0.3.4\", \"valueTowardsCompletion\": 0.0, \"failureMessage\": \"\", \"exceptionClass\": \"\", \"trace\": \"\", \"outcomeType\": 4}}, \"*\")"
      ],
      "text/plain": [
       "<IPython.core.display.Javascript object>"
      ]
     },
     "metadata": {},
     "output_type": "display_data"
    },
    {
     "data": {
      "text/markdown": [
       "<span style=\"color:#33cc99\">Solution:</span> \n",
       "```python\n",
       "matches = fuzzywuzzy.process.extract(\"usa\", countries, limit=10, scorer=fuzzywuzzy.fuzz.token_sort_ratio)\n",
       "replace_matches_in_column(df=professors, column='Country', string_to_match=\"usa\", min_ratio=70)\n",
       "\n",
       "```"
      ],
      "text/plain": [
       "Solution: \n",
       "```python\n",
       "matches = fuzzywuzzy.process.extract(\"usa\", countries, limit=10, scorer=fuzzywuzzy.fuzz.token_sort_ratio)\n",
       "replace_matches_in_column(df=professors, column='Country', string_to_match=\"usa\", min_ratio=70)\n",
       "\n",
       "```"
      ]
     },
     "metadata": {},
     "output_type": "display_data"
    }
   ],
   "source": [
    "# Lines below will give you a hint or solution code\n",
    "q3.hint()\n",
    "q3.solution()"
   ]
  },
  {
   "cell_type": "markdown",
   "id": "80c55de1",
   "metadata": {
    "papermill": {
     "duration": 0.008449,
     "end_time": "2022-12-01T15:09:18.643996",
     "exception": false,
     "start_time": "2022-12-01T15:09:18.635547",
     "status": "completed"
    },
    "tags": []
   },
   "source": [
    "# Congratulations!\n",
    "\n",
    "Congratulations for completing the **Data Cleaning** course on Kaggle Learn!\n",
    "\n",
    "To practice your new skills, you're encouraged to download and investigate some of [Kaggle's Datasets](https://www.kaggle.com/datasets)."
   ]
  },
  {
   "cell_type": "markdown",
   "id": "f1072088",
   "metadata": {
    "papermill": {
     "duration": 0.007666,
     "end_time": "2022-12-01T15:09:18.660190",
     "exception": false,
     "start_time": "2022-12-01T15:09:18.652524",
     "status": "completed"
    },
    "tags": []
   },
   "source": [
    "---\n",
    "\n",
    "\n",
    "\n",
    "\n",
    "*Have questions or comments? Visit the [course discussion forum](https://www.kaggle.com/learn/data-cleaning/discussion) to chat with other learners.*"
   ]
  }
 ],
 "metadata": {
  "kernelspec": {
   "display_name": "Python 3",
   "language": "python",
   "name": "python3"
  },
  "language_info": {
   "codemirror_mode": {
    "name": "ipython",
    "version": 3
   },
   "file_extension": ".py",
   "mimetype": "text/x-python",
   "name": "python",
   "nbconvert_exporter": "python",
   "pygments_lexer": "ipython3",
   "version": "3.7.12"
  },
  "papermill": {
   "default_parameters": {},
   "duration": 12.732894,
   "end_time": "2022-12-01T15:09:19.593122",
   "environment_variables": {},
   "exception": null,
   "input_path": "__notebook__.ipynb",
   "output_path": "__notebook__.ipynb",
   "parameters": {},
   "start_time": "2022-12-01T15:09:06.860228",
   "version": "2.3.4"
  }
 },
 "nbformat": 4,
 "nbformat_minor": 5
}

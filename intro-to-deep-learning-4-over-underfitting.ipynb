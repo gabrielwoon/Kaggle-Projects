{
 "cells": [
  {
   "cell_type": "markdown",
   "id": "631f64e4",
   "metadata": {
    "papermill": {
     "duration": 0.005375,
     "end_time": "2022-12-06T16:29:55.390804",
     "exception": false,
     "start_time": "2022-12-06T16:29:55.385429",
     "status": "completed"
    },
    "tags": []
   },
   "source": [
    "**This notebook is an exercise in the [Intro to Deep Learning](https://www.kaggle.com/learn/intro-to-deep-learning) course.  You can reference the tutorial at [this link](https://www.kaggle.com/ryanholbrook/overfitting-and-underfitting).**\n",
    "\n",
    "---\n"
   ]
  },
  {
   "cell_type": "markdown",
   "id": "16659be9",
   "metadata": {
    "papermill": {
     "duration": 0.004229,
     "end_time": "2022-12-06T16:29:55.399854",
     "exception": false,
     "start_time": "2022-12-06T16:29:55.395625",
     "status": "completed"
    },
    "tags": []
   },
   "source": [
    "# Introduction #\n",
    "\n",
    "In this exercise, you’ll learn how to improve training outcomes by including an early stopping callback to prevent overfitting.\n",
    "\n",
    "When you're ready, run this next cell to set everything up!"
   ]
  },
  {
   "cell_type": "code",
   "execution_count": 1,
   "id": "9f402312",
   "metadata": {
    "execution": {
     "iopub.execute_input": "2022-12-06T16:29:55.410407Z",
     "iopub.status.busy": "2022-12-06T16:29:55.409488Z",
     "iopub.status.idle": "2022-12-06T16:29:55.438245Z",
     "shell.execute_reply": "2022-12-06T16:29:55.437414Z"
    },
    "papermill": {
     "duration": 0.036163,
     "end_time": "2022-12-06T16:29:55.440322",
     "exception": false,
     "start_time": "2022-12-06T16:29:55.404159",
     "status": "completed"
    },
    "tags": []
   },
   "outputs": [],
   "source": [
    "# Setup plotting\n",
    "import matplotlib.pyplot as plt\n",
    "plt.style.use('seaborn-whitegrid')\n",
    "# Set Matplotlib defaults\n",
    "plt.rc('figure', autolayout=True)\n",
    "plt.rc('axes', labelweight='bold', labelsize='large',\n",
    "       titleweight='bold', titlesize=18, titlepad=10)\n",
    "plt.rc('animation', html='html5')\n",
    "\n",
    "# Setup feedback system\n",
    "from learntools.core import binder\n",
    "binder.bind(globals())\n",
    "from learntools.deep_learning_intro.ex4 import *"
   ]
  },
  {
   "cell_type": "markdown",
   "id": "d065949a",
   "metadata": {
    "papermill": {
     "duration": 0.004185,
     "end_time": "2022-12-06T16:29:55.448970",
     "exception": false,
     "start_time": "2022-12-06T16:29:55.444785",
     "status": "completed"
    },
    "tags": []
   },
   "source": [
    "First load the *Spotify* dataset. Your task will be to predict the popularity of a song based on various audio features, like `'tempo'`, `'danceability'`, and `'mode'`."
   ]
  },
  {
   "cell_type": "code",
   "execution_count": 2,
   "id": "694fe006",
   "metadata": {
    "execution": {
     "iopub.execute_input": "2022-12-06T16:29:55.458897Z",
     "iopub.status.busy": "2022-12-06T16:29:55.458642Z",
     "iopub.status.idle": "2022-12-06T16:30:02.163039Z",
     "shell.execute_reply": "2022-12-06T16:30:02.160277Z"
    },
    "papermill": {
     "duration": 6.712283,
     "end_time": "2022-12-06T16:30:02.165663",
     "exception": false,
     "start_time": "2022-12-06T16:29:55.453380",
     "status": "completed"
    },
    "tags": []
   },
   "outputs": [
    {
     "name": "stdout",
     "output_type": "stream",
     "text": [
      "Input shape: [18]\n"
     ]
    }
   ],
   "source": [
    "import pandas as pd\n",
    "from sklearn.preprocessing import StandardScaler, OneHotEncoder\n",
    "from sklearn.compose import make_column_transformer\n",
    "from sklearn.model_selection import GroupShuffleSplit\n",
    "\n",
    "from tensorflow import keras\n",
    "from tensorflow.keras import layers\n",
    "from tensorflow.keras import callbacks\n",
    "\n",
    "spotify = pd.read_csv('../input/dl-course-data/spotify.csv')\n",
    "\n",
    "X = spotify.copy().dropna()\n",
    "y = X.pop('track_popularity')\n",
    "artists = X['track_artist']\n",
    "\n",
    "features_num = ['danceability', 'energy', 'key', 'loudness', 'mode',\n",
    "                'speechiness', 'acousticness', 'instrumentalness',\n",
    "                'liveness', 'valence', 'tempo', 'duration_ms']\n",
    "features_cat = ['playlist_genre']\n",
    "\n",
    "preprocessor = make_column_transformer(\n",
    "    (StandardScaler(), features_num),\n",
    "    (OneHotEncoder(), features_cat),\n",
    ")\n",
    "\n",
    "# We'll do a \"grouped\" split to keep all of an artist's songs in one\n",
    "# split or the other. This is to help prevent signal leakage.\n",
    "def group_split(X, y, group, train_size=0.75):\n",
    "    splitter = GroupShuffleSplit(train_size=train_size)\n",
    "    train, test = next(splitter.split(X, y, groups=group))\n",
    "    return (X.iloc[train], X.iloc[test], y.iloc[train], y.iloc[test])\n",
    "\n",
    "X_train, X_valid, y_train, y_valid = group_split(X, y, artists)\n",
    "\n",
    "X_train = preprocessor.fit_transform(X_train)\n",
    "X_valid = preprocessor.transform(X_valid)\n",
    "y_train = y_train / 100 # popularity is on a scale 0-100, so this rescales to 0-1.\n",
    "y_valid = y_valid / 100\n",
    "\n",
    "input_shape = [X_train.shape[1]]\n",
    "print(\"Input shape: {}\".format(input_shape))"
   ]
  },
  {
   "cell_type": "markdown",
   "id": "9e80c134",
   "metadata": {
    "papermill": {
     "duration": 0.004413,
     "end_time": "2022-12-06T16:30:02.175486",
     "exception": false,
     "start_time": "2022-12-06T16:30:02.171073",
     "status": "completed"
    },
    "tags": []
   },
   "source": [
    "Let's start with the simplest network, a linear model. This model has low capacity.\n",
    "\n",
    "Run this next cell without any changes to train a linear model on the *Spotify* dataset."
   ]
  },
  {
   "cell_type": "code",
   "execution_count": 3,
   "id": "76437149",
   "metadata": {
    "execution": {
     "iopub.execute_input": "2022-12-06T16:30:02.186458Z",
     "iopub.status.busy": "2022-12-06T16:30:02.186159Z",
     "iopub.status.idle": "2022-12-06T16:30:16.688759Z",
     "shell.execute_reply": "2022-12-06T16:30:16.687860Z"
    },
    "lines_to_next_cell": 0,
    "papermill": {
     "duration": 14.510466,
     "end_time": "2022-12-06T16:30:16.690840",
     "exception": false,
     "start_time": "2022-12-06T16:30:02.180374",
     "status": "completed"
    },
    "tags": []
   },
   "outputs": [
    {
     "name": "stderr",
     "output_type": "stream",
     "text": [
      "2022-12-06 16:30:02.284025: I tensorflow/stream_executor/cuda/cuda_gpu_executor.cc:937] successful NUMA node read from SysFS had negative value (-1), but there must be at least one NUMA node, so returning NUMA node zero\n",
      "2022-12-06 16:30:02.441063: I tensorflow/stream_executor/cuda/cuda_gpu_executor.cc:937] successful NUMA node read from SysFS had negative value (-1), but there must be at least one NUMA node, so returning NUMA node zero\n",
      "2022-12-06 16:30:02.441818: I tensorflow/stream_executor/cuda/cuda_gpu_executor.cc:937] successful NUMA node read from SysFS had negative value (-1), but there must be at least one NUMA node, so returning NUMA node zero\n",
      "2022-12-06 16:30:02.443352: I tensorflow/core/platform/cpu_feature_guard.cc:142] This TensorFlow binary is optimized with oneAPI Deep Neural Network Library (oneDNN) to use the following CPU instructions in performance-critical operations:  AVX2 AVX512F FMA\n",
      "To enable them in other operations, rebuild TensorFlow with the appropriate compiler flags.\n",
      "2022-12-06 16:30:02.443711: I tensorflow/stream_executor/cuda/cuda_gpu_executor.cc:937] successful NUMA node read from SysFS had negative value (-1), but there must be at least one NUMA node, so returning NUMA node zero\n",
      "2022-12-06 16:30:02.444670: I tensorflow/stream_executor/cuda/cuda_gpu_executor.cc:937] successful NUMA node read from SysFS had negative value (-1), but there must be at least one NUMA node, so returning NUMA node zero\n",
      "2022-12-06 16:30:02.445546: I tensorflow/stream_executor/cuda/cuda_gpu_executor.cc:937] successful NUMA node read from SysFS had negative value (-1), but there must be at least one NUMA node, so returning NUMA node zero\n",
      "2022-12-06 16:30:05.344910: I tensorflow/stream_executor/cuda/cuda_gpu_executor.cc:937] successful NUMA node read from SysFS had negative value (-1), but there must be at least one NUMA node, so returning NUMA node zero\n",
      "2022-12-06 16:30:05.345794: I tensorflow/stream_executor/cuda/cuda_gpu_executor.cc:937] successful NUMA node read from SysFS had negative value (-1), but there must be at least one NUMA node, so returning NUMA node zero\n",
      "2022-12-06 16:30:05.346476: I tensorflow/stream_executor/cuda/cuda_gpu_executor.cc:937] successful NUMA node read from SysFS had negative value (-1), but there must be at least one NUMA node, so returning NUMA node zero\n",
      "2022-12-06 16:30:05.347088: I tensorflow/core/common_runtime/gpu/gpu_device.cc:1510] Created device /job:localhost/replica:0/task:0/device:GPU:0 with 15401 MB memory:  -> device: 0, name: Tesla P100-PCIE-16GB, pci bus id: 0000:00:04.0, compute capability: 6.0\n",
      "2022-12-06 16:30:05.823893: I tensorflow/compiler/mlir/mlir_graph_optimization_pass.cc:185] None of the MLIR Optimization Passes are enabled (registered 2)\n"
     ]
    },
    {
     "name": "stdout",
     "output_type": "stream",
     "text": [
      "Minimum Validation Loss: 0.1957\n"
     ]
    },
    {
     "data": {
      "image/png": "[encoded data removed]",
      "text/plain": [
       "<Figure size 432x288 with 1 Axes>"
      ]
     },
     "metadata": {},
     "output_type": "display_data"
    }
   ],
   "source": [
    "model = keras.Sequential([\n",
    "    layers.Dense(1, input_shape=input_shape),\n",
    "])\n",
    "model.compile(\n",
    "    optimizer='adam',\n",
    "    loss='mae',\n",
    ")\n",
    "history = model.fit(\n",
    "    X_train, y_train,\n",
    "    validation_data=(X_valid, y_valid),\n",
    "    batch_size=512,\n",
    "    epochs=50,\n",
    "    verbose=0, # suppress output since we'll plot the curves\n",
    ")\n",
    "history_df = pd.DataFrame(history.history)\n",
    "history_df.loc[0:, ['loss', 'val_loss']].plot()\n",
    "print(\"Minimum Validation Loss: {:0.4f}\".format(history_df['val_loss'].min()));"
   ]
  },
  {
   "cell_type": "markdown",
   "id": "b1dec566",
   "metadata": {
    "papermill": {
     "duration": 0.00464,
     "end_time": "2022-12-06T16:30:16.700694",
     "exception": false,
     "start_time": "2022-12-06T16:30:16.696054",
     "status": "completed"
    },
    "tags": []
   },
   "source": [
    "It's not uncommon for the curves to follow a \"hockey stick\" pattern like you see here. This makes the final part of training hard to see, so let's start at epoch 10 instead:"
   ]
  },
  {
   "cell_type": "code",
   "execution_count": 4,
   "id": "c0084606",
   "metadata": {
    "execution": {
     "iopub.execute_input": "2022-12-06T16:30:16.712746Z",
     "iopub.status.busy": "2022-12-06T16:30:16.711338Z",
     "iopub.status.idle": "2022-12-06T16:30:17.018999Z",
     "shell.execute_reply": "2022-12-06T16:30:17.018106Z"
    },
    "papermill": {
     "duration": 0.315711,
     "end_time": "2022-12-06T16:30:17.021224",
     "exception": false,
     "start_time": "2022-12-06T16:30:16.705513",
     "status": "completed"
    },
    "tags": []
   },
   "outputs": [
    {
     "name": "stdout",
     "output_type": "stream",
     "text": [
      "Minimum Validation Loss: 0.1957\n"
     ]
    },
    {
     "data": {
      "image/png": "[encoded data removed]",
      "text/plain": [
       "<Figure size 432x288 with 1 Axes>"
      ]
     },
     "metadata": {},
     "output_type": "display_data"
    }
   ],
   "source": [
    "# Start the plot at epoch 10\n",
    "history_df.loc[10:, ['loss', 'val_loss']].plot()\n",
    "print(\"Minimum Validation Loss: {:0.4f}\".format(history_df['val_loss'].min()));"
   ]
  },
  {
   "cell_type": "markdown",
   "id": "b8d865b9",
   "metadata": {
    "papermill": {
     "duration": 0.005188,
     "end_time": "2022-12-06T16:30:17.031785",
     "exception": false,
     "start_time": "2022-12-06T16:30:17.026597",
     "status": "completed"
    },
    "tags": []
   },
   "source": [
    "# 1) Evaluate Baseline\n",
    "\n",
    "What do you think? Would you say this model is underfitting, overfitting, just right?"
   ]
  },
  {
   "cell_type": "code",
   "execution_count": 5,
   "id": "96115702",
   "metadata": {
    "execution": {
     "iopub.execute_input": "2022-12-06T16:30:17.043570Z",
     "iopub.status.busy": "2022-12-06T16:30:17.043263Z",
     "iopub.status.idle": "2022-12-06T16:30:17.053546Z",
     "shell.execute_reply": "2022-12-06T16:30:17.052677Z"
    },
    "papermill": {
     "duration": 0.018456,
     "end_time": "2022-12-06T16:30:17.055525",
     "exception": false,
     "start_time": "2022-12-06T16:30:17.037069",
     "status": "completed"
    },
    "tags": []
   },
   "outputs": [
    {
     "data": {
      "application/javascript": [
       "parent.postMessage({\"jupyterEvent\": \"custom.exercise_interaction\", \"data\": {\"outcomeType\": 1, \"valueTowardsCompletion\": 0.25, \"interactionType\": 1, \"questionType\": 4, \"questionId\": \"1_Q1\", \"learnToolsVersion\": \"0.3.4\", \"failureMessage\": \"\", \"exceptionClass\": \"\", \"trace\": \"\"}}, \"*\")"
      ],
      "text/plain": [
       "<IPython.core.display.Javascript object>"
      ]
     },
     "metadata": {},
     "output_type": "display_data"
    },
    {
     "data": {
      "text/markdown": [
       "<span style=\"color:#33cc33\">Correct:</span> \n",
       "\n",
       "The gap between these curves is quite small and the validation loss never increases, so it's more likely that the network is underfitting than overfitting. It would be worth experimenting with more capacity to see if that's the case."
      ],
      "text/plain": [
       "Correct: \n",
       "\n",
       "The gap between these curves is quite small and the validation loss never increases, so it's more likely that the network is underfitting than overfitting. It would be worth experimenting with more capacity to see if that's the case."
      ]
     },
     "metadata": {},
     "output_type": "display_data"
    }
   ],
   "source": [
    "# View the solution (Run this cell to receive credit!)\n",
    "q_1.check()"
   ]
  },
  {
   "cell_type": "markdown",
   "id": "66bb54e0",
   "metadata": {
    "papermill": {
     "duration": 0.005153,
     "end_time": "2022-12-06T16:30:17.066923",
     "exception": false,
     "start_time": "2022-12-06T16:30:17.061770",
     "status": "completed"
    },
    "tags": []
   },
   "source": [
    "Now let's add some capacity to our network. We'll add three hidden layers with 128 units each. Run the next cell to train the network and see the learning curves."
   ]
  },
  {
   "cell_type": "code",
   "execution_count": 6,
   "id": "1521c450",
   "metadata": {
    "execution": {
     "iopub.execute_input": "2022-12-06T16:30:17.079318Z",
     "iopub.status.busy": "2022-12-06T16:30:17.078482Z",
     "iopub.status.idle": "2022-12-06T16:30:27.881605Z",
     "shell.execute_reply": "2022-12-06T16:30:27.880920Z"
    },
    "papermill": {
     "duration": 10.81123,
     "end_time": "2022-12-06T16:30:27.883470",
     "exception": false,
     "start_time": "2022-12-06T16:30:17.072240",
     "status": "completed"
    },
    "tags": []
   },
   "outputs": [
    {
     "name": "stdout",
     "output_type": "stream",
     "text": [
      "Epoch 1/50\n",
      "49/49 [==============================] - 0s 4ms/step - loss: 0.2515 - val_loss: 0.2066\n",
      "Epoch 2/50\n",
      "49/49 [==============================] - 0s 2ms/step - loss: 0.2024 - val_loss: 0.2024\n",
      "Epoch 3/50\n",
      "49/49 [==============================] - 0s 2ms/step - loss: 0.1970 - val_loss: 0.1982\n",
      "Epoch 4/50\n",
      "49/49 [==============================] - 0s 3ms/step - loss: 0.1938 - val_loss: 0.1972\n",
      "Epoch 5/50\n",
      "49/49 [==============================] - 0s 3ms/step - loss: 0.1915 - val_loss: 0.1963\n",
      "Epoch 6/50\n",
      "49/49 [==============================] - 0s 2ms/step - loss: 0.1902 - val_loss: 0.1961\n",
      "Epoch 7/50\n",
      "49/49 [==============================] - 0s 2ms/step - loss: 0.1887 - val_loss: 0.1956\n",
      "Epoch 8/50\n",
      "49/49 [==============================] - 0s 3ms/step - loss: 0.1872 - val_loss: 0.1953\n",
      "Epoch 9/50\n",
      "49/49 [==============================] - 0s 3ms/step - loss: 0.1863 - val_loss: 0.1955\n",
      "Epoch 10/50\n",
      "49/49 [==============================] - 0s 3ms/step - loss: 0.1856 - val_loss: 0.1960\n",
      "Epoch 11/50\n",
      "49/49 [==============================] - 0s 3ms/step - loss: 0.1853 - val_loss: 0.1963\n",
      "Epoch 12/50\n",
      "49/49 [==============================] - 0s 2ms/step - loss: 0.1839 - val_loss: 0.1956\n",
      "Epoch 13/50\n",
      "49/49 [==============================] - 0s 2ms/step - loss: 0.1830 - val_loss: 0.1955\n",
      "Epoch 14/50\n",
      "49/49 [==============================] - 0s 2ms/step - loss: 0.1822 - val_loss: 0.1959\n",
      "Epoch 15/50\n",
      "49/49 [==============================] - 0s 2ms/step - loss: 0.1815 - val_loss: 0.1962\n",
      "Epoch 16/50\n",
      "49/49 [==============================] - 0s 2ms/step - loss: 0.1810 - val_loss: 0.1979\n",
      "Epoch 17/50\n",
      "49/49 [==============================] - 0s 2ms/step - loss: 0.1808 - val_loss: 0.1967\n",
      "Epoch 18/50\n",
      "49/49 [==============================] - 0s 2ms/step - loss: 0.1803 - val_loss: 0.1972\n",
      "Epoch 19/50\n",
      "49/49 [==============================] - 0s 2ms/step - loss: 0.1796 - val_loss: 0.1992\n",
      "Epoch 20/50\n",
      "49/49 [==============================] - 0s 2ms/step - loss: 0.1789 - val_loss: 0.1984\n",
      "Epoch 21/50\n",
      "49/49 [==============================] - 0s 3ms/step - loss: 0.1792 - val_loss: 0.1964\n",
      "Epoch 22/50\n",
      "49/49 [==============================] - 0s 2ms/step - loss: 0.1772 - val_loss: 0.1978\n",
      "Epoch 23/50\n",
      "49/49 [==============================] - 0s 2ms/step - loss: 0.1765 - val_loss: 0.1982\n",
      "Epoch 24/50\n",
      "49/49 [==============================] - 0s 2ms/step - loss: 0.1763 - val_loss: 0.1971\n",
      "Epoch 25/50\n",
      "49/49 [==============================] - 0s 2ms/step - loss: 0.1772 - val_loss: 0.1983\n",
      "Epoch 26/50\n",
      "49/49 [==============================] - 0s 2ms/step - loss: 0.1761 - val_loss: 0.1980\n",
      "Epoch 27/50\n",
      "49/49 [==============================] - 0s 3ms/step - loss: 0.1746 - val_loss: 0.1995\n",
      "Epoch 28/50\n",
      "49/49 [==============================] - 0s 5ms/step - loss: 0.1748 - val_loss: 0.1979\n",
      "Epoch 29/50\n",
      "49/49 [==============================] - 0s 4ms/step - loss: 0.1744 - val_loss: 0.1988\n",
      "Epoch 30/50\n",
      "49/49 [==============================] - 0s 4ms/step - loss: 0.1738 - val_loss: 0.1996\n",
      "Epoch 31/50\n",
      "49/49 [==============================] - 0s 3ms/step - loss: 0.1738 - val_loss: 0.1992\n",
      "Epoch 32/50\n",
      "49/49 [==============================] - 0s 3ms/step - loss: 0.1726 - val_loss: 0.1997\n",
      "Epoch 33/50\n",
      "49/49 [==============================] - 0s 2ms/step - loss: 0.1728 - val_loss: 0.1991\n",
      "Epoch 34/50\n",
      "49/49 [==============================] - 0s 3ms/step - loss: 0.1721 - val_loss: 0.1997\n",
      "Epoch 35/50\n",
      "49/49 [==============================] - 0s 3ms/step - loss: 0.1713 - val_loss: 0.1995\n",
      "Epoch 36/50\n",
      "49/49 [==============================] - 0s 2ms/step - loss: 0.1715 - val_loss: 0.1996\n",
      "Epoch 37/50\n",
      "49/49 [==============================] - 0s 2ms/step - loss: 0.1705 - val_loss: 0.2011\n",
      "Epoch 38/50\n",
      "49/49 [==============================] - 0s 2ms/step - loss: 0.1709 - val_loss: 0.1994\n",
      "Epoch 39/50\n",
      "49/49 [==============================] - 0s 2ms/step - loss: 0.1707 - val_loss: 0.1998\n",
      "Epoch 40/50\n",
      "49/49 [==============================] - 0s 2ms/step - loss: 0.1695 - val_loss: 0.2015\n",
      "Epoch 41/50\n",
      "49/49 [==============================] - 0s 2ms/step - loss: 0.1690 - val_loss: 0.2002\n",
      "Epoch 42/50\n",
      "49/49 [==============================] - 0s 2ms/step - loss: 0.1685 - val_loss: 0.2014\n",
      "Epoch 43/50\n",
      "49/49 [==============================] - 0s 2ms/step - loss: 0.1681 - val_loss: 0.2005\n",
      "Epoch 44/50\n",
      "49/49 [==============================] - 0s 2ms/step - loss: 0.1675 - val_loss: 0.2005\n",
      "Epoch 45/50\n",
      "49/49 [==============================] - 0s 2ms/step - loss: 0.1677 - val_loss: 0.2009\n",
      "Epoch 46/50\n",
      "49/49 [==============================] - 0s 2ms/step - loss: 0.1670 - val_loss: 0.2008\n",
      "Epoch 47/50\n",
      "49/49 [==============================] - 0s 2ms/step - loss: 0.1668 - val_loss: 0.2035\n",
      "Epoch 48/50\n",
      "49/49 [==============================] - 0s 2ms/step - loss: 0.1666 - val_loss: 0.2027\n",
      "Epoch 49/50\n",
      "49/49 [==============================] - 0s 3ms/step - loss: 0.1662 - val_loss: 0.2027\n",
      "Epoch 50/50\n",
      "49/49 [==============================] - 0s 3ms/step - loss: 0.1653 - val_loss: 0.2025\n",
      "Minimum Validation Loss: 0.1953\n"
     ]
    },
    {
     "data": {
      "image/png": "[encoded data removed]",
      "text/plain": [
       "<Figure size 432x288 with 1 Axes>"
      ]
     },
     "metadata": {},
     "output_type": "display_data"
    }
   ],
   "source": [
    "model = keras.Sequential([\n",
    "    layers.Dense(128, activation='relu', input_shape=input_shape),\n",
    "    layers.Dense(64, activation='relu'),\n",
    "    layers.Dense(1)\n",
    "])\n",
    "model.compile(\n",
    "    optimizer='adam',\n",
    "    loss='mae',\n",
    ")\n",
    "history = model.fit(\n",
    "    X_train, y_train,\n",
    "    validation_data=(X_valid, y_valid),\n",
    "    batch_size=512,\n",
    "    epochs=50,\n",
    ")\n",
    "history_df = pd.DataFrame(history.history)\n",
    "history_df.loc[:, ['loss', 'val_loss']].plot()\n",
    "print(\"Minimum Validation Loss: {:0.4f}\".format(history_df['val_loss'].min()));"
   ]
  },
  {
   "cell_type": "markdown",
   "id": "e6fba58d",
   "metadata": {
    "papermill": {
     "duration": 0.013682,
     "end_time": "2022-12-06T16:30:27.911564",
     "exception": false,
     "start_time": "2022-12-06T16:30:27.897882",
     "status": "completed"
    },
    "tags": []
   },
   "source": [
    "# 2) Add Capacity\n",
    "\n",
    "What is your evaluation of these curves? Underfitting, overfitting, just right?"
   ]
  },
  {
   "cell_type": "code",
   "execution_count": 7,
   "id": "8b4333ba",
   "metadata": {
    "execution": {
     "iopub.execute_input": "2022-12-06T16:30:27.940806Z",
     "iopub.status.busy": "2022-12-06T16:30:27.940002Z",
     "iopub.status.idle": "2022-12-06T16:30:27.948162Z",
     "shell.execute_reply": "2022-12-06T16:30:27.947150Z"
    },
    "papermill": {
     "duration": 0.025528,
     "end_time": "2022-12-06T16:30:27.950857",
     "exception": false,
     "start_time": "2022-12-06T16:30:27.925329",
     "status": "completed"
    },
    "tags": []
   },
   "outputs": [
    {
     "data": {
      "application/javascript": [
       "parent.postMessage({\"jupyterEvent\": \"custom.exercise_interaction\", \"data\": {\"outcomeType\": 1, \"valueTowardsCompletion\": 0.25, \"interactionType\": 1, \"questionType\": 4, \"questionId\": \"2_Q2\", \"learnToolsVersion\": \"0.3.4\", \"failureMessage\": \"\", \"exceptionClass\": \"\", \"trace\": \"\"}}, \"*\")"
      ],
      "text/plain": [
       "<IPython.core.display.Javascript object>"
      ]
     },
     "metadata": {},
     "output_type": "display_data"
    },
    {
     "data": {
      "text/markdown": [
       "<span style=\"color:#33cc33\">Correct:</span> \n",
       "\n",
       "Now the validation loss begins to rise very early, while the training loss continues to decrease. This indicates that the network has begun to overfit. At this point, we would need to try something to prevent it, either by reducing the number of units or through a method like early stopping. (We'll see another in the next lesson!)"
      ],
      "text/plain": [
       "Correct: \n",
       "\n",
       "Now the validation loss begins to rise very early, while the training loss continues to decrease. This indicates that the network has begun to overfit. At this point, we would need to try something to prevent it, either by reducing the number of units or through a method like early stopping. (We'll see another in the next lesson!)"
      ]
     },
     "metadata": {},
     "output_type": "display_data"
    }
   ],
   "source": [
    "# View the solution (Run this cell to receive credit!)\n",
    "q_2.check()"
   ]
  },
  {
   "cell_type": "markdown",
   "id": "bd4d02f1",
   "metadata": {
    "papermill": {
     "duration": 0.013679,
     "end_time": "2022-12-06T16:30:27.978454",
     "exception": false,
     "start_time": "2022-12-06T16:30:27.964775",
     "status": "completed"
    },
    "tags": []
   },
   "source": [
    "# 3) Define Early Stopping Callback\n",
    "\n",
    "Now define an early stopping callback that waits 5 epochs (`patience'`) for a change in validation loss of at least `0.001` (`min_delta`) and keeps the weights with the best loss (`restore_best_weights`)."
   ]
  },
  {
   "cell_type": "code",
   "execution_count": 8,
   "id": "4954fe8a",
   "metadata": {
    "execution": {
     "iopub.execute_input": "2022-12-06T16:30:28.008109Z",
     "iopub.status.busy": "2022-12-06T16:30:28.007818Z",
     "iopub.status.idle": "2022-12-06T16:30:28.016993Z",
     "shell.execute_reply": "2022-12-06T16:30:28.016062Z"
    },
    "lines_to_next_cell": 0,
    "papermill": {
     "duration": 0.026686,
     "end_time": "2022-12-06T16:30:28.019026",
     "exception": false,
     "start_time": "2022-12-06T16:30:27.992340",
     "status": "completed"
    },
    "tags": []
   },
   "outputs": [
    {
     "data": {
      "application/javascript": [
       "parent.postMessage({\"jupyterEvent\": \"custom.exercise_interaction\", \"data\": {\"outcomeType\": 1, \"valueTowardsCompletion\": 0.25, \"interactionType\": 1, \"questionType\": 2, \"questionId\": \"3_Q3\", \"learnToolsVersion\": \"0.3.4\", \"failureMessage\": \"\", \"exceptionClass\": \"\", \"trace\": \"\"}}, \"*\")"
      ],
      "text/plain": [
       "<IPython.core.display.Javascript object>"
      ]
     },
     "metadata": {},
     "output_type": "display_data"
    },
    {
     "data": {
      "text/markdown": [
       "<span style=\"color:#33cc33\">Correct</span>"
      ],
      "text/plain": [
       "Correct"
      ]
     },
     "metadata": {},
     "output_type": "display_data"
    }
   ],
   "source": [
    "from tensorflow.keras import callbacks\n",
    "\n",
    "# YOUR CODE HERE: define an early stopping callback\n",
    "early_stopping = callbacks.EarlyStopping(min_delta=0.001,\n",
    "                                         patience=5, \n",
    "                                         restore_best_weights=True)\n",
    "\n",
    "# Check your answer\n",
    "q_3.check()"
   ]
  },
  {
   "cell_type": "code",
   "execution_count": 9,
   "id": "bdf8faf9",
   "metadata": {
    "execution": {
     "iopub.execute_input": "2022-12-06T16:30:28.048555Z",
     "iopub.status.busy": "2022-12-06T16:30:28.048284Z",
     "iopub.status.idle": "2022-12-06T16:30:28.062247Z",
     "shell.execute_reply": "2022-12-06T16:30:28.061243Z"
    },
    "papermill": {
     "duration": 0.03105,
     "end_time": "2022-12-06T16:30:28.064331",
     "exception": false,
     "start_time": "2022-12-06T16:30:28.033281",
     "status": "completed"
    },
    "tags": []
   },
   "outputs": [
    {
     "data": {
      "application/javascript": [
       "parent.postMessage({\"jupyterEvent\": \"custom.exercise_interaction\", \"data\": {\"interactionType\": 2, \"questionType\": 2, \"questionId\": \"3_Q3\", \"learnToolsVersion\": \"0.3.4\", \"valueTowardsCompletion\": 0.0, \"failureMessage\": \"\", \"exceptionClass\": \"\", \"trace\": \"\", \"outcomeType\": 4}}, \"*\")"
      ],
      "text/plain": [
       "<IPython.core.display.Javascript object>"
      ]
     },
     "metadata": {},
     "output_type": "display_data"
    },
    {
     "data": {
      "text/markdown": [
       "<span style=\"color:#3366cc\">Hint:</span> \n",
       "Your solution should look something like:\n",
       "\n",
       "```python\n",
       "early_stopping = callbacks.EarlyStopping(\n",
       "    patience=____,\n",
       "    min_delta=____,\n",
       "    restore_best_weights=____,\n",
       ")\n",
       "```\n"
      ],
      "text/plain": [
       "Hint: \n",
       "Your solution should look something like:\n",
       "\n",
       "```python\n",
       "early_stopping = callbacks.EarlyStopping(\n",
       "    patience=____,\n",
       "    min_delta=____,\n",
       "    restore_best_weights=____,\n",
       ")\n",
       "```"
      ]
     },
     "metadata": {},
     "output_type": "display_data"
    },
    {
     "data": {
      "application/javascript": [
       "parent.postMessage({\"jupyterEvent\": \"custom.exercise_interaction\", \"data\": {\"interactionType\": 3, \"questionType\": 2, \"questionId\": \"3_Q3\", \"learnToolsVersion\": \"0.3.4\", \"valueTowardsCompletion\": 0.0, \"failureMessage\": \"\", \"exceptionClass\": \"\", \"trace\": \"\", \"outcomeType\": 4}}, \"*\")"
      ],
      "text/plain": [
       "<IPython.core.display.Javascript object>"
      ]
     },
     "metadata": {},
     "output_type": "display_data"
    },
    {
     "data": {
      "text/markdown": [
       "<span style=\"color:#33cc99\">Solution:</span> \n",
       "```python\n",
       "\n",
       "early_stopping = callbacks.EarlyStopping(\n",
       "    patience=5,\n",
       "    min_delta=0.001,\n",
       "    restore_best_weights=True,\n",
       ")\n",
       "```"
      ],
      "text/plain": [
       "Solution: \n",
       "```python\n",
       "\n",
       "early_stopping = callbacks.EarlyStopping(\n",
       "    patience=5,\n",
       "    min_delta=0.001,\n",
       "    restore_best_weights=True,\n",
       ")\n",
       "```"
      ]
     },
     "metadata": {},
     "output_type": "display_data"
    }
   ],
   "source": [
    "# Lines below will give you a hint or solution code\n",
    "q_3.hint()\n",
    "q_3.solution()"
   ]
  },
  {
   "cell_type": "markdown",
   "id": "7cccaf84",
   "metadata": {
    "papermill": {
     "duration": 0.01425,
     "end_time": "2022-12-06T16:30:28.093321",
     "exception": false,
     "start_time": "2022-12-06T16:30:28.079071",
     "status": "completed"
    },
    "tags": []
   },
   "source": [
    "Now run this cell to train the model and get the learning curves. Notice the `callbacks` argument in `model.fit`."
   ]
  },
  {
   "cell_type": "code",
   "execution_count": 10,
   "id": "9c3b63f5",
   "metadata": {
    "execution": {
     "iopub.execute_input": "2022-12-06T16:30:28.123690Z",
     "iopub.status.busy": "2022-12-06T16:30:28.123431Z",
     "iopub.status.idle": "2022-12-06T16:30:30.543770Z",
     "shell.execute_reply": "2022-12-06T16:30:30.542767Z"
    },
    "papermill": {
     "duration": 2.437917,
     "end_time": "2022-12-06T16:30:30.545890",
     "exception": false,
     "start_time": "2022-12-06T16:30:28.107973",
     "status": "completed"
    },
    "tags": []
   },
   "outputs": [
    {
     "name": "stdout",
     "output_type": "stream",
     "text": [
      "Epoch 1/50\n",
      "49/49 [==============================] - 0s 4ms/step - loss: 0.2373 - val_loss: 0.2071\n",
      "Epoch 2/50\n",
      "49/49 [==============================] - 0s 3ms/step - loss: 0.2023 - val_loss: 0.2015\n",
      "Epoch 3/50\n",
      "49/49 [==============================] - 0s 3ms/step - loss: 0.1977 - val_loss: 0.1985\n",
      "Epoch 4/50\n",
      "49/49 [==============================] - 0s 3ms/step - loss: 0.1947 - val_loss: 0.1971\n",
      "Epoch 5/50\n",
      "49/49 [==============================] - 0s 2ms/step - loss: 0.1925 - val_loss: 0.1954\n",
      "Epoch 6/50\n",
      "49/49 [==============================] - 0s 2ms/step - loss: 0.1916 - val_loss: 0.1967\n",
      "Epoch 7/50\n",
      "49/49 [==============================] - 0s 2ms/step - loss: 0.1899 - val_loss: 0.1983\n",
      "Epoch 8/50\n",
      "49/49 [==============================] - 0s 3ms/step - loss: 0.1881 - val_loss: 0.1952\n",
      "Epoch 9/50\n",
      "49/49 [==============================] - 0s 2ms/step - loss: 0.1872 - val_loss: 0.1944\n",
      "Epoch 10/50\n",
      "49/49 [==============================] - 0s 2ms/step - loss: 0.1861 - val_loss: 0.1962\n",
      "Epoch 11/50\n",
      "49/49 [==============================] - 0s 2ms/step - loss: 0.1857 - val_loss: 0.1956\n",
      "Epoch 12/50\n",
      "49/49 [==============================] - 0s 2ms/step - loss: 0.1847 - val_loss: 0.1939\n",
      "Epoch 13/50\n",
      "49/49 [==============================] - 0s 2ms/step - loss: 0.1842 - val_loss: 0.1961\n",
      "Epoch 14/50\n",
      "49/49 [==============================] - 0s 3ms/step - loss: 0.1835 - val_loss: 0.1952\n",
      "Minimum Validation Loss: 0.1939\n"
     ]
    },
    {
     "data": {
      "image/png": "[encoded data removed]",
      "text/plain": [
       "<Figure size 432x288 with 1 Axes>"
      ]
     },
     "metadata": {},
     "output_type": "display_data"
    }
   ],
   "source": [
    "model = keras.Sequential([\n",
    "    layers.Dense(128, activation='relu', input_shape=input_shape),\n",
    "    layers.Dense(64, activation='relu'),    \n",
    "    layers.Dense(1)\n",
    "])\n",
    "model.compile(\n",
    "    optimizer='adam',\n",
    "    loss='mae',\n",
    ")\n",
    "history = model.fit(\n",
    "    X_train, y_train,\n",
    "    validation_data=(X_valid, y_valid),\n",
    "    batch_size=512,\n",
    "    epochs=50,\n",
    "    callbacks=[early_stopping]\n",
    ")\n",
    "history_df = pd.DataFrame(history.history)\n",
    "history_df.loc[:, ['loss', 'val_loss']].plot()\n",
    "print(\"Minimum Validation Loss: {:0.4f}\".format(history_df['val_loss'].min()));"
   ]
  },
  {
   "cell_type": "markdown",
   "id": "08d0c8f4",
   "metadata": {
    "papermill": {
     "duration": 0.017265,
     "end_time": "2022-12-06T16:30:30.580460",
     "exception": false,
     "start_time": "2022-12-06T16:30:30.563195",
     "status": "completed"
    },
    "tags": []
   },
   "source": [
    "# 4) Train and Interpret\n",
    "\n",
    "Was this an improvement compared to training without early stopping?"
   ]
  },
  {
   "cell_type": "code",
   "execution_count": 11,
   "id": "d05c3d12",
   "metadata": {
    "execution": {
     "iopub.execute_input": "2022-12-06T16:30:30.618659Z",
     "iopub.status.busy": "2022-12-06T16:30:30.618349Z",
     "iopub.status.idle": "2022-12-06T16:30:30.626758Z",
     "shell.execute_reply": "2022-12-06T16:30:30.625914Z"
    },
    "papermill": {
     "duration": 0.030377,
     "end_time": "2022-12-06T16:30:30.628731",
     "exception": false,
     "start_time": "2022-12-06T16:30:30.598354",
     "status": "completed"
    },
    "tags": []
   },
   "outputs": [
    {
     "data": {
      "application/javascript": [
       "parent.postMessage({\"jupyterEvent\": \"custom.exercise_interaction\", \"data\": {\"outcomeType\": 1, \"valueTowardsCompletion\": 0.25, \"interactionType\": 1, \"questionType\": 4, \"questionId\": \"4_Q4\", \"learnToolsVersion\": \"0.3.4\", \"failureMessage\": \"\", \"exceptionClass\": \"\", \"trace\": \"\"}}, \"*\")"
      ],
      "text/plain": [
       "<IPython.core.display.Javascript object>"
      ]
     },
     "metadata": {},
     "output_type": "display_data"
    },
    {
     "data": {
      "text/markdown": [
       "<span style=\"color:#33cc33\">Correct:</span> \n",
       "\n",
       "The early stopping callback did stop the training once the network began overfitting. Moreover, by including `restore_best_weights` we still get to keep the model where validation loss was lowest."
      ],
      "text/plain": [
       "Correct: \n",
       "\n",
       "The early stopping callback did stop the training once the network began overfitting. Moreover, by including `restore_best_weights` we still get to keep the model where validation loss was lowest."
      ]
     },
     "metadata": {},
     "output_type": "display_data"
    }
   ],
   "source": [
    "# View the solution (Run this cell to receive credit!)\n",
    "q_4.check()"
   ]
  },
  {
   "cell_type": "markdown",
   "id": "14adf85e",
   "metadata": {
    "papermill": {
     "duration": 0.017159,
     "end_time": "2022-12-06T16:30:30.663387",
     "exception": false,
     "start_time": "2022-12-06T16:30:30.646228",
     "status": "completed"
    },
    "tags": []
   },
   "source": [
    "If you like, try experimenting with `patience` and `min_delta` to see what difference it might make.\n",
    "\n",
    "# Keep Going #\n",
    "\n",
    "Move on to [**learn about a couple of special layers**](https://www.kaggle.com/ryanholbrook/dropout-and-batch-normalization): batch normalization and dropout."
   ]
  },
  {
   "cell_type": "markdown",
   "id": "01a656d1",
   "metadata": {
    "papermill": {
     "duration": 0.017549,
     "end_time": "2022-12-06T16:30:30.698476",
     "exception": false,
     "start_time": "2022-12-06T16:30:30.680927",
     "status": "completed"
    },
    "tags": []
   },
   "source": [
    "---\n",
    "\n",
    "\n",
    "\n",
    "\n",
    "*Have questions or comments? Visit the [course discussion forum](https://www.kaggle.com/learn/intro-to-deep-learning/discussion) to chat with other learners.*"
   ]
  }
 ],
 "metadata": {
  "kernelspec": {
   "display_name": "Python 3",
   "language": "python",
   "name": "python3"
  },
  "language_info": {
   "codemirror_mode": {
    "name": "ipython",
    "version": 3
   },
   "file_extension": ".py",
   "mimetype": "text/x-python",
   "name": "python",
   "nbconvert_exporter": "python",
   "pygments_lexer": "ipython3",
   "version": "3.7.12"
  },
  "papermill": {
   "default_parameters": {},
   "duration": 46.291375,
   "end_time": "2022-12-06T16:30:34.296708",
   "environment_variables": {},
   "exception": null,
   "input_path": "__notebook__.ipynb",
   "output_path": "__notebook__.ipynb",
   "parameters": {},
   "start_time": "2022-12-06T16:29:48.005333",
   "version": "2.3.4"
  }
 },
 "nbformat": 4,
 "nbformat_minor": 5
}

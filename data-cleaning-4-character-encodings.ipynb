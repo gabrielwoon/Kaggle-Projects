{
 "cells": [
  {
   "cell_type": "markdown",
   "id": "20b89d80",
   "metadata": {
    "papermill": {
     "duration": 0.006173,
     "end_time": "2022-12-01T14:44:26.953963",
     "exception": false,
     "start_time": "2022-12-01T14:44:26.947790",
     "status": "completed"
    },
    "tags": []
   },
   "source": [
    "**This notebook is an exercise in the [Data Cleaning](https://www.kaggle.com/learn/data-cleaning) course.  You can reference the tutorial at [this link](https://www.kaggle.com/alexisbcook/character-encodings).**\n",
    "\n",
    "---\n"
   ]
  },
  {
   "cell_type": "markdown",
   "id": "a10f7997",
   "metadata": {
    "papermill": {
     "duration": 0.004488,
     "end_time": "2022-12-01T14:44:26.963386",
     "exception": false,
     "start_time": "2022-12-01T14:44:26.958898",
     "status": "completed"
    },
    "tags": []
   },
   "source": [
    "In this exercise, you'll apply what you learned in the **Character encodings** tutorial.\n",
    "\n",
    "# Setup\n",
    "\n",
    "The questions below will give you feedback on your work. Run the following cell to set up the feedback system."
   ]
  },
  {
   "cell_type": "code",
   "execution_count": 1,
   "id": "82d8e244",
   "metadata": {
    "execution": {
     "iopub.execute_input": "2022-12-01T14:44:26.975838Z",
     "iopub.status.busy": "2022-12-01T14:44:26.974388Z",
     "iopub.status.idle": "2022-12-01T14:44:27.063629Z",
     "shell.execute_reply": "2022-12-01T14:44:27.062391Z"
    },
    "papermill": {
     "duration": 0.098395,
     "end_time": "2022-12-01T14:44:27.066497",
     "exception": false,
     "start_time": "2022-12-01T14:44:26.968102",
     "status": "completed"
    },
    "tags": []
   },
   "outputs": [
    {
     "name": "stdout",
     "output_type": "stream",
     "text": [
      "Setup Complete\n"
     ]
    }
   ],
   "source": [
    "from learntools.core import binder\n",
    "binder.bind(globals())\n",
    "from learntools.data_cleaning.ex4 import *\n",
    "print(\"Setup Complete\")"
   ]
  },
  {
   "cell_type": "markdown",
   "id": "35795e4f",
   "metadata": {
    "papermill": {
     "duration": 0.00449,
     "end_time": "2022-12-01T14:44:27.075945",
     "exception": false,
     "start_time": "2022-12-01T14:44:27.071455",
     "status": "completed"
    },
    "tags": []
   },
   "source": [
    "# Get our environment set up\n",
    "\n",
    "The first thing we'll need to do is load in the libraries we'll be using."
   ]
  },
  {
   "cell_type": "code",
   "execution_count": 2,
   "id": "d8c9312f",
   "metadata": {
    "execution": {
     "iopub.execute_input": "2022-12-01T14:44:27.087238Z",
     "iopub.status.busy": "2022-12-01T14:44:27.086802Z",
     "iopub.status.idle": "2022-12-01T14:44:27.092016Z",
     "shell.execute_reply": "2022-12-01T14:44:27.090829Z"
    },
    "papermill": {
     "duration": 0.013453,
     "end_time": "2022-12-01T14:44:27.094210",
     "exception": false,
     "start_time": "2022-12-01T14:44:27.080757",
     "status": "completed"
    },
    "tags": []
   },
   "outputs": [],
   "source": [
    "# modules we'll use\n",
    "import pandas as pd\n",
    "import numpy as np\n",
    "\n",
    "# helpful character encoding module\n",
    "import chardet\n",
    "\n",
    "# set seed for reproducibility\n",
    "np.random.seed(0)"
   ]
  },
  {
   "cell_type": "markdown",
   "id": "248fe8ed",
   "metadata": {
    "papermill": {
     "duration": 0.004357,
     "end_time": "2022-12-01T14:44:27.103267",
     "exception": false,
     "start_time": "2022-12-01T14:44:27.098910",
     "status": "completed"
    },
    "tags": []
   },
   "source": [
    "# 1) What are encodings?\n",
    "\n",
    "You're working with a dataset composed of bytes.  Run the code cell below to print a sample entry."
   ]
  },
  {
   "cell_type": "code",
   "execution_count": 3,
   "id": "a32a3c94",
   "metadata": {
    "execution": {
     "iopub.execute_input": "2022-12-01T14:44:27.114346Z",
     "iopub.status.busy": "2022-12-01T14:44:27.113622Z",
     "iopub.status.idle": "2022-12-01T14:44:27.119051Z",
     "shell.execute_reply": "2022-12-01T14:44:27.117838Z"
    },
    "papermill": {
     "duration": 0.013719,
     "end_time": "2022-12-01T14:44:27.121467",
     "exception": false,
     "start_time": "2022-12-01T14:44:27.107748",
     "status": "completed"
    },
    "tags": []
   },
   "outputs": [
    {
     "name": "stdout",
     "output_type": "stream",
     "text": [
      "b'\\xa7A\\xa6n'\n",
      "data type: <class 'bytes'>\n"
     ]
    }
   ],
   "source": [
    "sample_entry = b'\\xa7A\\xa6n'\n",
    "print(sample_entry)\n",
    "print('data type:', type(sample_entry))"
   ]
  },
  {
   "cell_type": "markdown",
   "id": "8b1939ae",
   "metadata": {
    "papermill": {
     "duration": 0.00442,
     "end_time": "2022-12-01T14:44:27.130547",
     "exception": false,
     "start_time": "2022-12-01T14:44:27.126127",
     "status": "completed"
    },
    "tags": []
   },
   "source": [
    "You notice that it doesn't use the standard UTF-8 encoding. \n",
    "\n",
    "Use the next code cell to create a variable `new_entry` that changes the encoding from `\"big5-tw\"` to `\"utf-8\"`.  `new_entry` should have the bytes datatype."
   ]
  },
  {
   "cell_type": "code",
   "execution_count": 4,
   "id": "050eaabe",
   "metadata": {
    "execution": {
     "iopub.execute_input": "2022-12-01T14:44:27.141682Z",
     "iopub.status.busy": "2022-12-01T14:44:27.140801Z",
     "iopub.status.idle": "2022-12-01T14:44:27.150503Z",
     "shell.execute_reply": "2022-12-01T14:44:27.149743Z"
    },
    "papermill": {
     "duration": 0.017398,
     "end_time": "2022-12-01T14:44:27.152470",
     "exception": false,
     "start_time": "2022-12-01T14:44:27.135072",
     "status": "completed"
    },
    "tags": []
   },
   "outputs": [
    {
     "data": {
      "application/javascript": [
       "parent.postMessage({\"jupyterEvent\": \"custom.exercise_interaction\", \"data\": {\"outcomeType\": 1, \"valueTowardsCompletion\": 0.3333333333333333, \"interactionType\": 1, \"questionType\": 1, \"questionId\": \"1_EncodingsIntro\", \"learnToolsVersion\": \"0.3.4\", \"failureMessage\": \"\", \"exceptionClass\": \"\", \"trace\": \"\"}}, \"*\")"
      ],
      "text/plain": [
       "<IPython.core.display.Javascript object>"
      ]
     },
     "metadata": {},
     "output_type": "display_data"
    },
    {
     "data": {
      "text/markdown": [
       "<span style=\"color:#33cc33\">Correct</span>"
      ],
      "text/plain": [
       "Correct"
      ]
     },
     "metadata": {},
     "output_type": "display_data"
    }
   ],
   "source": [
    "before = sample_entry.decode(\"big5-tw\")\n",
    "new_entry = before.encode()\n",
    "\n",
    "# Check your answer\n",
    "q1.check()"
   ]
  },
  {
   "cell_type": "code",
   "execution_count": 5,
   "id": "3a395f85",
   "metadata": {
    "execution": {
     "iopub.execute_input": "2022-12-01T14:44:27.164199Z",
     "iopub.status.busy": "2022-12-01T14:44:27.163588Z",
     "iopub.status.idle": "2022-12-01T14:44:27.173766Z",
     "shell.execute_reply": "2022-12-01T14:44:27.172754Z"
    },
    "papermill": {
     "duration": 0.018436,
     "end_time": "2022-12-01T14:44:27.175806",
     "exception": false,
     "start_time": "2022-12-01T14:44:27.157370",
     "status": "completed"
    },
    "tags": []
   },
   "outputs": [
    {
     "data": {
      "application/javascript": [
       "parent.postMessage({\"jupyterEvent\": \"custom.exercise_interaction\", \"data\": {\"interactionType\": 2, \"questionType\": 1, \"questionId\": \"1_EncodingsIntro\", \"learnToolsVersion\": \"0.3.4\", \"valueTowardsCompletion\": 0.0, \"failureMessage\": \"\", \"exceptionClass\": \"\", \"trace\": \"\", \"outcomeType\": 4}}, \"*\")"
      ],
      "text/plain": [
       "<IPython.core.display.Javascript object>"
      ]
     },
     "metadata": {},
     "output_type": "display_data"
    },
    {
     "data": {
      "text/markdown": [
       "<span style=\"color:#3366cc\">Hint:</span> Try using `.decode()` to get the string, then `.encode()` to get the bytes representation, encoded in UTF-8."
      ],
      "text/plain": [
       "Hint: Try using `.decode()` to get the string, then `.encode()` to get the bytes representation, encoded in UTF-8."
      ]
     },
     "metadata": {},
     "output_type": "display_data"
    },
    {
     "data": {
      "application/javascript": [
       "parent.postMessage({\"jupyterEvent\": \"custom.exercise_interaction\", \"data\": {\"interactionType\": 3, \"questionType\": 1, \"questionId\": \"1_EncodingsIntro\", \"learnToolsVersion\": \"0.3.4\", \"valueTowardsCompletion\": 0.0, \"failureMessage\": \"\", \"exceptionClass\": \"\", \"trace\": \"\", \"outcomeType\": 4}}, \"*\")"
      ],
      "text/plain": [
       "<IPython.core.display.Javascript object>"
      ]
     },
     "metadata": {},
     "output_type": "display_data"
    },
    {
     "data": {
      "text/markdown": [
       "<span style=\"color:#33cc99\">Solution:</span> \n",
       "```python\n",
       "before = sample_entry.decode(\"big5-tw\")\n",
       "new_entry = before.encode()\n",
       "\n",
       "```"
      ],
      "text/plain": [
       "Solution: \n",
       "```python\n",
       "before = sample_entry.decode(\"big5-tw\")\n",
       "new_entry = before.encode()\n",
       "\n",
       "```"
      ]
     },
     "metadata": {},
     "output_type": "display_data"
    }
   ],
   "source": [
    "# Lines below will give you a hint or solution code\n",
    "q1.hint()\n",
    "q1.solution()"
   ]
  },
  {
   "cell_type": "markdown",
   "id": "484a253e",
   "metadata": {
    "papermill": {
     "duration": 0.005169,
     "end_time": "2022-12-01T14:44:27.186366",
     "exception": false,
     "start_time": "2022-12-01T14:44:27.181197",
     "status": "completed"
    },
    "tags": []
   },
   "source": [
    "# 2) Reading in files with encoding problems\n",
    "\n",
    "Use the code cell below to read in this file at path `\"../input/fatal-police-shootings-in-the-us/PoliceKillingsUS.csv\"`.  \n",
    "\n",
    "Figure out what the correct encoding should be and read in the file to a DataFrame `police_killings`."
   ]
  },
  {
   "cell_type": "code",
   "execution_count": 6,
   "id": "50e197b9",
   "metadata": {
    "execution": {
     "iopub.execute_input": "2022-12-01T14:44:27.199012Z",
     "iopub.status.busy": "2022-12-01T14:44:27.198357Z",
     "iopub.status.idle": "2022-12-01T14:44:27.224610Z",
     "shell.execute_reply": "2022-12-01T14:44:27.223462Z"
    },
    "papermill": {
     "duration": 0.035225,
     "end_time": "2022-12-01T14:44:27.226930",
     "exception": false,
     "start_time": "2022-12-01T14:44:27.191705",
     "status": "completed"
    },
    "tags": []
   },
   "outputs": [
    {
     "data": {
      "application/javascript": [
       "parent.postMessage({\"jupyterEvent\": \"custom.exercise_interaction\", \"data\": {\"outcomeType\": 1, \"valueTowardsCompletion\": 0.3333333333333333, \"interactionType\": 1, \"questionType\": 1, \"questionId\": \"2_ReadIn\", \"learnToolsVersion\": \"0.3.4\", \"failureMessage\": \"\", \"exceptionClass\": \"\", \"trace\": \"\"}}, \"*\")"
      ],
      "text/plain": [
       "<IPython.core.display.Javascript object>"
      ]
     },
     "metadata": {},
     "output_type": "display_data"
    },
    {
     "data": {
      "text/markdown": [
       "<span style=\"color:#33cc33\">Correct</span>"
      ],
      "text/plain": [
       "Correct"
      ]
     },
     "metadata": {},
     "output_type": "display_data"
    }
   ],
   "source": [
    "# TODO: Load in the DataFrame correctly.\n",
    "police_killings = pd.read_csv(\"../input/fatal-police-shootings-in-the-us/PoliceKillingsUS.csv\", encoding='Windows-1252')\n",
    "\n",
    "# Check your answer\n",
    "q2.check()"
   ]
  },
  {
   "cell_type": "markdown",
   "id": "3c3d40b8",
   "metadata": {
    "papermill": {
     "duration": 0.005382,
     "end_time": "2022-12-01T14:44:27.237919",
     "exception": false,
     "start_time": "2022-12-01T14:44:27.232537",
     "status": "completed"
    },
    "tags": []
   },
   "source": [
    "Feel free to use any additional code cells for supplemental work.  To get credit for finishing this question, you'll need to run `q2.check()` and get a result of **Correct**."
   ]
  },
  {
   "cell_type": "code",
   "execution_count": 7,
   "id": "ff206e74",
   "metadata": {
    "execution": {
     "iopub.execute_input": "2022-12-01T14:44:27.252135Z",
     "iopub.status.busy": "2022-12-01T14:44:27.251471Z",
     "iopub.status.idle": "2022-12-01T14:44:27.256094Z",
     "shell.execute_reply": "2022-12-01T14:44:27.255357Z"
    },
    "papermill": {
     "duration": 0.013604,
     "end_time": "2022-12-01T14:44:27.258144",
     "exception": false,
     "start_time": "2022-12-01T14:44:27.244540",
     "status": "completed"
    },
    "tags": []
   },
   "outputs": [],
   "source": [
    "# (Optional) Use this code cell for any additional work."
   ]
  },
  {
   "cell_type": "code",
   "execution_count": 8,
   "id": "c4ba1eba",
   "metadata": {
    "execution": {
     "iopub.execute_input": "2022-12-01T14:44:27.271304Z",
     "iopub.status.busy": "2022-12-01T14:44:27.270664Z",
     "iopub.status.idle": "2022-12-01T14:44:27.282925Z",
     "shell.execute_reply": "2022-12-01T14:44:27.281885Z"
    },
    "papermill": {
     "duration": 0.021567,
     "end_time": "2022-12-01T14:44:27.285326",
     "exception": false,
     "start_time": "2022-12-01T14:44:27.263759",
     "status": "completed"
    },
    "tags": []
   },
   "outputs": [
    {
     "data": {
      "application/javascript": [
       "parent.postMessage({\"jupyterEvent\": \"custom.exercise_interaction\", \"data\": {\"interactionType\": 2, \"questionType\": 1, \"questionId\": \"2_ReadIn\", \"learnToolsVersion\": \"0.3.4\", \"valueTowardsCompletion\": 0.0, \"failureMessage\": \"\", \"exceptionClass\": \"\", \"trace\": \"\", \"outcomeType\": 4}}, \"*\")"
      ],
      "text/plain": [
       "<IPython.core.display.Javascript object>"
      ]
     },
     "metadata": {},
     "output_type": "display_data"
    },
    {
     "data": {
      "text/markdown": [
       "<span style=\"color:#3366cc\">Hint:</span> If you try to guess the encoding with the first 10,000 bytes of the file, it might give you the wrong answer.  Try using 100,000 or more lines of the file."
      ],
      "text/plain": [
       "Hint: If you try to guess the encoding with the first 10,000 bytes of the file, it might give you the wrong answer.  Try using 100,000 or more lines of the file."
      ]
     },
     "metadata": {},
     "output_type": "display_data"
    },
    {
     "data": {
      "application/javascript": [
       "parent.postMessage({\"jupyterEvent\": \"custom.exercise_interaction\", \"data\": {\"interactionType\": 3, \"questionType\": 1, \"questionId\": \"2_ReadIn\", \"learnToolsVersion\": \"0.3.4\", \"valueTowardsCompletion\": 0.0, \"failureMessage\": \"\", \"exceptionClass\": \"\", \"trace\": \"\", \"outcomeType\": 4}}, \"*\")"
      ],
      "text/plain": [
       "<IPython.core.display.Javascript object>"
      ]
     },
     "metadata": {},
     "output_type": "display_data"
    },
    {
     "data": {
      "text/markdown": [
       "<span style=\"color:#33cc99\">Solution:</span> \n",
       "```python\n",
       "police_killings = pd.read_csv(\"../input/fatal-police-shootings-in-the-us/PoliceKillingsUS.csv\", encoding='Windows-1252')\n",
       "\n",
       "```"
      ],
      "text/plain": [
       "Solution: \n",
       "```python\n",
       "police_killings = pd.read_csv(\"../input/fatal-police-shootings-in-the-us/PoliceKillingsUS.csv\", encoding='Windows-1252')\n",
       "\n",
       "```"
      ]
     },
     "metadata": {},
     "output_type": "display_data"
    }
   ],
   "source": [
    "# Lines below will give you a hint or solution code\n",
    "q2.hint()\n",
    "q2.solution()"
   ]
  },
  {
   "cell_type": "markdown",
   "id": "cb98bbee",
   "metadata": {
    "papermill": {
     "duration": 0.005857,
     "end_time": "2022-12-01T14:44:27.297234",
     "exception": false,
     "start_time": "2022-12-01T14:44:27.291377",
     "status": "completed"
    },
    "tags": []
   },
   "source": [
    "# 3) Saving your files with UTF-8 encoding\n",
    "\n",
    "Save a version of the police killings dataset to CSV with UTF-8 encoding.  Your answer will be marked correct after saving this file.  \n",
    "\n",
    "Note: When using the `to_csv()` method, supply only the name of the file (e.g., `\"my_file.csv\"`).  This saves the file at the filepath `\"/kaggle/working/my_file.csv\"`."
   ]
  },
  {
   "cell_type": "code",
   "execution_count": 9,
   "id": "c8d3d8b3",
   "metadata": {
    "execution": {
     "iopub.execute_input": "2022-12-01T14:44:27.311613Z",
     "iopub.status.busy": "2022-12-01T14:44:27.310948Z",
     "iopub.status.idle": "2022-12-01T14:44:27.347077Z",
     "shell.execute_reply": "2022-12-01T14:44:27.346042Z"
    },
    "papermill": {
     "duration": 0.046107,
     "end_time": "2022-12-01T14:44:27.349355",
     "exception": false,
     "start_time": "2022-12-01T14:44:27.303248",
     "status": "completed"
    },
    "tags": []
   },
   "outputs": [
    {
     "data": {
      "application/javascript": [
       "parent.postMessage({\"jupyterEvent\": \"custom.exercise_interaction\", \"data\": {\"outcomeType\": 1, \"valueTowardsCompletion\": 0.3333333333333333, \"interactionType\": 1, \"questionType\": 2, \"questionId\": \"3_SaveCSV\", \"learnToolsVersion\": \"0.3.4\", \"failureMessage\": \"\", \"exceptionClass\": \"\", \"trace\": \"\"}}, \"*\")"
      ],
      "text/plain": [
       "<IPython.core.display.Javascript object>"
      ]
     },
     "metadata": {},
     "output_type": "display_data"
    },
    {
     "data": {
      "text/markdown": [
       "<span style=\"color:#33cc33\">Correct</span>"
      ],
      "text/plain": [
       "Correct"
      ]
     },
     "metadata": {},
     "output_type": "display_data"
    }
   ],
   "source": [
    "# TODO: Save the police killings dataset to CSV\n",
    "police_killings.to_csv(\"my_file.csv\")\n",
    "\n",
    "# Check your answer\n",
    "q3.check()"
   ]
  },
  {
   "cell_type": "code",
   "execution_count": 10,
   "id": "cd8c963a",
   "metadata": {
    "execution": {
     "iopub.execute_input": "2022-12-01T14:44:27.363802Z",
     "iopub.status.busy": "2022-12-01T14:44:27.363442Z",
     "iopub.status.idle": "2022-12-01T14:44:27.374711Z",
     "shell.execute_reply": "2022-12-01T14:44:27.373951Z"
    },
    "papermill": {
     "duration": 0.020955,
     "end_time": "2022-12-01T14:44:27.376687",
     "exception": false,
     "start_time": "2022-12-01T14:44:27.355732",
     "status": "completed"
    },
    "tags": []
   },
   "outputs": [
    {
     "data": {
      "application/javascript": [
       "parent.postMessage({\"jupyterEvent\": \"custom.exercise_interaction\", \"data\": {\"interactionType\": 2, \"questionType\": 2, \"questionId\": \"3_SaveCSV\", \"learnToolsVersion\": \"0.3.4\", \"valueTowardsCompletion\": 0.0, \"failureMessage\": \"\", \"exceptionClass\": \"\", \"trace\": \"\", \"outcomeType\": 4}}, \"*\")"
      ],
      "text/plain": [
       "<IPython.core.display.Javascript object>"
      ]
     },
     "metadata": {},
     "output_type": "display_data"
    },
    {
     "data": {
      "text/markdown": [
       "<span style=\"color:#3366cc\">Hint:</span> Use `.to_csv().`"
      ],
      "text/plain": [
       "Hint: Use `.to_csv().`"
      ]
     },
     "metadata": {},
     "output_type": "display_data"
    },
    {
     "data": {
      "application/javascript": [
       "parent.postMessage({\"jupyterEvent\": \"custom.exercise_interaction\", \"data\": {\"interactionType\": 3, \"questionType\": 2, \"questionId\": \"3_SaveCSV\", \"learnToolsVersion\": \"0.3.4\", \"valueTowardsCompletion\": 0.0, \"failureMessage\": \"\", \"exceptionClass\": \"\", \"trace\": \"\", \"outcomeType\": 4}}, \"*\")"
      ],
      "text/plain": [
       "<IPython.core.display.Javascript object>"
      ]
     },
     "metadata": {},
     "output_type": "display_data"
    },
    {
     "data": {
      "text/markdown": [
       "<span style=\"color:#33cc99\">Solution:</span> \n",
       "```python\n",
       "\n",
       "police_killings.to_csv(\"my_file.csv\")\n",
       "\n",
       "```"
      ],
      "text/plain": [
       "Solution: \n",
       "```python\n",
       "\n",
       "police_killings.to_csv(\"my_file.csv\")\n",
       "\n",
       "```"
      ]
     },
     "metadata": {},
     "output_type": "display_data"
    }
   ],
   "source": [
    "# Lines below will give you a hint or solution code\n",
    "q3.hint()\n",
    "q3.solution()"
   ]
  },
  {
   "cell_type": "markdown",
   "id": "28c5b4b5",
   "metadata": {
    "papermill": {
     "duration": 0.00653,
     "end_time": "2022-12-01T14:44:27.390296",
     "exception": false,
     "start_time": "2022-12-01T14:44:27.383766",
     "status": "completed"
    },
    "tags": []
   },
   "source": [
    "# (Optional) More practice\n",
    "\n",
    "Check out [this dataset of files in different character encodings](https://www.kaggle.com/rtatman/character-encoding-examples). Can you read in all the files with their original encodings and them save them out as UTF-8 files?\n",
    "\n",
    "If you have a file that's in UTF-8 but has just a couple of weird-looking characters in it, you can try out the [ftfy module](https://ftfy.readthedocs.io/en/latest/#) and see if it helps. \n",
    "\n",
    "# Keep going\n",
    "\n",
    "In the final lesson, learn how to [**clean up inconsistent text entries**](https://www.kaggle.com/alexisbcook/inconsistent-data-entry) in your dataset."
   ]
  },
  {
   "cell_type": "markdown",
   "id": "a5083873",
   "metadata": {
    "papermill": {
     "duration": 0.006466,
     "end_time": "2022-12-01T14:44:27.403491",
     "exception": false,
     "start_time": "2022-12-01T14:44:27.397025",
     "status": "completed"
    },
    "tags": []
   },
   "source": [
    "---\n",
    "\n",
    "\n",
    "\n",
    "\n",
    "*Have questions or comments? Visit the [course discussion forum](https://www.kaggle.com/learn/data-cleaning/discussion) to chat with other learners.*"
   ]
  }
 ],
 "metadata": {
  "kernelspec": {
   "display_name": "Python 3",
   "language": "python",
   "name": "python3"
  },
  "language_info": {
   "codemirror_mode": {
    "name": "ipython",
    "version": 3
   },
   "file_extension": ".py",
   "mimetype": "text/x-python",
   "name": "python",
   "nbconvert_exporter": "python",
   "pygments_lexer": "ipython3",
   "version": "3.7.12"
  },
  "papermill": {
   "default_parameters": {},
   "duration": 9.482827,
   "end_time": "2022-12-01T14:44:28.038829",
   "environment_variables": {},
   "exception": null,
   "input_path": "__notebook__.ipynb",
   "output_path": "__notebook__.ipynb",
   "parameters": {},
   "start_time": "2022-12-01T14:44:18.556002",
   "version": "2.3.4"
  }
 },
 "nbformat": 4,
 "nbformat_minor": 5
}

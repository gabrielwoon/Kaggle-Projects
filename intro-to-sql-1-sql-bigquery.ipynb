{
 "cells": [
  {
   "cell_type": "markdown",
   "id": "021fab90",
   "metadata": {
    "papermill": {
     "duration": 0.005546,
     "end_time": "2022-12-13T13:54:56.912897",
     "exception": false,
     "start_time": "2022-12-13T13:54:56.907351",
     "status": "completed"
    },
    "tags": []
   },
   "source": [
    "**This notebook is an exercise in the [SQL](https://www.kaggle.com/learn/intro-to-sql) course.  You can reference the tutorial at [this link](https://www.kaggle.com/dansbecker/getting-started-with-sql-and-bigquery).**\n",
    "\n",
    "---\n"
   ]
  },
  {
   "cell_type": "markdown",
   "id": "55de49cb",
   "metadata": {
    "papermill": {
     "duration": 0.004722,
     "end_time": "2022-12-13T13:54:56.922457",
     "exception": false,
     "start_time": "2022-12-13T13:54:56.917735",
     "status": "completed"
    },
    "tags": []
   },
   "source": [
    "# Introduction\n",
    "\n",
    "The first test of your new data exploration skills uses data describing crime in the city of Chicago.\n",
    "\n",
    "Before you get started, run the following cell. It sets up the automated feedback system to review your answers."
   ]
  },
  {
   "cell_type": "code",
   "execution_count": 1,
   "id": "df9ed50a",
   "metadata": {
    "execution": {
     "iopub.execute_input": "2022-12-13T13:54:56.933913Z",
     "iopub.status.busy": "2022-12-13T13:54:56.933323Z",
     "iopub.status.idle": "2022-12-13T13:54:57.660475Z",
     "shell.execute_reply": "2022-12-13T13:54:57.659061Z"
    },
    "papermill": {
     "duration": 0.735668,
     "end_time": "2022-12-13T13:54:57.662875",
     "exception": false,
     "start_time": "2022-12-13T13:54:56.927207",
     "status": "completed"
    },
    "tags": []
   },
   "outputs": [
    {
     "name": "stdout",
     "output_type": "stream",
     "text": [
      "Using Kaggle's public dataset BigQuery integration.\n",
      "Setup Complete\n"
     ]
    }
   ],
   "source": [
    "# Set up feedack system\n",
    "from learntools.core import binder\n",
    "binder.bind(globals())\n",
    "from learntools.sql.ex1 import *\n",
    "print(\"Setup Complete\")"
   ]
  },
  {
   "cell_type": "markdown",
   "id": "157641f3",
   "metadata": {
    "papermill": {
     "duration": 0.005468,
     "end_time": "2022-12-13T13:54:57.673844",
     "exception": false,
     "start_time": "2022-12-13T13:54:57.668376",
     "status": "completed"
    },
    "tags": []
   },
   "source": [
    "Use the next code cell to fetch the dataset."
   ]
  },
  {
   "cell_type": "code",
   "execution_count": 2,
   "id": "de319dff",
   "metadata": {
    "execution": {
     "iopub.execute_input": "2022-12-13T13:54:57.686559Z",
     "iopub.status.busy": "2022-12-13T13:54:57.685849Z",
     "iopub.status.idle": "2022-12-13T13:54:57.937205Z",
     "shell.execute_reply": "2022-12-13T13:54:57.935814Z"
    },
    "papermill": {
     "duration": 0.260685,
     "end_time": "2022-12-13T13:54:57.939826",
     "exception": false,
     "start_time": "2022-12-13T13:54:57.679141",
     "status": "completed"
    },
    "tags": []
   },
   "outputs": [
    {
     "name": "stdout",
     "output_type": "stream",
     "text": [
      "Using Kaggle's public dataset BigQuery integration.\n"
     ]
    }
   ],
   "source": [
    "from google.cloud import bigquery\n",
    "\n",
    "# Create a \"Client\" object\n",
    "client = bigquery.Client()\n",
    "\n",
    "# Construct a reference to the \"chicago_crime\" dataset\n",
    "dataset_ref = client.dataset(\"chicago_crime\", project=\"bigquery-public-data\")\n",
    "\n",
    "# API request - fetch the dataset\n",
    "dataset = client.get_dataset(dataset_ref)"
   ]
  },
  {
   "cell_type": "markdown",
   "id": "5592e11b",
   "metadata": {
    "papermill": {
     "duration": 0.00466,
     "end_time": "2022-12-13T13:54:57.949817",
     "exception": false,
     "start_time": "2022-12-13T13:54:57.945157",
     "status": "completed"
    },
    "tags": []
   },
   "source": [
    "# Exercises\n",
    "\n",
    "### 1) Count tables in the dataset\n",
    "\n",
    "How many tables are in the Chicago Crime dataset?"
   ]
  },
  {
   "cell_type": "code",
   "execution_count": 3,
   "id": "98d2e20c",
   "metadata": {
    "execution": {
     "iopub.execute_input": "2022-12-13T13:54:57.961345Z",
     "iopub.status.busy": "2022-12-13T13:54:57.960916Z",
     "iopub.status.idle": "2022-12-13T13:54:58.153424Z",
     "shell.execute_reply": "2022-12-13T13:54:58.152507Z"
    },
    "papermill": {
     "duration": 0.200518,
     "end_time": "2022-12-13T13:54:58.155219",
     "exception": false,
     "start_time": "2022-12-13T13:54:57.954701",
     "status": "completed"
    },
    "tags": []
   },
   "outputs": [
    {
     "name": "stdout",
     "output_type": "stream",
     "text": [
      "1\n"
     ]
    }
   ],
   "source": [
    "# Write the code you need here to figure out the answer\n",
    "tables = list(client.list_tables(dataset))\n",
    "\n",
    "print(len(tables))"
   ]
  },
  {
   "cell_type": "code",
   "execution_count": 4,
   "id": "c17e8121",
   "metadata": {
    "execution": {
     "iopub.execute_input": "2022-12-13T13:54:58.167289Z",
     "iopub.status.busy": "2022-12-13T13:54:58.166823Z",
     "iopub.status.idle": "2022-12-13T13:54:58.178065Z",
     "shell.execute_reply": "2022-12-13T13:54:58.177076Z"
    },
    "papermill": {
     "duration": 0.019818,
     "end_time": "2022-12-13T13:54:58.180077",
     "exception": false,
     "start_time": "2022-12-13T13:54:58.160259",
     "status": "completed"
    },
    "tags": []
   },
   "outputs": [
    {
     "data": {
      "application/javascript": [
       "parent.postMessage({\"jupyterEvent\": \"custom.exercise_interaction\", \"data\": {\"outcomeType\": 1, \"valueTowardsCompletion\": 0.3333333333333333, \"interactionType\": 1, \"questionType\": 1, \"questionId\": \"1_CountTables\", \"learnToolsVersion\": \"0.3.4\", \"failureMessage\": \"\", \"exceptionClass\": \"\", \"trace\": \"\"}}, \"*\")"
      ],
      "text/plain": [
       "<IPython.core.display.Javascript object>"
      ]
     },
     "metadata": {},
     "output_type": "display_data"
    },
    {
     "data": {
      "text/markdown": [
       "<span style=\"color:#33cc33\">Correct</span>"
      ],
      "text/plain": [
       "Correct"
      ]
     },
     "metadata": {},
     "output_type": "display_data"
    }
   ],
   "source": [
    "num_tables = 1  # Store the answer as num_tables and then run this cell\n",
    "\n",
    "# Check your answer\n",
    "q_1.check()"
   ]
  },
  {
   "cell_type": "markdown",
   "id": "ff76d1b1",
   "metadata": {
    "papermill": {
     "duration": 0.005001,
     "end_time": "2022-12-13T13:54:58.191704",
     "exception": false,
     "start_time": "2022-12-13T13:54:58.186703",
     "status": "completed"
    },
    "tags": []
   },
   "source": [
    "For a hint or the solution, uncomment the appropriate line below."
   ]
  },
  {
   "cell_type": "code",
   "execution_count": 5,
   "id": "a1970b04",
   "metadata": {
    "execution": {
     "iopub.execute_input": "2022-12-13T13:54:58.204464Z",
     "iopub.status.busy": "2022-12-13T13:54:58.203745Z",
     "iopub.status.idle": "2022-12-13T13:54:58.215161Z",
     "shell.execute_reply": "2022-12-13T13:54:58.214415Z"
    },
    "papermill": {
     "duration": 0.019854,
     "end_time": "2022-12-13T13:54:58.217075",
     "exception": false,
     "start_time": "2022-12-13T13:54:58.197221",
     "status": "completed"
    },
    "tags": []
   },
   "outputs": [
    {
     "data": {
      "application/javascript": [
       "parent.postMessage({\"jupyterEvent\": \"custom.exercise_interaction\", \"data\": {\"interactionType\": 2, \"questionType\": 1, \"questionId\": \"1_CountTables\", \"learnToolsVersion\": \"0.3.4\", \"valueTowardsCompletion\": 0.0, \"failureMessage\": \"\", \"exceptionClass\": \"\", \"trace\": \"\", \"outcomeType\": 4}}, \"*\")"
      ],
      "text/plain": [
       "<IPython.core.display.Javascript object>"
      ]
     },
     "metadata": {},
     "output_type": "display_data"
    },
    {
     "data": {
      "text/markdown": [
       "<span style=\"color:#3366cc\">Hint:</span> Use the `list_tables()` method to get a list of the tables in the dataset."
      ],
      "text/plain": [
       "Hint: Use the `list_tables()` method to get a list of the tables in the dataset."
      ]
     },
     "metadata": {},
     "output_type": "display_data"
    },
    {
     "data": {
      "application/javascript": [
       "parent.postMessage({\"jupyterEvent\": \"custom.exercise_interaction\", \"data\": {\"interactionType\": 3, \"questionType\": 1, \"questionId\": \"1_CountTables\", \"learnToolsVersion\": \"0.3.4\", \"valueTowardsCompletion\": 0.0, \"failureMessage\": \"\", \"exceptionClass\": \"\", \"trace\": \"\", \"outcomeType\": 4}}, \"*\")"
      ],
      "text/plain": [
       "<IPython.core.display.Javascript object>"
      ]
     },
     "metadata": {},
     "output_type": "display_data"
    },
    {
     "data": {
      "text/markdown": [
       "<span style=\"color:#33cc99\">Solution:</span> \n",
       "```python\n",
       "\n",
       "# List all the tables in the \"chicago_crime\" dataset\n",
       "tables = list(client.list_tables(dataset))\n",
       "\n",
       "# Print number of tables in the dataset\n",
       "print(len(tables))\n",
       "\n",
       "num_tables = 1\n",
       "\n",
       "```"
      ],
      "text/plain": [
       "Solution: \n",
       "```python\n",
       "\n",
       "# List all the tables in the \"chicago_crime\" dataset\n",
       "tables = list(client.list_tables(dataset))\n",
       "\n",
       "# Print number of tables in the dataset\n",
       "print(len(tables))\n",
       "\n",
       "num_tables = 1\n",
       "\n",
       "```"
      ]
     },
     "metadata": {},
     "output_type": "display_data"
    }
   ],
   "source": [
    "q_1.hint()\n",
    "q_1.solution()"
   ]
  },
  {
   "cell_type": "markdown",
   "id": "c8c58c87",
   "metadata": {
    "papermill": {
     "duration": 0.005307,
     "end_time": "2022-12-13T13:54:58.227998",
     "exception": false,
     "start_time": "2022-12-13T13:54:58.222691",
     "status": "completed"
    },
    "tags": []
   },
   "source": [
    "### 2) Explore the table schema\n",
    "\n",
    "How many columns in the `crime` table have `TIMESTAMP` data?"
   ]
  },
  {
   "cell_type": "code",
   "execution_count": 6,
   "id": "d27c831b",
   "metadata": {
    "execution": {
     "iopub.execute_input": "2022-12-13T13:54:58.240990Z",
     "iopub.status.busy": "2022-12-13T13:54:58.240372Z",
     "iopub.status.idle": "2022-12-13T13:54:58.415679Z",
     "shell.execute_reply": "2022-12-13T13:54:58.414770Z"
    },
    "papermill": {
     "duration": 0.184749,
     "end_time": "2022-12-13T13:54:58.418184",
     "exception": false,
     "start_time": "2022-12-13T13:54:58.233435",
     "status": "completed"
    },
    "tags": []
   },
   "outputs": [
    {
     "name": "stdout",
     "output_type": "stream",
     "text": [
      "[SchemaField('unique_key', 'INTEGER', 'REQUIRED', None, (), None), SchemaField('case_number', 'STRING', 'NULLABLE', None, (), None), SchemaField('date', 'TIMESTAMP', 'NULLABLE', None, (), None), SchemaField('block', 'STRING', 'NULLABLE', None, (), None), SchemaField('iucr', 'STRING', 'NULLABLE', None, (), None), SchemaField('primary_type', 'STRING', 'NULLABLE', None, (), None), SchemaField('description', 'STRING', 'NULLABLE', None, (), None), SchemaField('location_description', 'STRING', 'NULLABLE', None, (), None), SchemaField('arrest', 'BOOLEAN', 'NULLABLE', None, (), None), SchemaField('domestic', 'BOOLEAN', 'NULLABLE', None, (), None), SchemaField('beat', 'INTEGER', 'NULLABLE', None, (), None), SchemaField('district', 'INTEGER', 'NULLABLE', None, (), None), SchemaField('ward', 'INTEGER', 'NULLABLE', None, (), None), SchemaField('community_area', 'INTEGER', 'NULLABLE', None, (), None), SchemaField('fbi_code', 'STRING', 'NULLABLE', None, (), None), SchemaField('x_coordinate', 'FLOAT', 'NULLABLE', None, (), None), SchemaField('y_coordinate', 'FLOAT', 'NULLABLE', None, (), None), SchemaField('year', 'INTEGER', 'NULLABLE', None, (), None), SchemaField('updated_on', 'TIMESTAMP', 'NULLABLE', None, (), None), SchemaField('latitude', 'FLOAT', 'NULLABLE', None, (), None), SchemaField('longitude', 'FLOAT', 'NULLABLE', None, (), None), SchemaField('location', 'STRING', 'NULLABLE', None, (), None)]\n"
     ]
    }
   ],
   "source": [
    "# Write the code to figure out the answer\n",
    "table_ref = dataset_ref.table(\"crime\")\n",
    "\n",
    "table = client.get_table(table_ref)\n",
    "\n",
    "print(table.schema)"
   ]
  },
  {
   "cell_type": "code",
   "execution_count": 7,
   "id": "2f6cc5f7",
   "metadata": {
    "execution": {
     "iopub.execute_input": "2022-12-13T13:54:58.431149Z",
     "iopub.status.busy": "2022-12-13T13:54:58.430769Z",
     "iopub.status.idle": "2022-12-13T13:54:58.438548Z",
     "shell.execute_reply": "2022-12-13T13:54:58.437559Z"
    },
    "papermill": {
     "duration": 0.016206,
     "end_time": "2022-12-13T13:54:58.440287",
     "exception": false,
     "start_time": "2022-12-13T13:54:58.424081",
     "status": "completed"
    },
    "tags": []
   },
   "outputs": [
    {
     "data": {
      "application/javascript": [
       "parent.postMessage({\"jupyterEvent\": \"custom.exercise_interaction\", \"data\": {\"outcomeType\": 1, \"valueTowardsCompletion\": 0.3333333333333333, \"interactionType\": 1, \"questionType\": 1, \"questionId\": \"2_CountTimestampFields\", \"learnToolsVersion\": \"0.3.4\", \"failureMessage\": \"\", \"exceptionClass\": \"\", \"trace\": \"\"}}, \"*\")"
      ],
      "text/plain": [
       "<IPython.core.display.Javascript object>"
      ]
     },
     "metadata": {},
     "output_type": "display_data"
    },
    {
     "data": {
      "text/markdown": [
       "<span style=\"color:#33cc33\">Correct</span>"
      ],
      "text/plain": [
       "Correct"
      ]
     },
     "metadata": {},
     "output_type": "display_data"
    }
   ],
   "source": [
    "num_timestamp_fields = 2 # Put your answer here\n",
    "\n",
    "# Check your answer\n",
    "q_2.check()"
   ]
  },
  {
   "cell_type": "markdown",
   "id": "7f20fbe7",
   "metadata": {
    "papermill": {
     "duration": 0.006309,
     "end_time": "2022-12-13T13:54:58.452726",
     "exception": false,
     "start_time": "2022-12-13T13:54:58.446417",
     "status": "completed"
    },
    "tags": []
   },
   "source": [
    "For a hint or the solution, uncomment the appropriate line below."
   ]
  },
  {
   "cell_type": "code",
   "execution_count": 8,
   "id": "0b33437d",
   "metadata": {
    "execution": {
     "iopub.execute_input": "2022-12-13T13:54:58.466579Z",
     "iopub.status.busy": "2022-12-13T13:54:58.466018Z",
     "iopub.status.idle": "2022-12-13T13:54:58.475895Z",
     "shell.execute_reply": "2022-12-13T13:54:58.474942Z"
    },
    "papermill": {
     "duration": 0.01915,
     "end_time": "2022-12-13T13:54:58.477868",
     "exception": false,
     "start_time": "2022-12-13T13:54:58.458718",
     "status": "completed"
    },
    "tags": []
   },
   "outputs": [
    {
     "data": {
      "application/javascript": [
       "parent.postMessage({\"jupyterEvent\": \"custom.exercise_interaction\", \"data\": {\"interactionType\": 2, \"questionType\": 1, \"questionId\": \"2_CountTimestampFields\", \"learnToolsVersion\": \"0.3.4\", \"valueTowardsCompletion\": 0.0, \"failureMessage\": \"\", \"exceptionClass\": \"\", \"trace\": \"\", \"outcomeType\": 4}}, \"*\")"
      ],
      "text/plain": [
       "<IPython.core.display.Javascript object>"
      ]
     },
     "metadata": {},
     "output_type": "display_data"
    },
    {
     "data": {
      "text/markdown": [
       "<span style=\"color:#3366cc\">Hint:</span> Begin by fetching the `crime` table. Then take a look at the table schema, and check the field type of each column.  How many times does `'TIMESTAMP'` appear?"
      ],
      "text/plain": [
       "Hint: Begin by fetching the `crime` table. Then take a look at the table schema, and check the field type of each column.  How many times does `'TIMESTAMP'` appear?"
      ]
     },
     "metadata": {},
     "output_type": "display_data"
    },
    {
     "data": {
      "application/javascript": [
       "parent.postMessage({\"jupyterEvent\": \"custom.exercise_interaction\", \"data\": {\"interactionType\": 3, \"questionType\": 1, \"questionId\": \"2_CountTimestampFields\", \"learnToolsVersion\": \"0.3.4\", \"valueTowardsCompletion\": 0.0, \"failureMessage\": \"\", \"exceptionClass\": \"\", \"trace\": \"\", \"outcomeType\": 4}}, \"*\")"
      ],
      "text/plain": [
       "<IPython.core.display.Javascript object>"
      ]
     },
     "metadata": {},
     "output_type": "display_data"
    },
    {
     "data": {
      "text/markdown": [
       "<span style=\"color:#33cc99\">Solution:</span> \n",
       "```python\n",
       "\n",
       "# Construct a reference to the \"crime\" table\n",
       "table_ref = dataset_ref.table(\"crime\")\n",
       "\n",
       "# API request - fetch the table\n",
       "table = client.get_table(table_ref)\n",
       "\n",
       "# Print information on all the columns in the \"crime\" table in the \"chicago_crime\" dataset\n",
       "print(table.schema)\n",
       "\n",
       "num_timestamp_fields = 2\n",
       "\n",
       "```"
      ],
      "text/plain": [
       "Solution: \n",
       "```python\n",
       "\n",
       "# Construct a reference to the \"crime\" table\n",
       "table_ref = dataset_ref.table(\"crime\")\n",
       "\n",
       "# API request - fetch the table\n",
       "table = client.get_table(table_ref)\n",
       "\n",
       "# Print information on all the columns in the \"crime\" table in the \"chicago_crime\" dataset\n",
       "print(table.schema)\n",
       "\n",
       "num_timestamp_fields = 2\n",
       "\n",
       "```"
      ]
     },
     "metadata": {},
     "output_type": "display_data"
    }
   ],
   "source": [
    "q_2.hint()\n",
    "q_2.solution()"
   ]
  },
  {
   "cell_type": "markdown",
   "id": "d28a58b1",
   "metadata": {
    "papermill": {
     "duration": 0.005984,
     "end_time": "2022-12-13T13:54:58.490439",
     "exception": false,
     "start_time": "2022-12-13T13:54:58.484455",
     "status": "completed"
    },
    "tags": []
   },
   "source": [
    "### 3) Create a crime map\n",
    "\n",
    "If you wanted to create a map with a dot at the location of each crime, what are the names of the two fields you likely need to pull out of the `crime` table to plot the crimes on a map?"
   ]
  },
  {
   "cell_type": "code",
   "execution_count": 9,
   "id": "144b0e2d",
   "metadata": {
    "execution": {
     "iopub.execute_input": "2022-12-13T13:54:58.504758Z",
     "iopub.status.busy": "2022-12-13T13:54:58.504118Z",
     "iopub.status.idle": "2022-12-13T13:54:58.509061Z",
     "shell.execute_reply": "2022-12-13T13:54:58.508099Z"
    },
    "papermill": {
     "duration": 0.014369,
     "end_time": "2022-12-13T13:54:58.510960",
     "exception": false,
     "start_time": "2022-12-13T13:54:58.496591",
     "status": "completed"
    },
    "tags": []
   },
   "outputs": [],
   "source": [
    "# Write the code here to explore the data so you can find the answer"
   ]
  },
  {
   "cell_type": "code",
   "execution_count": 10,
   "id": "af5a745c",
   "metadata": {
    "execution": {
     "iopub.execute_input": "2022-12-13T13:54:58.525796Z",
     "iopub.status.busy": "2022-12-13T13:54:58.525395Z",
     "iopub.status.idle": "2022-12-13T13:54:58.533960Z",
     "shell.execute_reply": "2022-12-13T13:54:58.532792Z"
    },
    "papermill": {
     "duration": 0.018272,
     "end_time": "2022-12-13T13:54:58.535854",
     "exception": false,
     "start_time": "2022-12-13T13:54:58.517582",
     "status": "completed"
    },
    "tags": []
   },
   "outputs": [
    {
     "data": {
      "application/javascript": [
       "parent.postMessage({\"jupyterEvent\": \"custom.exercise_interaction\", \"data\": {\"outcomeType\": 1, \"valueTowardsCompletion\": 0.3333333333333333, \"interactionType\": 1, \"questionType\": 2, \"questionId\": \"3_IdentifyFieldsForPlotting\", \"learnToolsVersion\": \"0.3.4\", \"failureMessage\": \"\", \"exceptionClass\": \"\", \"trace\": \"\"}}, \"*\")"
      ],
      "text/plain": [
       "<IPython.core.display.Javascript object>"
      ]
     },
     "metadata": {},
     "output_type": "display_data"
    },
    {
     "data": {
      "text/markdown": [
       "<span style=\"color:#33cc33\">Correct</span>"
      ],
      "text/plain": [
       "Correct"
      ]
     },
     "metadata": {},
     "output_type": "display_data"
    }
   ],
   "source": [
    "fields_for_plotting = ['latitude', 'longitude'] # Put your answers here\n",
    "\n",
    "# Check your answer\n",
    "q_3.check()"
   ]
  },
  {
   "cell_type": "markdown",
   "id": "ab6342a5",
   "metadata": {
    "papermill": {
     "duration": 0.006047,
     "end_time": "2022-12-13T13:54:58.548461",
     "exception": false,
     "start_time": "2022-12-13T13:54:58.542414",
     "status": "completed"
    },
    "tags": []
   },
   "source": [
    "For a hint or the solution, uncomment the appropriate line below."
   ]
  },
  {
   "cell_type": "code",
   "execution_count": 11,
   "id": "87c74078",
   "metadata": {
    "execution": {
     "iopub.execute_input": "2022-12-13T13:54:58.562886Z",
     "iopub.status.busy": "2022-12-13T13:54:58.562523Z",
     "iopub.status.idle": "2022-12-13T13:54:58.574882Z",
     "shell.execute_reply": "2022-12-13T13:54:58.574085Z"
    },
    "papermill": {
     "duration": 0.021888,
     "end_time": "2022-12-13T13:54:58.576736",
     "exception": false,
     "start_time": "2022-12-13T13:54:58.554848",
     "status": "completed"
    },
    "tags": []
   },
   "outputs": [
    {
     "data": {
      "application/javascript": [
       "parent.postMessage({\"jupyterEvent\": \"custom.exercise_interaction\", \"data\": {\"interactionType\": 2, \"questionType\": 2, \"questionId\": \"3_IdentifyFieldsForPlotting\", \"learnToolsVersion\": \"0.3.4\", \"valueTowardsCompletion\": 0.0, \"failureMessage\": \"\", \"exceptionClass\": \"\", \"trace\": \"\", \"outcomeType\": 4}}, \"*\")"
      ],
      "text/plain": [
       "<IPython.core.display.Javascript object>"
      ]
     },
     "metadata": {},
     "output_type": "display_data"
    },
    {
     "data": {
      "text/markdown": [
       "<span style=\"color:#3366cc\">Hint:</span> Look at the table schema.  There are a couple options, but two of the fields are things commonly used to plot on maps. Both are `'FLOAT'` types. Use quotes around the field names in your answer."
      ],
      "text/plain": [
       "Hint: Look at the table schema.  There are a couple options, but two of the fields are things commonly used to plot on maps. Both are `'FLOAT'` types. Use quotes around the field names in your answer."
      ]
     },
     "metadata": {},
     "output_type": "display_data"
    },
    {
     "data": {
      "application/javascript": [
       "parent.postMessage({\"jupyterEvent\": \"custom.exercise_interaction\", \"data\": {\"interactionType\": 3, \"questionType\": 2, \"questionId\": \"3_IdentifyFieldsForPlotting\", \"learnToolsVersion\": \"0.3.4\", \"valueTowardsCompletion\": 0.0, \"failureMessage\": \"\", \"exceptionClass\": \"\", \"trace\": \"\", \"outcomeType\": 4}}, \"*\")"
      ],
      "text/plain": [
       "<IPython.core.display.Javascript object>"
      ]
     },
     "metadata": {},
     "output_type": "display_data"
    },
    {
     "data": {
      "text/markdown": [
       "<span style=\"color:#33cc99\">Solution:</span> \n",
       "```python\n",
       "fields_for_plotting = ['latitude', 'longitude']\n",
       "```"
      ],
      "text/plain": [
       "Solution: \n",
       "```python\n",
       "fields_for_plotting = ['latitude', 'longitude']\n",
       "```"
      ]
     },
     "metadata": {},
     "output_type": "display_data"
    }
   ],
   "source": [
    "q_3.hint()\n",
    "q_3.solution()"
   ]
  },
  {
   "cell_type": "markdown",
   "id": "cd06d3c1",
   "metadata": {
    "papermill": {
     "duration": 0.006767,
     "end_time": "2022-12-13T13:54:58.590602",
     "exception": false,
     "start_time": "2022-12-13T13:54:58.583835",
     "status": "completed"
    },
    "tags": []
   },
   "source": [
    "Thinking about the question above, there are a few columns that appear to have geographic data. Look at a few values (with the `list_rows()` command) to see if you can determine their relationship.  Two columns will still be hard to interpret. But it should be obvious how the `location` column relates to `latitude` and `longitude`."
   ]
  },
  {
   "cell_type": "code",
   "execution_count": 12,
   "id": "27e81bdc",
   "metadata": {
    "execution": {
     "iopub.execute_input": "2022-12-13T13:54:58.606241Z",
     "iopub.status.busy": "2022-12-13T13:54:58.605897Z",
     "iopub.status.idle": "2022-12-13T13:54:58.609682Z",
     "shell.execute_reply": "2022-12-13T13:54:58.608582Z"
    },
    "papermill": {
     "duration": 0.014096,
     "end_time": "2022-12-13T13:54:58.611721",
     "exception": false,
     "start_time": "2022-12-13T13:54:58.597625",
     "status": "completed"
    },
    "tags": []
   },
   "outputs": [],
   "source": [
    "# Scratch space for your code"
   ]
  },
  {
   "cell_type": "markdown",
   "id": "f01036d1",
   "metadata": {
    "papermill": {
     "duration": 0.007232,
     "end_time": "2022-12-13T13:54:58.626141",
     "exception": false,
     "start_time": "2022-12-13T13:54:58.618909",
     "status": "completed"
    },
    "tags": []
   },
   "source": [
    "# Keep going\n",
    "\n",
    "You've looked at the schema, but you haven't yet done anything exciting with the data itself. Things get more interesting when you get to the data, so keep going to **[write your first SQL query](https://www.kaggle.com/dansbecker/select-from-where).**"
   ]
  },
  {
   "cell_type": "markdown",
   "id": "ae6841a9",
   "metadata": {
    "papermill": {
     "duration": 0.007405,
     "end_time": "2022-12-13T13:54:58.641583",
     "exception": false,
     "start_time": "2022-12-13T13:54:58.634178",
     "status": "completed"
    },
    "tags": []
   },
   "source": [
    "---\n",
    "\n",
    "\n",
    "\n",
    "\n",
    "*Have questions or comments? Visit the [course discussion forum](https://www.kaggle.com/learn/intro-to-sql/discussion) to chat with other learners.*"
   ]
  }
 ],
 "metadata": {
  "kernelspec": {
   "display_name": "Python 3",
   "language": "python",
   "name": "python3"
  },
  "language_info": {
   "codemirror_mode": {
    "name": "ipython",
    "version": 3
   },
   "file_extension": ".py",
   "mimetype": "text/x-python",
   "name": "python",
   "nbconvert_exporter": "python",
   "pygments_lexer": "ipython3",
   "version": "3.7.12"
  },
  "papermill": {
   "default_parameters": {},
   "duration": 9.719601,
   "end_time": "2022-12-13T13:54:59.373318",
   "environment_variables": {},
   "exception": null,
   "input_path": "__notebook__.ipynb",
   "output_path": "__notebook__.ipynb",
   "parameters": {},
   "start_time": "2022-12-13T13:54:49.653717",
   "version": "2.3.4"
  }
 },
 "nbformat": 4,
 "nbformat_minor": 5
}
